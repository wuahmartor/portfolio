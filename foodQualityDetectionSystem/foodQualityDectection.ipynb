{
 "cells": [
  {
 
   ]
  },
  {
   "cell_type": "code"
   "execution_count": 60,
   "id": "45f0f1d5-590b-49a2-8d28-721f44fbbc2b",
   "metadata": {},
   "outputs": [],
   "source": [
    "import pandas as pd\n",
    "from sklearn.preprocessing import StandardScaler\n",
    "from sklearn.linear_model import LinearRegression\n",
    "from sklearn.feature_selection import SelectKBest, mutual_info_regression\n",
    "import matplotlib.pyplot as plt\n",
    "import seaborn as sns\n",
    "from sklearn.model_selection import train_test_split\n",
    "from sklearn.metrics import accuracy_score\n",
    "# import models \n",
    "from sklearn.neighbors import KNeighborsClassifier\n",
    "from sklearn.model_selection import cross_val_score\n",
    "from sklearn.model_selection import GridSearchCV\n",
    "from sklearn.linear_model import LogisticRegression\n",
    "from sklearn.ensemble import RandomForestClassifier\n",
    "from sklearn.metrics import classification_report\n",
    "from sklearn.svm import SVC\n",
    "from sklearn import svm\n",
    "from sklearn import metrics\n",
    "from sklearn.metrics import roc_curve, auc\n",
    "from sklearn.metrics import confusion_matrix, ConfusionMatrixDisplay\n",
    "\n",
    "import warnings"
   ]
  },
  {
   "cell_type": "markdown",
   "id": "5458bbf3-5fd2-41c7-ad3f-191b63791478",
   "metadata": {},
   "source": [
    "### Milestone 4\n"
   ]
  },
  {
   "cell_type": "code",
   "execution_count": 2,
   "id": "b0762c38-bfcf-417b-97e0-156f051405cb",
   "metadata": {},
   "outputs": [],
   "source": [
    "df = pd.read_csv('Shelf_life_data.csv')\n",
    "warnings.filterwarnings('ignore')"
   ]
  },
  {
   "cell_type": "markdown",
   "id": "3be50836-3510-48fb-8207-8f9ca3ca992a",
   "metadata": {},
   "source": [
    "## DATA PREPARATION PHASE"
   ]
  },
  {
   "cell_type": "code",
   "execution_count": 3,
   "id": "96e74115-c41b-49e8-80b8-469a7781e502",
   "metadata": {},
   "outputs": [
    {
     "name": "stdout",
     "output_type": "stream",
     "text": [
      "Missing data: True\n",
      "Duplicate data: False\n"
     ]
    }
   ],
   "source": [
    "# check for any missing data in the dataset\n",
    "\n",
    "df_missing = df.isnull().any().any()\n",
    "print(f'Missing data: {df_missing}')\n",
    "df_duplicate = df.duplicated().any().any()\n",
    "print(f'Duplicate data: {df_duplicate}')"
   ]
  },
  {
   "cell_type": "code",
   "execution_count": 4,
   "id": "0f6b6ef2-3d50-46f3-aafe-efea7d204a58",
   "metadata": {},
   "outputs": [
    {
     "name": "stdout",
     "output_type": "stream",
     "text": [
      "Columns with missing values: ['Purge']\n"
     ]
    }
   ],
   "source": [
    "# let's identify columns with at least one missing value\n",
    "columns_with_missing_values = df.columns[df.isna().any()]\n",
    "print(\"Columns with missing values:\", columns_with_missing_values.tolist())\n"
   ]
  },
  {
   "cell_type": "code",
   "execution_count": 5,
   "id": "5c4127fe-b00c-4abd-b21e-a7590f8e62e4",
   "metadata": {},
   "outputs": [
    {
     "data": {
      "text/plain": [
       "4834"
      ]
     },
     "execution_count": 5,
     "metadata": {},
     "output_type": "execute_result"
    }
   ],
   "source": [
    "# need to know total missing values\n",
    "df['Purge'].isna().sum() # need to drop Purge since it has this significant missing data"
   ]
  },
  {
   "cell_type": "code",
   "execution_count": 6,
   "id": "7e173fc8-bbc7-4430-8988-f1ab246aeaba",
   "metadata": {},
   "outputs": [
    {
     "name": "stdout",
     "output_type": "stream",
     "text": [
      "<class 'pandas.core.frame.DataFrame'>\n",
      "RangeIndex: 7495 entries, 0 to 7494\n",
      "Data columns (total 17 columns):\n",
      " #   Column               Non-Null Count  Dtype  \n",
      "---  ------               --------------  -----  \n",
      " 0   RecordNumber         7495 non-null   int64  \n",
      " 1   Date                 7495 non-null   object \n",
      " 2   Time                 7495 non-null   object \n",
      " 3   Location             7495 non-null   object \n",
      " 4   Type                 7495 non-null   object \n",
      " 5   Product              7495 non-null   object \n",
      " 6   Production_Date      7495 non-null   object \n",
      " 7   Sample_Date          7495 non-null   object \n",
      " 8   Age                  7495 non-null   int64  \n",
      " 9   TPC_Value            7495 non-null   float64\n",
      " 10  Packaging_Condition  7495 non-null   object \n",
      " 11  Purge                2661 non-null   object \n",
      " 12  Odor                 7495 non-null   object \n",
      " 13  Color                7495 non-null   object \n",
      " 14  Surface              7495 non-null   object \n",
      " 15  Product_Condition    7495 non-null   object \n",
      " 16  RowNum               7495 non-null   int64  \n",
      "dtypes: float64(1), int64(3), object(13)\n",
      "memory usage: 995.6+ KB\n"
     ]
    }
   ],
   "source": [
    "df.info()"
   ]
  },
  {
   "cell_type": "code",
   "execution_count": 7,
   "id": "300acb72-91f5-4bcc-9bec-82eaee0bd64c",
   "metadata": {},
   "outputs": [],
   "source": [
    "# Select potential columns \n",
    "df_new = df[['Location','Type','Packaging_Condition','Odor','Color','Surface','Product_Condition','TPC_Value','Age']]"
   ]
  },
  {
   "cell_type": "code",
   "execution_count": 8,
   "id": "02a4a9da-1aa8-401a-94b2-84ed2d51d53f",
   "metadata": {},
   "outputs": [
    {
     "data": {
      "text/plain": [
       "Location                 6\n",
       "Type                     2\n",
       "Packaging_Condition      2\n",
       "Odor                     5\n",
       "Color                    5\n",
       "Surface                  4\n",
       "Product_Condition        2\n",
       "TPC_Value              625\n",
       "Age                     45\n",
       "dtype: int64"
      ]
     },
     "execution_count": 8,
     "metadata": {},
     "output_type": "execute_result"
    }
   ],
   "source": [
    "df_new.nunique()"
   ]
  },
  {
   "cell_type": "code",
   "execution_count": 9,
   "id": "334cd064-f479-45c1-a5b3-a36c39730286",
   "metadata": {},
   "outputs": [
    {
     "data": {
      "text/html": [
       "<div>\n",
       "<style scoped>\n",
       "    .dataframe tbody tr th:only-of-type {\n",
       "        vertical-align: middle;\n",
       "    }\n",
       "\n",
       "    .dataframe tbody tr th {\n",
       "        vertical-align: top;\n",
       "    }\n",
       "\n",
       "    .dataframe thead th {\n",
       "        text-align: right;\n",
       "    }\n",
       "</style>\n",
       "<table border=\"1\" class=\"dataframe\">\n",
       "  <thead>\n",
       "    <tr style=\"text-align: right;\">\n",
       "      <th></th>\n",
       "      <th>Location</th>\n",
       "      <th>Type</th>\n",
       "      <th>Packaging_Condition</th>\n",
       "      <th>Odor</th>\n",
       "      <th>Color</th>\n",
       "      <th>Surface</th>\n",
       "      <th>Product_Condition</th>\n",
       "      <th>TPC_Value</th>\n",
       "      <th>Age</th>\n",
       "    </tr>\n",
       "  </thead>\n",
       "  <tbody>\n",
       "    <tr>\n",
       "      <th>0</th>\n",
       "      <td>Plant A</td>\n",
       "      <td>Boneless</td>\n",
       "      <td>Acceptable</td>\n",
       "      <td>Sour</td>\n",
       "      <td>Pale</td>\n",
       "      <td>Slimy</td>\n",
       "      <td>Not Acceptable</td>\n",
       "      <td>3.20</td>\n",
       "      <td>41</td>\n",
       "    </tr>\n",
       "    <tr>\n",
       "      <th>1</th>\n",
       "      <td>Plant A</td>\n",
       "      <td>Bone-In</td>\n",
       "      <td>Leaker</td>\n",
       "      <td>Sour</td>\n",
       "      <td>Pale</td>\n",
       "      <td>Slimy</td>\n",
       "      <td>Not Acceptable</td>\n",
       "      <td>6.72</td>\n",
       "      <td>41</td>\n",
       "    </tr>\n",
       "    <tr>\n",
       "      <th>2</th>\n",
       "      <td>Plant A</td>\n",
       "      <td>Boneless</td>\n",
       "      <td>Leaker</td>\n",
       "      <td>Sour</td>\n",
       "      <td>Pale</td>\n",
       "      <td>Slimy</td>\n",
       "      <td>Not Acceptable</td>\n",
       "      <td>7.36</td>\n",
       "      <td>41</td>\n",
       "    </tr>\n",
       "    <tr>\n",
       "      <th>3</th>\n",
       "      <td>Plant A</td>\n",
       "      <td>Boneless</td>\n",
       "      <td>Leaker</td>\n",
       "      <td>Sour</td>\n",
       "      <td>Pale</td>\n",
       "      <td>Slimy</td>\n",
       "      <td>Not Acceptable</td>\n",
       "      <td>6.61</td>\n",
       "      <td>41</td>\n",
       "    </tr>\n",
       "    <tr>\n",
       "      <th>4</th>\n",
       "      <td>Plant B</td>\n",
       "      <td>Boneless</td>\n",
       "      <td>Acceptable</td>\n",
       "      <td>Off Condition</td>\n",
       "      <td>Good</td>\n",
       "      <td>Slimy</td>\n",
       "      <td>Not Acceptable</td>\n",
       "      <td>3.43</td>\n",
       "      <td>40</td>\n",
       "    </tr>\n",
       "  </tbody>\n",
       "</table>\n",
       "</div>"
      ],
      "text/plain": [
       "  Location      Type Packaging_Condition           Odor Color Surface  \\\n",
       "0  Plant A  Boneless          Acceptable           Sour  Pale   Slimy   \n",
       "1  Plant A   Bone-In              Leaker           Sour  Pale   Slimy   \n",
       "2  Plant A  Boneless              Leaker           Sour  Pale   Slimy   \n",
       "3  Plant A  Boneless              Leaker           Sour  Pale   Slimy   \n",
       "4  Plant B  Boneless          Acceptable  Off Condition  Good   Slimy   \n",
       "\n",
       "  Product_Condition  TPC_Value  Age  \n",
       "0    Not Acceptable       3.20   41  \n",
       "1    Not Acceptable       6.72   41  \n",
       "2    Not Acceptable       7.36   41  \n",
       "3    Not Acceptable       6.61   41  \n",
       "4    Not Acceptable       3.43   40  "
      ]
     },
     "execution_count": 9,
     "metadata": {},
     "output_type": "execute_result"
    }
   ],
   "source": [
    "df_new.head()"
   ]
  },
  {
   "cell_type": "code",
   "execution_count": 10,
   "id": "d2e53d70-745d-4c9e-b74e-cfc534a37067",
   "metadata": {},
   "outputs": [],
   "source": [
    "# drop Location \n",
    "df_new.drop(columns=['Location'], inplace=True)\n"
   ]
  },
  {
   "cell_type": "code",
   "execution_count": 11,
   "id": "6c6d2ab3-a1f6-45aa-846c-c1fa2a277949",
   "metadata": {},
   "outputs": [
    {
     "data": {
      "text/html": [
       "<div>\n",
       "<style scoped>\n",
       "    .dataframe tbody tr th:only-of-type {\n",
       "        vertical-align: middle;\n",
       "    }\n",
       "\n",
       "    .dataframe tbody tr th {\n",
       "        vertical-align: top;\n",
       "    }\n",
       "\n",
       "    .dataframe thead th {\n",
       "        text-align: right;\n",
       "    }\n",
       "</style>\n",
       "<table border=\"1\" class=\"dataframe\">\n",
       "  <thead>\n",
       "    <tr style=\"text-align: right;\">\n",
       "      <th></th>\n",
       "      <th>Type</th>\n",
       "      <th>Packaging_Condition</th>\n",
       "      <th>Odor</th>\n",
       "      <th>Color</th>\n",
       "      <th>Surface</th>\n",
       "      <th>Product_Condition</th>\n",
       "      <th>TPC_Value</th>\n",
       "      <th>Age</th>\n",
       "    </tr>\n",
       "  </thead>\n",
       "  <tbody>\n",
       "    <tr>\n",
       "      <th>0</th>\n",
       "      <td>Boneless</td>\n",
       "      <td>Acceptable</td>\n",
       "      <td>Sour</td>\n",
       "      <td>Pale</td>\n",
       "      <td>Slimy</td>\n",
       "      <td>Not Acceptable</td>\n",
       "      <td>3.20</td>\n",
       "      <td>41</td>\n",
       "    </tr>\n",
       "    <tr>\n",
       "      <th>1</th>\n",
       "      <td>Bone-In</td>\n",
       "      <td>Leaker</td>\n",
       "      <td>Sour</td>\n",
       "      <td>Pale</td>\n",
       "      <td>Slimy</td>\n",
       "      <td>Not Acceptable</td>\n",
       "      <td>6.72</td>\n",
       "      <td>41</td>\n",
       "    </tr>\n",
       "    <tr>\n",
       "      <th>2</th>\n",
       "      <td>Boneless</td>\n",
       "      <td>Leaker</td>\n",
       "      <td>Sour</td>\n",
       "      <td>Pale</td>\n",
       "      <td>Slimy</td>\n",
       "      <td>Not Acceptable</td>\n",
       "      <td>7.36</td>\n",
       "      <td>41</td>\n",
       "    </tr>\n",
       "    <tr>\n",
       "      <th>3</th>\n",
       "      <td>Boneless</td>\n",
       "      <td>Leaker</td>\n",
       "      <td>Sour</td>\n",
       "      <td>Pale</td>\n",
       "      <td>Slimy</td>\n",
       "      <td>Not Acceptable</td>\n",
       "      <td>6.61</td>\n",
       "      <td>41</td>\n",
       "    </tr>\n",
       "    <tr>\n",
       "      <th>4</th>\n",
       "      <td>Boneless</td>\n",
       "      <td>Acceptable</td>\n",
       "      <td>Off Condition</td>\n",
       "      <td>Good</td>\n",
       "      <td>Slimy</td>\n",
       "      <td>Not Acceptable</td>\n",
       "      <td>3.43</td>\n",
       "      <td>40</td>\n",
       "    </tr>\n",
       "  </tbody>\n",
       "</table>\n",
       "</div>"
      ],
      "text/plain": [
       "       Type Packaging_Condition           Odor Color Surface  \\\n",
       "0  Boneless          Acceptable           Sour  Pale   Slimy   \n",
       "1   Bone-In              Leaker           Sour  Pale   Slimy   \n",
       "2  Boneless              Leaker           Sour  Pale   Slimy   \n",
       "3  Boneless              Leaker           Sour  Pale   Slimy   \n",
       "4  Boneless          Acceptable  Off Condition  Good   Slimy   \n",
       "\n",
       "  Product_Condition  TPC_Value  Age  \n",
       "0    Not Acceptable       3.20   41  \n",
       "1    Not Acceptable       6.72   41  \n",
       "2    Not Acceptable       7.36   41  \n",
       "3    Not Acceptable       6.61   41  \n",
       "4    Not Acceptable       3.43   40  "
      ]
     },
     "execution_count": 11,
     "metadata": {},
     "output_type": "execute_result"
    }
   ],
   "source": [
    "df_new.head()"
   ]
  },
  {
   "cell_type": "code",
   "execution_count": null,
   "id": "aeb96c9b-8c38-4b49-959a-1b784470fc0c",
   "metadata": {},
   "outputs": [],
   "source": []
  },
  {
   "cell_type": "code",
   "execution_count": 12,
   "id": "afd83f98-c897-404e-839e-f4e3e1cdc2f1",
   "metadata": {},
   "outputs": [],
   "source": [
    "# label Packaging condition: Acceptable as 1 and Leaker as 0\n",
    "df_new['Packaging_Condition']=df_new['Packaging_Condition'].map({'Acceptable':1, 'Leaker':0})"
   ]
  },
  {
   "cell_type": "code",
   "execution_count": 13,
   "id": "50fa477f-9938-426c-af5f-e888a2eab8db",
   "metadata": {},
   "outputs": [],
   "source": [
    "# label Bone-In as 1 and Boneless as 0\n",
    "df_new['Type']=df_new['Type'].map({'Bone-In':1, 'Boneless':0})"
   ]
  },
  {
   "cell_type": "code",
   "execution_count": 14,
   "id": "9921e537-fccb-4781-b302-66379982e412",
   "metadata": {},
   "outputs": [],
   "source": [
    "# label Product Condition: Acceptable as 0 and Not Acceptable as 1 ( bad product is of interest)\n",
    "df_new['Product_Condition'] = df_new['Product_Condition'].map({'Acceptable': 0, 'Not Acceptable': 1})"
   ]
  },
  {
   "cell_type": "code",
   "execution_count": 15,
   "id": "f0de13c4-8a65-449e-8067-7275d54019d1",
   "metadata": {},
   "outputs": [
    {
     "data": {
      "text/html": [
       "<div>\n",
       "<style scoped>\n",
       "    .dataframe tbody tr th:only-of-type {\n",
       "        vertical-align: middle;\n",
       "    }\n",
       "\n",
       "    .dataframe tbody tr th {\n",
       "        vertical-align: top;\n",
       "    }\n",
       "\n",
       "    .dataframe thead th {\n",
       "        text-align: right;\n",
       "    }\n",
       "</style>\n",
       "<table border=\"1\" class=\"dataframe\">\n",
       "  <thead>\n",
       "    <tr style=\"text-align: right;\">\n",
       "      <th></th>\n",
       "      <th>Type</th>\n",
       "      <th>Packaging_Condition</th>\n",
       "      <th>Odor</th>\n",
       "      <th>Color</th>\n",
       "      <th>Surface</th>\n",
       "      <th>Product_Condition</th>\n",
       "      <th>TPC_Value</th>\n",
       "      <th>Age</th>\n",
       "    </tr>\n",
       "  </thead>\n",
       "  <tbody>\n",
       "    <tr>\n",
       "      <th>0</th>\n",
       "      <td>0</td>\n",
       "      <td>1</td>\n",
       "      <td>Sour</td>\n",
       "      <td>Pale</td>\n",
       "      <td>Slimy</td>\n",
       "      <td>1</td>\n",
       "      <td>3.20</td>\n",
       "      <td>41</td>\n",
       "    </tr>\n",
       "    <tr>\n",
       "      <th>1</th>\n",
       "      <td>1</td>\n",
       "      <td>0</td>\n",
       "      <td>Sour</td>\n",
       "      <td>Pale</td>\n",
       "      <td>Slimy</td>\n",
       "      <td>1</td>\n",
       "      <td>6.72</td>\n",
       "      <td>41</td>\n",
       "    </tr>\n",
       "    <tr>\n",
       "      <th>2</th>\n",
       "      <td>0</td>\n",
       "      <td>0</td>\n",
       "      <td>Sour</td>\n",
       "      <td>Pale</td>\n",
       "      <td>Slimy</td>\n",
       "      <td>1</td>\n",
       "      <td>7.36</td>\n",
       "      <td>41</td>\n",
       "    </tr>\n",
       "    <tr>\n",
       "      <th>3</th>\n",
       "      <td>0</td>\n",
       "      <td>0</td>\n",
       "      <td>Sour</td>\n",
       "      <td>Pale</td>\n",
       "      <td>Slimy</td>\n",
       "      <td>1</td>\n",
       "      <td>6.61</td>\n",
       "      <td>41</td>\n",
       "    </tr>\n",
       "    <tr>\n",
       "      <th>4</th>\n",
       "      <td>0</td>\n",
       "      <td>1</td>\n",
       "      <td>Off Condition</td>\n",
       "      <td>Good</td>\n",
       "      <td>Slimy</td>\n",
       "      <td>1</td>\n",
       "      <td>3.43</td>\n",
       "      <td>40</td>\n",
       "    </tr>\n",
       "  </tbody>\n",
       "</table>\n",
       "</div>"
      ],
      "text/plain": [
       "   Type  Packaging_Condition           Odor Color Surface  Product_Condition  \\\n",
       "0     0                    1           Sour  Pale   Slimy                  1   \n",
       "1     1                    0           Sour  Pale   Slimy                  1   \n",
       "2     0                    0           Sour  Pale   Slimy                  1   \n",
       "3     0                    0           Sour  Pale   Slimy                  1   \n",
       "4     0                    1  Off Condition  Good   Slimy                  1   \n",
       "\n",
       "   TPC_Value  Age  \n",
       "0       3.20   41  \n",
       "1       6.72   41  \n",
       "2       7.36   41  \n",
       "3       6.61   41  \n",
       "4       3.43   40  "
      ]
     },
     "execution_count": 15,
     "metadata": {},
     "output_type": "execute_result"
    }
   ],
   "source": [
    "df_new.head()"
   ]
  },
  {
   "cell_type": "code",
   "execution_count": 16,
   "id": "4a1714e6-6e8d-4d1a-a7aa-e67586bc7bb9",
   "metadata": {},
   "outputs": [
    {
     "data": {
      "text/plain": [
       "Odor\n",
       "Good             5986\n",
       "Sour              631\n",
       "Off Condition     389\n",
       "Rotten Egg        252\n",
       "Putrid            237\n",
       "Name: count, dtype: int64"
      ]
     },
     "execution_count": 16,
     "metadata": {},
     "output_type": "execute_result"
    }
   ],
   "source": [
    "df_new['Odor'].value_counts()"
   ]
  },
  {
   "cell_type": "code",
   "execution_count": 17,
   "id": "e6e4f0ae-a314-42b9-8307-d9495a972828",
   "metadata": {},
   "outputs": [
    {
     "data": {
      "text/plain": [
       "Color\n",
       "Good           6366\n",
       "Pale            677\n",
       "Red / Brown     359\n",
       "Brown            91\n",
       "Green             2\n",
       "Name: count, dtype: int64"
      ]
     },
     "execution_count": 17,
     "metadata": {},
     "output_type": "execute_result"
    }
   ],
   "source": [
    "df_new['Color'].value_counts()"
   ]
  },
  {
   "cell_type": "code",
   "execution_count": 18,
   "id": "18dc4f6a-41d8-4f12-8494-6b37a604f525",
   "metadata": {},
   "outputs": [
    {
     "data": {
      "text/plain": [
       "Surface\n",
       "Good     6424\n",
       "Slimy     616\n",
       "Tacky     332\n",
       "Dry       123\n",
       "Name: count, dtype: int64"
      ]
     },
     "execution_count": 18,
     "metadata": {},
     "output_type": "execute_result"
    }
   ],
   "source": [
    "df_new['Surface'].value_counts()"
   ]
  },
  {
   "cell_type": "code",
   "execution_count": null,
   "id": "f15a9271-7960-4b6f-bda9-c4a6df4b9e9e",
   "metadata": {},
   "outputs": [],
   "source": []
  },
  {
   "cell_type": "code",
   "execution_count": 19,
   "id": "e6efdce1-ba5c-4f65-ad24-58455a43f61c",
   "metadata": {},
   "outputs": [
    {
     "data": {
      "text/html": [
       "<div>\n",
       "<style scoped>\n",
       "    .dataframe tbody tr th:only-of-type {\n",
       "        vertical-align: middle;\n",
       "    }\n",
       "\n",
       "    .dataframe tbody tr th {\n",
       "        vertical-align: top;\n",
       "    }\n",
       "\n",
       "    .dataframe thead th {\n",
       "        text-align: right;\n",
       "    }\n",
       "</style>\n",
       "<table border=\"1\" class=\"dataframe\">\n",
       "  <thead>\n",
       "    <tr style=\"text-align: right;\">\n",
       "      <th></th>\n",
       "      <th>Type</th>\n",
       "      <th>Packaging_Condition</th>\n",
       "      <th>Odor</th>\n",
       "      <th>Color</th>\n",
       "      <th>Surface</th>\n",
       "      <th>Product_Condition</th>\n",
       "      <th>TPC_Value</th>\n",
       "      <th>Age</th>\n",
       "    </tr>\n",
       "  </thead>\n",
       "  <tbody>\n",
       "    <tr>\n",
       "      <th>0</th>\n",
       "      <td>0</td>\n",
       "      <td>1</td>\n",
       "      <td>Sour</td>\n",
       "      <td>Pale</td>\n",
       "      <td>Slimy</td>\n",
       "      <td>1</td>\n",
       "      <td>3.20</td>\n",
       "      <td>41</td>\n",
       "    </tr>\n",
       "    <tr>\n",
       "      <th>1</th>\n",
       "      <td>1</td>\n",
       "      <td>0</td>\n",
       "      <td>Sour</td>\n",
       "      <td>Pale</td>\n",
       "      <td>Slimy</td>\n",
       "      <td>1</td>\n",
       "      <td>6.72</td>\n",
       "      <td>41</td>\n",
       "    </tr>\n",
       "    <tr>\n",
       "      <th>2</th>\n",
       "      <td>0</td>\n",
       "      <td>0</td>\n",
       "      <td>Sour</td>\n",
       "      <td>Pale</td>\n",
       "      <td>Slimy</td>\n",
       "      <td>1</td>\n",
       "      <td>7.36</td>\n",
       "      <td>41</td>\n",
       "    </tr>\n",
       "    <tr>\n",
       "      <th>3</th>\n",
       "      <td>0</td>\n",
       "      <td>0</td>\n",
       "      <td>Sour</td>\n",
       "      <td>Pale</td>\n",
       "      <td>Slimy</td>\n",
       "      <td>1</td>\n",
       "      <td>6.61</td>\n",
       "      <td>41</td>\n",
       "    </tr>\n",
       "    <tr>\n",
       "      <th>4</th>\n",
       "      <td>0</td>\n",
       "      <td>1</td>\n",
       "      <td>Off Condition</td>\n",
       "      <td>Good</td>\n",
       "      <td>Slimy</td>\n",
       "      <td>1</td>\n",
       "      <td>3.43</td>\n",
       "      <td>40</td>\n",
       "    </tr>\n",
       "  </tbody>\n",
       "</table>\n",
       "</div>"
      ],
      "text/plain": [
       "   Type  Packaging_Condition           Odor Color Surface  Product_Condition  \\\n",
       "0     0                    1           Sour  Pale   Slimy                  1   \n",
       "1     1                    0           Sour  Pale   Slimy                  1   \n",
       "2     0                    0           Sour  Pale   Slimy                  1   \n",
       "3     0                    0           Sour  Pale   Slimy                  1   \n",
       "4     0                    1  Off Condition  Good   Slimy                  1   \n",
       "\n",
       "   TPC_Value  Age  \n",
       "0       3.20   41  \n",
       "1       6.72   41  \n",
       "2       7.36   41  \n",
       "3       6.61   41  \n",
       "4       3.43   40  "
      ]
     },
     "execution_count": 19,
     "metadata": {},
     "output_type": "execute_result"
    }
   ],
   "source": [
    "df_new.head()"
   ]
  },
  {
   "cell_type": "code",
   "execution_count": 20,
   "id": "fed3206d-6d6d-4b20-b36c-ab10cde2fbfb",
   "metadata": {},
   "outputs": [
    {
     "data": {
      "image/png": "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",
      "text/plain": [
       "<Figure size 1000x600 with 1 Axes>"
      ]
     },
     "metadata": {},
     "output_type": "display_data"
    }
   ],
   "source": [
    "# visualize some distributions \n",
    "\n",
    "plt.figure(figsize=(10, 6))  # Set the figure size for better visibility\n",
    "sns.boxplot(data=df_new[['TPC_Value','Age']])\n",
    "plt.title('Box Plot of TPC_Value and Age')\n",
    "plt.ylabel('Values')\n",
    "plt.show()\n"
   ]
  },
  {
   "cell_type": "raw",
   "id": "244bed1d-b512-4513-b378-d2287164764b",
   "metadata": {},
   "source": [
    "Analysis:\n",
    "Box Plot of TPC_Value and Age\n",
    "The above box plot provides a visual summary of the distribution for the Total Plate Count (TPC) value and the age of the products. \n",
    "Key observations include:\n",
    "\n",
    "TPC_Value has a right-skewed distribution given that the median is closer to the lower quartile and there are potential outliers on the higher end.\n",
    "\n",
    "Similar to TPC_Value, Age also appears to be right-skewed with several high age outliers, indicating some products are significantly older than the majority."
   ]
  },
  {
   "cell_type": "code",
   "execution_count": 21,
   "id": "d7da480a-4ee4-4c62-89ab-77fe9cf92a70",
   "metadata": {},
   "outputs": [],
   "source": [
    "# Now arrange columns in appropriate order\n",
    "data = df_new[['Packaging_Condition','Odor','Color','Surface','Product_Condition','TPC_Value','Age']]\n"
   ]
  },
  {
   "cell_type": "code",
   "execution_count": 22,
   "id": "a0c02511-ab83-4caf-9fc2-2395c82468e6",
   "metadata": {},
   "outputs": [
    {
     "name": "stdout",
     "output_type": "stream",
     "text": [
      "Empty DataFrame\n",
      "Columns: [Packaging_Condition, Odor, Color, Surface, Product_Condition, TPC_Value, Age]\n",
      "Index: []\n"
     ]
    }
   ],
   "source": [
    "# Find rows with at least one missing value\n",
    "rows_with_missing_values = data[data.isna().any(axis=1)]\n",
    "\n",
    "# Print these rows\n",
    "print(rows_with_missing_values)\n"
   ]
  },
  {
   "cell_type": "code",
   "execution_count": 23,
   "id": "72ac0c8e-c4c0-4a95-b19a-c7598633fdec",
   "metadata": {},
   "outputs": [
    {
     "data": {
      "text/html": [
       "<div>\n",
       "<style scoped>\n",
       "    .dataframe tbody tr th:only-of-type {\n",
       "        vertical-align: middle;\n",
       "    }\n",
       "\n",
       "    .dataframe tbody tr th {\n",
       "        vertical-align: top;\n",
       "    }\n",
       "\n",
       "    .dataframe thead th {\n",
       "        text-align: right;\n",
       "    }\n",
       "</style>\n",
       "<table border=\"1\" class=\"dataframe\">\n",
       "  <thead>\n",
       "    <tr style=\"text-align: right;\">\n",
       "      <th></th>\n",
       "      <th>Packaging_Condition</th>\n",
       "      <th>Odor</th>\n",
       "      <th>Color</th>\n",
       "      <th>Surface</th>\n",
       "      <th>Product_Condition</th>\n",
       "      <th>TPC_Value</th>\n",
       "      <th>Age</th>\n",
       "    </tr>\n",
       "  </thead>\n",
       "  <tbody>\n",
       "    <tr>\n",
       "      <th>0</th>\n",
       "      <td>1</td>\n",
       "      <td>Sour</td>\n",
       "      <td>Pale</td>\n",
       "      <td>Slimy</td>\n",
       "      <td>1</td>\n",
       "      <td>3.20</td>\n",
       "      <td>41</td>\n",
       "    </tr>\n",
       "    <tr>\n",
       "      <th>1</th>\n",
       "      <td>0</td>\n",
       "      <td>Sour</td>\n",
       "      <td>Pale</td>\n",
       "      <td>Slimy</td>\n",
       "      <td>1</td>\n",
       "      <td>6.72</td>\n",
       "      <td>41</td>\n",
       "    </tr>\n",
       "    <tr>\n",
       "      <th>2</th>\n",
       "      <td>0</td>\n",
       "      <td>Sour</td>\n",
       "      <td>Pale</td>\n",
       "      <td>Slimy</td>\n",
       "      <td>1</td>\n",
       "      <td>7.36</td>\n",
       "      <td>41</td>\n",
       "    </tr>\n",
       "    <tr>\n",
       "      <th>3</th>\n",
       "      <td>0</td>\n",
       "      <td>Sour</td>\n",
       "      <td>Pale</td>\n",
       "      <td>Slimy</td>\n",
       "      <td>1</td>\n",
       "      <td>6.61</td>\n",
       "      <td>41</td>\n",
       "    </tr>\n",
       "    <tr>\n",
       "      <th>4</th>\n",
       "      <td>1</td>\n",
       "      <td>Off Condition</td>\n",
       "      <td>Good</td>\n",
       "      <td>Slimy</td>\n",
       "      <td>1</td>\n",
       "      <td>3.43</td>\n",
       "      <td>40</td>\n",
       "    </tr>\n",
       "  </tbody>\n",
       "</table>\n",
       "</div>"
      ],
      "text/plain": [
       "   Packaging_Condition           Odor Color Surface  Product_Condition  \\\n",
       "0                    1           Sour  Pale   Slimy                  1   \n",
       "1                    0           Sour  Pale   Slimy                  1   \n",
       "2                    0           Sour  Pale   Slimy                  1   \n",
       "3                    0           Sour  Pale   Slimy                  1   \n",
       "4                    1  Off Condition  Good   Slimy                  1   \n",
       "\n",
       "   TPC_Value  Age  \n",
       "0       3.20   41  \n",
       "1       6.72   41  \n",
       "2       7.36   41  \n",
       "3       6.61   41  \n",
       "4       3.43   40  "
      ]
     },
     "execution_count": 23,
     "metadata": {},
     "output_type": "execute_result"
    }
   ],
   "source": [
    "data.head()"
   ]
  },
  {
   "cell_type": "code",
   "execution_count": 24,
   "id": "2865ce33-c69a-499f-9c7a-5fc85456ea2e",
   "metadata": {},
   "outputs": [
    {
     "data": {
      "text/html": [
       "<div>\n",
       "<style scoped>\n",
       "    .dataframe tbody tr th:only-of-type {\n",
       "        vertical-align: middle;\n",
       "    }\n",
       "\n",
       "    .dataframe tbody tr th {\n",
       "        vertical-align: top;\n",
       "    }\n",
       "\n",
       "    .dataframe thead th {\n",
       "        text-align: right;\n",
       "    }\n",
       "</style>\n",
       "<table border=\"1\" class=\"dataframe\">\n",
       "  <thead>\n",
       "    <tr style=\"text-align: right;\">\n",
       "      <th></th>\n",
       "      <th>Packaging_Condition</th>\n",
       "      <th>Product_Condition</th>\n",
       "      <th>TPC_Value</th>\n",
       "      <th>Age</th>\n",
       "    </tr>\n",
       "  </thead>\n",
       "  <tbody>\n",
       "    <tr>\n",
       "      <th>count</th>\n",
       "      <td>7495.000000</td>\n",
       "      <td>7495.000000</td>\n",
       "      <td>7495.000000</td>\n",
       "      <td>7495.000000</td>\n",
       "    </tr>\n",
       "    <tr>\n",
       "      <th>mean</th>\n",
       "      <td>0.870447</td>\n",
       "      <td>0.263376</td>\n",
       "      <td>4.276663</td>\n",
       "      <td>22.335424</td>\n",
       "    </tr>\n",
       "    <tr>\n",
       "      <th>std</th>\n",
       "      <td>0.335833</td>\n",
       "      <td>0.440494</td>\n",
       "      <td>2.182125</td>\n",
       "      <td>25.014415</td>\n",
       "    </tr>\n",
       "    <tr>\n",
       "      <th>min</th>\n",
       "      <td>0.000000</td>\n",
       "      <td>0.000000</td>\n",
       "      <td>0.450000</td>\n",
       "      <td>0.000000</td>\n",
       "    </tr>\n",
       "    <tr>\n",
       "      <th>25%</th>\n",
       "      <td>1.000000</td>\n",
       "      <td>0.000000</td>\n",
       "      <td>2.520000</td>\n",
       "      <td>0.000000</td>\n",
       "    </tr>\n",
       "    <tr>\n",
       "      <th>50%</th>\n",
       "      <td>1.000000</td>\n",
       "      <td>0.000000</td>\n",
       "      <td>3.480000</td>\n",
       "      <td>1.000000</td>\n",
       "    </tr>\n",
       "    <tr>\n",
       "      <th>75%</th>\n",
       "      <td>1.000000</td>\n",
       "      <td>1.000000</td>\n",
       "      <td>6.480000</td>\n",
       "      <td>40.000000</td>\n",
       "    </tr>\n",
       "    <tr>\n",
       "      <th>max</th>\n",
       "      <td>1.000000</td>\n",
       "      <td>1.000000</td>\n",
       "      <td>10.650000</td>\n",
       "      <td>70.000000</td>\n",
       "    </tr>\n",
       "  </tbody>\n",
       "</table>\n",
       "</div>"
      ],
      "text/plain": [
       "       Packaging_Condition  Product_Condition    TPC_Value          Age\n",
       "count          7495.000000        7495.000000  7495.000000  7495.000000\n",
       "mean              0.870447           0.263376     4.276663    22.335424\n",
       "std               0.335833           0.440494     2.182125    25.014415\n",
       "min               0.000000           0.000000     0.450000     0.000000\n",
       "25%               1.000000           0.000000     2.520000     0.000000\n",
       "50%               1.000000           0.000000     3.480000     1.000000\n",
       "75%               1.000000           1.000000     6.480000    40.000000\n",
       "max               1.000000           1.000000    10.650000    70.000000"
      ]
     },
     "execution_count": 24,
     "metadata": {},
     "output_type": "execute_result"
    }
   ],
   "source": [
    "# get some discriptive stats\n",
    "data.describe()"
   ]
  },
  {
   "cell_type": "code",
   "execution_count": 25,
   "id": "3c648a57-0116-4afc-a695-2778dcbec098",
   "metadata": {},
   "outputs": [],
   "source": [
    "# convert categorical variables to dummy variables \n",
    "catCols = ['Odor','Color','Surface']\n",
    "dummies = pd.get_dummies(df_new[catCols])\n",
    "data_dummies = df_new.drop(columns=catCols)\n",
    "data_final = data_dummies.join(dummies)"
   ]
  },
  {
   "cell_type": "code",
   "execution_count": 26,
   "id": "8bef7bb2-6350-49b8-a9e9-37d2763546c2",
   "metadata": {},
   "outputs": [
    {
     "data": {
      "text/html": [
       "<div>\n",
       "<style scoped>\n",
       "    .dataframe tbody tr th:only-of-type {\n",
       "        vertical-align: middle;\n",
       "    }\n",
       "\n",
       "    .dataframe tbody tr th {\n",
       "        vertical-align: top;\n",
       "    }\n",
       "\n",
       "    .dataframe thead th {\n",
       "        text-align: right;\n",
       "    }\n",
       "</style>\n",
       "<table border=\"1\" class=\"dataframe\">\n",
       "  <thead>\n",
       "    <tr style=\"text-align: right;\">\n",
       "      <th></th>\n",
       "      <th>Type</th>\n",
       "      <th>Packaging_Condition</th>\n",
       "      <th>Odor</th>\n",
       "      <th>Color</th>\n",
       "      <th>Surface</th>\n",
       "      <th>Product_Condition</th>\n",
       "      <th>TPC_Value</th>\n",
       "      <th>Age</th>\n",
       "    </tr>\n",
       "  </thead>\n",
       "  <tbody>\n",
       "    <tr>\n",
       "      <th>0</th>\n",
       "      <td>0</td>\n",
       "      <td>1</td>\n",
       "      <td>Sour</td>\n",
       "      <td>Pale</td>\n",
       "      <td>Slimy</td>\n",
       "      <td>1</td>\n",
       "      <td>3.20</td>\n",
       "      <td>41</td>\n",
       "    </tr>\n",
       "    <tr>\n",
       "      <th>1</th>\n",
       "      <td>1</td>\n",
       "      <td>0</td>\n",
       "      <td>Sour</td>\n",
       "      <td>Pale</td>\n",
       "      <td>Slimy</td>\n",
       "      <td>1</td>\n",
       "      <td>6.72</td>\n",
       "      <td>41</td>\n",
       "    </tr>\n",
       "    <tr>\n",
       "      <th>2</th>\n",
       "      <td>0</td>\n",
       "      <td>0</td>\n",
       "      <td>Sour</td>\n",
       "      <td>Pale</td>\n",
       "      <td>Slimy</td>\n",
       "      <td>1</td>\n",
       "      <td>7.36</td>\n",
       "      <td>41</td>\n",
       "    </tr>\n",
       "    <tr>\n",
       "      <th>3</th>\n",
       "      <td>0</td>\n",
       "      <td>0</td>\n",
       "      <td>Sour</td>\n",
       "      <td>Pale</td>\n",
       "      <td>Slimy</td>\n",
       "      <td>1</td>\n",
       "      <td>6.61</td>\n",
       "      <td>41</td>\n",
       "    </tr>\n",
       "    <tr>\n",
       "      <th>4</th>\n",
       "      <td>0</td>\n",
       "      <td>1</td>\n",
       "      <td>Off Condition</td>\n",
       "      <td>Good</td>\n",
       "      <td>Slimy</td>\n",
       "      <td>1</td>\n",
       "      <td>3.43</td>\n",
       "      <td>40</td>\n",
       "    </tr>\n",
       "  </tbody>\n",
       "</table>\n",
       "</div>"
      ],
      "text/plain": [
       "   Type  Packaging_Condition           Odor Color Surface  Product_Condition  \\\n",
       "0     0                    1           Sour  Pale   Slimy                  1   \n",
       "1     1                    0           Sour  Pale   Slimy                  1   \n",
       "2     0                    0           Sour  Pale   Slimy                  1   \n",
       "3     0                    0           Sour  Pale   Slimy                  1   \n",
       "4     0                    1  Off Condition  Good   Slimy                  1   \n",
       "\n",
       "   TPC_Value  Age  \n",
       "0       3.20   41  \n",
       "1       6.72   41  \n",
       "2       7.36   41  \n",
       "3       6.61   41  \n",
       "4       3.43   40  "
      ]
     },
     "execution_count": 26,
     "metadata": {},
     "output_type": "execute_result"
    }
   ],
   "source": [
    "df_new.head()"
   ]
  },
  {
   "cell_type": "code",
   "execution_count": 27,
   "id": "68241ce5-3f1b-4f4f-a27d-a94498c8aec6",
   "metadata": {},
   "outputs": [
    {
     "data": {
      "text/html": [
       "<div>\n",
       "<style scoped>\n",
       "    .dataframe tbody tr th:only-of-type {\n",
       "        vertical-align: middle;\n",
       "    }\n",
       "\n",
       "    .dataframe tbody tr th {\n",
       "        vertical-align: top;\n",
       "    }\n",
       "\n",
       "    .dataframe thead th {\n",
       "        text-align: right;\n",
       "    }\n",
       "</style>\n",
       "<table border=\"1\" class=\"dataframe\">\n",
       "  <thead>\n",
       "    <tr style=\"text-align: right;\">\n",
       "      <th></th>\n",
       "      <th>Type</th>\n",
       "      <th>Packaging_Condition</th>\n",
       "      <th>Product_Condition</th>\n",
       "      <th>TPC_Value</th>\n",
       "      <th>Age</th>\n",
       "      <th>Odor_Good</th>\n",
       "      <th>Odor_Off Condition</th>\n",
       "      <th>Odor_Putrid</th>\n",
       "      <th>Odor_Rotten Egg</th>\n",
       "      <th>Odor_Sour</th>\n",
       "      <th>Color_Brown</th>\n",
       "      <th>Color_Good</th>\n",
       "      <th>Color_Green</th>\n",
       "      <th>Color_Pale</th>\n",
       "      <th>Color_Red / Brown</th>\n",
       "      <th>Surface_Dry</th>\n",
       "      <th>Surface_Good</th>\n",
       "      <th>Surface_Slimy</th>\n",
       "      <th>Surface_Tacky</th>\n",
       "    </tr>\n",
       "  </thead>\n",
       "  <tbody>\n",
       "    <tr>\n",
       "      <th>0</th>\n",
       "      <td>0</td>\n",
       "      <td>1</td>\n",
       "      <td>1</td>\n",
       "      <td>3.20</td>\n",
       "      <td>41</td>\n",
       "      <td>False</td>\n",
       "      <td>False</td>\n",
       "      <td>False</td>\n",
       "      <td>False</td>\n",
       "      <td>True</td>\n",
       "      <td>False</td>\n",
       "      <td>False</td>\n",
       "      <td>False</td>\n",
       "      <td>True</td>\n",
       "      <td>False</td>\n",
       "      <td>False</td>\n",
       "      <td>False</td>\n",
       "      <td>True</td>\n",
       "      <td>False</td>\n",
       "    </tr>\n",
       "    <tr>\n",
       "      <th>1</th>\n",
       "      <td>1</td>\n",
       "      <td>0</td>\n",
       "      <td>1</td>\n",
       "      <td>6.72</td>\n",
       "      <td>41</td>\n",
       "      <td>False</td>\n",
       "      <td>False</td>\n",
       "      <td>False</td>\n",
       "      <td>False</td>\n",
       "      <td>True</td>\n",
       "      <td>False</td>\n",
       "      <td>False</td>\n",
       "      <td>False</td>\n",
       "      <td>True</td>\n",
       "      <td>False</td>\n",
       "      <td>False</td>\n",
       "      <td>False</td>\n",
       "      <td>True</td>\n",
       "      <td>False</td>\n",
       "    </tr>\n",
       "    <tr>\n",
       "      <th>2</th>\n",
       "      <td>0</td>\n",
       "      <td>0</td>\n",
       "      <td>1</td>\n",
       "      <td>7.36</td>\n",
       "      <td>41</td>\n",
       "      <td>False</td>\n",
       "      <td>False</td>\n",
       "      <td>False</td>\n",
       "      <td>False</td>\n",
       "      <td>True</td>\n",
       "      <td>False</td>\n",
       "      <td>False</td>\n",
       "      <td>False</td>\n",
       "      <td>True</td>\n",
       "      <td>False</td>\n",
       "      <td>False</td>\n",
       "      <td>False</td>\n",
       "      <td>True</td>\n",
       "      <td>False</td>\n",
       "    </tr>\n",
       "    <tr>\n",
       "      <th>3</th>\n",
       "      <td>0</td>\n",
       "      <td>0</td>\n",
       "      <td>1</td>\n",
       "      <td>6.61</td>\n",
       "      <td>41</td>\n",
       "      <td>False</td>\n",
       "      <td>False</td>\n",
       "      <td>False</td>\n",
       "      <td>False</td>\n",
       "      <td>True</td>\n",
       "      <td>False</td>\n",
       "      <td>False</td>\n",
       "      <td>False</td>\n",
       "      <td>True</td>\n",
       "      <td>False</td>\n",
       "      <td>False</td>\n",
       "      <td>False</td>\n",
       "      <td>True</td>\n",
       "      <td>False</td>\n",
       "    </tr>\n",
       "    <tr>\n",
       "      <th>4</th>\n",
       "      <td>0</td>\n",
       "      <td>1</td>\n",
       "      <td>1</td>\n",
       "      <td>3.43</td>\n",
       "      <td>40</td>\n",
       "      <td>False</td>\n",
       "      <td>True</td>\n",
       "      <td>False</td>\n",
       "      <td>False</td>\n",
       "      <td>False</td>\n",
       "      <td>False</td>\n",
       "      <td>True</td>\n",
       "      <td>False</td>\n",
       "      <td>False</td>\n",
       "      <td>False</td>\n",
       "      <td>False</td>\n",
       "      <td>False</td>\n",
       "      <td>True</td>\n",
       "      <td>False</td>\n",
       "    </tr>\n",
       "  </tbody>\n",
       "</table>\n",
       "</div>"
      ],
      "text/plain": [
       "   Type  Packaging_Condition  Product_Condition  TPC_Value  Age  Odor_Good  \\\n",
       "0     0                    1                  1       3.20   41      False   \n",
       "1     1                    0                  1       6.72   41      False   \n",
       "2     0                    0                  1       7.36   41      False   \n",
       "3     0                    0                  1       6.61   41      False   \n",
       "4     0                    1                  1       3.43   40      False   \n",
       "\n",
       "   Odor_Off Condition  Odor_Putrid  Odor_Rotten Egg  Odor_Sour  Color_Brown  \\\n",
       "0               False        False            False       True        False   \n",
       "1               False        False            False       True        False   \n",
       "2               False        False            False       True        False   \n",
       "3               False        False            False       True        False   \n",
       "4                True        False            False      False        False   \n",
       "\n",
       "   Color_Good  Color_Green  Color_Pale  Color_Red / Brown  Surface_Dry  \\\n",
       "0       False        False        True              False        False   \n",
       "1       False        False        True              False        False   \n",
       "2       False        False        True              False        False   \n",
       "3       False        False        True              False        False   \n",
       "4        True        False       False              False        False   \n",
       "\n",
       "   Surface_Good  Surface_Slimy  Surface_Tacky  \n",
       "0         False           True          False  \n",
       "1         False           True          False  \n",
       "2         False           True          False  \n",
       "3         False           True          False  \n",
       "4         False           True          False  "
      ]
     },
     "execution_count": 27,
     "metadata": {},
     "output_type": "execute_result"
    }
   ],
   "source": [
    "data_final.head()"
   ]
  },
  {
   "cell_type": "code",
   "execution_count": 28,
   "id": "4543890f-4e39-4e58-a78f-98a420c45d27",
   "metadata": {},
   "outputs": [],
   "source": [
    "# scale numerical data\n",
    "scaler = StandardScaler()\n",
    "data_final[['TPC_Value','Age']] = scaler.fit_transform(data_final[['TPC_Value','Age']])\n",
    "data_std = data_final"
   ]
  },
  {
   "cell_type": "code",
   "execution_count": 29,
   "id": "764aa7f7-1332-49b8-b73b-602bd03ba449",
   "metadata": {},
   "outputs": [
    {
     "data": {
      "image/png": "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",
      "text/plain": [
       "<Figure size 1000x600 with 1 Axes>"
      ]
     },
     "metadata": {},
     "output_type": "display_data"
    }
   ],
   "source": [
    "# Boxplot after scaling \n",
    "\n",
    "plt.figure(figsize=(10, 6))  # Set the figure size for better visibility\n",
    "sns.boxplot(data=data_std[['TPC_Value','Age']])\n",
    "plt.title('Box Plot of TPC_Value and Age')\n",
    "plt.ylabel('Values')\n",
    "plt.show()\n"
   ]
  },
  {
   "cell_type": "code",
   "execution_count": 30,
   "id": "3a88a085-074f-46e1-9981-59b1cb767a68",
   "metadata": {},
   "outputs": [
    {
     "data": {
      "image/png": "iVBORw0KGgoAAAANSUhEUgAAA1cAAAHWCAYAAACbsXOkAAAAOXRFWHRTb2Z0d2FyZQBNYXRwbG90bGliIHZlcnNpb24zLjguMiwgaHR0cHM6Ly9tYXRwbG90bGliLm9yZy8g+/7EAAAACXBIWXMAAA9hAAAPYQGoP6dpAABzz0lEQVR4nO3deVxU1f/H8feAAm4gioIUBu67mAu5lFommqWWmdriUqYtWmZm2jeXVtO0zDQtK22zzErbzCVcstz3Mvc0V3AHwQWF+/vj/EBJVMCBOzO8no/Hfczhzp07nxlGnM8953yOw7IsSwAAAACAa+JldwAAAAAA4AlIrgAAAADACUiuAAAAAMAJSK4AAAAAwAlIrgAAAADACUiuAAAAAMAJSK4AAAAAwAlIrgAAAADACUiuAAAAAMAJSK4AIAvCw8PVvXt3u8NwS+fPn9fAgQMVFhYmLy8vtW/f3u6Q3N7UqVPlcDi0e/duu0NxS82aNVOzZs2cek6Hw6Hhw4c79ZwA3A/JFYB8J+2L6erVqzO9v1mzZqpRo8Y1P8/s2bP5siXp448/1ptvvql7771Xn3zyiZ555plceZ603+vVtvDwcEnS8OHDM+wvXLiwqlWrphdffFEJCQmXnH/nzp3q3bu3ypUrJz8/P/n7+6tx48Z65513dPr06UxjOnfunIKCgtSkSZPLxm1ZlsLCwnTjjTc65X0AANingN0BAIA72Lp1q7y8snc9avbs2ZowYUK+T7AWLFig6667Tm+//XauPs8tt9yizz77LMO+nj17qkGDBurVq1f6vqJFi2Y4ZuLEiSpatKgSExM1b948vfbaa1qwYIH++OMPORwOSdLPP/+sjh07ytfXV127dlWNGjWUnJys33//Xc8995w2bdqkDz744JKYChYsqI4dO+r999/Xv//+qxtuuOGSY3777Tft27cv15JOAEDeIbkCgCzw9fW1O4RsS0pKUpEiRewOQ4cOHVLx4sWddr7U1FQlJyfLz88vw/5y5cqpXLlyGfY99thjKleunB588MHLnu/ee+9VUFBQ+vEdOnTQd999p+XLl6thw4batWuXOnfurBtuuEELFixQmTJl0h/75JNPaseOHfr5558ve/4HHnhAkyZN0pdffqlBgwZdcv+0adPk5eWlzp07Z+n1AwBcF8MCASAL/jvn6ty5c3rppZdUsWJF+fn5qWTJkmrSpInmz58vSerevbsmTJggSRmGnqVJSkrSs88+q7CwMPn6+qpy5coaPXq0LMvK8LynT5/WU089paCgIBUrVkxt27bV/v37L5nfkTbE7e+//9b999+vwMDA9KFoGzduVPfu3dOHs4WEhOjhhx/W0aNHMzxX2jm2bdumBx98UAEBASpVqpSGDBkiy7K0d+9etWvXTv7+/goJCdGYMWOu+J7t3r1bDodDCxcu1KZNm9Lfg0WLFmXrPXA4HOrTp4+++OILVa9eXb6+vpozZ87Vf2k5dOutt0qSdu3aJUkaNWqUEhMT9dFHH2VIrNJUqFBBTz/99GXP17hxY4WHh2vatGmX3Hfu3Dl98803at68uUJDQ7P8u8rM5eb8ZDZf8MSJE+rXr1/6e1+hQgWNHDlSqampTnuetGGaf/zxh/r3769SpUqpSJEiuvvuu3X48OEMj129erWio6MVFBSkQoUKKSIiQg8//HCGY1JTU/XOO++oZs2a8vPzU6lSpdSqVasMw3unTJmiW2+9VaVLl5avr6+qVaumiRMnXvU1SdLZs2c1bNgwVahQQb6+vgoLC9PAgQN19uzZS4575plnVKpUqfR/k/v27cvScwDwfPRcAci34uPjdeTIkUv2nzt37qqPHT58uEaMGJE+7CwhIUGrV6/W2rVrdfvtt6t37946cOCA5s+ff8lQNcuy1LZtWy1cuFCPPPKIIiMjNXfuXD333HPav39/huFz3bt319dff62HHnpIN910kxYvXqw2bdpcNq6OHTuqYsWKev3119OTlPnz5+uff/5Rjx49FBISkj6EbdOmTVq+fHmGpE+SOnXqpKpVq+qNN97Qzz//rFdffVUlSpTQ+++/r1tvvVUjR47UF198oQEDBqh+/fq65ZZbMo2lVKlS+uyzz/Taa68pMTFRI0aMkCRVrVo1W++BZIYWfv311+rTp4+CgoLS503lhp07d0qSSpYsKUn68ccfVa5cOTVq1ChH53M4HLr//vv1+uuva9OmTapevXr6fXPmzNGxY8f0wAMPSMr+7yonTp06paZNm2r//v3q3bu3ypYtq6VLl2rw4ME6ePCgxo4de83PcbG+ffsqMDBQw4YN0+7duzV27Fj16dNH06dPl2R6Nlu2bKlSpUpp0KBBKl68uHbv3q3vvvsuw3keeeQRTZ06Va1bt1bPnj11/vx5LVmyRMuXL1e9evUkmSGe1atXV9u2bVWgQAH9+OOPeuKJJ5Samqonn3zysjGmpqaqbdu2+v3339WrVy9VrVpVf/75p95++21t27ZNs2bNSj+2Z8+e+vzzz3X//ferUaNGWrBgwRX/TQLIZywAyGemTJliSbriVr169QyPueGGG6xu3bql/1y7dm2rTZs2V3yeJ5980srsz+ysWbMsSdarr76aYf+9995rORwOa8eOHZZlWdaaNWssSVa/fv0yHNe9e3dLkjVs2LD0fcOGDbMkWV26dLnk+U6dOnXJvi+//NKSZP3222+XnKNXr17p+86fP29df/31lsPhsN544430/cePH7cKFSqU4T25nKZNm17yfmb1PbAsy5JkeXl5WZs2bbrqc/1XkSJFLhtj2uvdunWrdfjwYWvXrl3W+++/b/n6+lrBwcFWUlKSFR8fb0my2rVrl+3nvtimTZssSdbgwYMz7O/cubPl5+dnxcfHW5aV9d9V2md4165d6fv++5lI89/P7iuvvGIVKVLE2rZtW4bjBg0aZHl7e1t79uy54mvJ6vOkxdiiRQsrNTU1ff8zzzxjeXt7WydOnLAsy7JmzpxpSbJWrVp12edcsGCBJcl66qmnLrnv4nNn9v5FR0db5cqVy7CvadOmVtOmTdN//uyzzywvLy9ryZIlGY6bNGmSJcn6448/LMuyrPXr11uSrCeeeCLDcffff/9l3xcA+QvDAgHkWxMmTND8+fMv2WrVqnXVxxYvXlybNm3S9u3bs/28s2fPlre3t5566qkM+5999llZlqVffvlFktKHvj3xxBMZjuvbt+9lz/3YY49dsq9QoULp7TNnzujIkSO66aabJElr16695PiePXumt729vVWvXj1ZlqVHHnkkfX/x4sVVuXJl/fPPP5eN5Uqy+h6kadq0qapVq5aj57qaypUrq1SpUoqIiFDv3r1VoUIF/fzzzypcuHB61cBixYpd03NUq1ZNderU0VdffZW+LykpST/88IPuvPNO+fv7S8r+7yonZsyYoZtvvlmBgYE6cuRI+taiRQulpKTot99+c8rzpOnVq1eGHrebb75ZKSkp+vfffyUpfT7eTz/9dNle42+//VYOh0PDhg275L6Lz33x+5fWM920aVP9888/io+Pv2yMM2bMUNWqVVWlSpUM70naENGFCxdKMp9bSZd8bvv163fZcwPIXxgWCCDfatCgQfpwooulfem8kpdfflnt2rVTpUqVVKNGDbVq1UoPPfRQlhKzf//9V6GhoZd8Ya9atWr6/Wm3Xl5eioiIyHBchQoVLnvu/x4rSceOHdNLL72kr776SocOHcpwX2ZfOMuWLZvh54CAAPn5+aUXfbh4f1bmAmUmq+9Bmsxel7N8++238vf3V8GCBXX99derfPny6felJT0nT5685ud54IEHNGDAAC1dulSNGjXSrFmzdOrUqfQhgVL2f1c5sX37dm3cuFGlSpXK9P7/Pu+1+u/nKTAwUJJ0/PhxSSZx7tChg1566SW9/fbbatasmdq3b6/7778/vZDMzp07FRoaqhIlSlzxuf744w8NGzZMy5Yt06lTpzLcFx8fr4CAgEwft337dm3evPmq70nav8mLPyOSSdABQCK5AoAcueWWW7Rz5059//33mjdvnj788EO9/fbbmjRpUoaen7x28ZX7NPfdd5+WLl2q5557TpGRkSpatKhSU1PVqlWrTAsYeHt7Z2mfpEuKT+SWzF6Xs9xyyy2XJI5p/P39FRoaqr/++uuan6dLly4aOHCgpk2bpkaNGmnatGkKDAzUHXfckX5Mdn9XWZGSkpLh59TUVN1+++0aOHBgpsdXqlTJKc+T5mqfHYfDoW+++UbLly/Xjz/+qLlz5+rhhx/WmDFjtHz58ktK51/Ozp07ddttt6lKlSp66623FBYWJh8fH82ePVtvv/32Fd+/1NRU1axZU2+99Vam94eFhWUpBgAguQKAHCpRooR69OihHj16KDExUbfccouGDx+enlxdrvjADTfcoF9//VUnT57M0HOzZcuW9PvTblNTU7Vr1y5VrFgx/bgdO3ZkOcbjx48rJiZGL730koYOHZq+PyfDGZ0pq++BK7jzzjv1wQcfaNmyZWrYsGGOzxMaGqrmzZtrxowZGjJkiObPn6/u3bvLx8dH0rX/rgIDA3XixIkM+5KTk3Xw4MEM+8qXL6/ExES1aNEiR68jq8+TXTfddJNuuukmvfbaa5o2bZoeeOABffXVV+rZs6fKly+vuXPn6tixY5ftvfrxxx919uxZ/fDDDxl6y9KG9F1J+fLltWHDBt12221XLBqS9m9y586dGXqrtm7dmo1XCsCTMecKAHLgv8PhihYtqgoVKmQo25y2xtR/v4jecccdSklJ0fjx4zPsf/vtt+VwONS6dWtJUnR0tCTpvffey3Dcu+++m+U403oN/tvD5OyKcNmV1ffAFQwcOFBFihRRz549FRcXd8n9O3fu1DvvvJOlcz3wwAM6dOiQevfurXPnzmUYEnitv6vy5ctfMl/qgw8+uKRH6b777tOyZcs0d+7cS85x4sQJnT9/3inPk1XHjx+/5DVHRkZKUvq/pw4dOsiyLL300kuXPD7tsZm9f/Hx8ZoyZcpVY7jvvvu0f/9+TZ48+ZL7Tp8+raSkJElK/1yOGzcuwzF2/3sC4DrouQKAHKhWrZqaNWumunXrqkSJElq9erW++eYb9enTJ/2YunXrSjKT36Ojo+Xt7a3OnTvrrrvuUvPmzfW///1Pu3fvVu3atTVv3jx9//336tevX/p8jrp166pDhw4aO3asjh49ml6Kfdu2bZIu3zN2MX9/f91yyy0aNWqUzp07p+uuu07z5s1LX8PJLll9D1xB+fLlNW3atPQS9V27dlWNGjWUnJyspUuXasaMGZesI3U5HTp00BNPPKHvv/9eYWFhGcrYX+vvqmfPnumLIN9+++3asGGD5s6de8mQx+eeey69kEb37t1Vt25dJSUl6c8//9Q333yj3bt3X3aYZHaeJ6s++eQTvffee7r77rtVvnx5nTx5UpMnT5a/v3/6kMnmzZvroYce0rhx47R9+/b0YZJLlixR8+bN1adPH7Vs2VI+Pj6666671Lt3byUmJmry5MkqXbr0VXvVHnroIX399dd67LHHtHDhQjVu3FgpKSnasmWLvv76a82dO1f16tVTZGSkunTpovfee0/x8fFq1KiRYmJistWbDMDD2VSlEABsk1Yi+nKlnzMrHf7fMtOvvvqq1aBBA6t48eJWoUKFrCpVqlivvfaalZycnH7M+fPnrb59+1qlSpWyHA5HhrLsJ0+etJ555hkrNDTUKliwoFWxYkXrzTffzFBW2rIsKykpyXryySetEiVKWEWLFrXat29vbd261ZKUoTR6Wlnxw4cPX/J69u3bZ919991W8eLFrYCAAKtjx47WgQMHLlvO/b/n6Natm1WkSJEsvU+ZudxxWX0PJFlPPvnkVZ8nM1kpxZ7Ze5aZbdu2WY8++qgVHh5u+fj4WMWKFbMaN25svfvuu9aZM2eyHFPHjh0tSdbAgQMvuS+rv6vMSrGnpKRYzz//vBUUFGQVLlzYio6Otnbs2HHJZ9eyzHs/ePBgq0KFCpaPj48VFBRkNWrUyBo9enSGz3Bmsvo8l/t3tnDhQkuStXDhQsuyLGvt2rVWly5drLJly1q+vr5W6dKlrTvvvNNavXp1hsedP3/eevPNN60qVapYPj4+VqlSpazWrVtba9asST/mhx9+sGrVqmX5+flZ4eHh1siRI62PP/74kvfqv6XYLcuykpOTrZEjR1rVq1e3fH19rcDAQKtu3brWSy+9lF4q37Is6/Tp09ZTTz1llSxZ0ipSpIh11113WXv37qUUOwDLsizLYVl5NBsZAOAU69evV506dfT5559nGFYGAADsxZwrAHBhp0+fvmTf2LFj5eXllWFIGQAAsB9zrgDAhY0aNUpr1qxR8+bNVaBAAf3yyy/65Zdf1KtXL8pDAwDgYhgWCAAubP78+XrppZf0999/KzExUWXLltVDDz2k//3vfypQgOtjAAC4EpIrAAAAAHAC5lwBAAAAgBOQXAEAAACAEzBgPxOpqak6cOCAihUrlqVFOgEAAAB4JsuydPLkSYWGhsrL68p9UyRXmThw4ABVuAAAAACk27t3r66//vorHkNylYlixYpJMm+gv7+/zdEAAAAAsEtCQoLCwsLSc4QrIbnKRNpQQH9/f5IrAAAAAFmaLkRBCwAAAABwApIrAAAAAHACkisAAAAAcAKSKwAAAABwApIrAAAAAHACkisAAAAAcAKSKwAAAABwApIrAAAAAHACkisAAAAAcAKSKwAAAABwApIrAAAAAHACkisAAAAAcAKSKwAAAABwApIrAAAAAHACkisAAAAAcIICdgcA4NoMH+6ZzwUAAOBu6LkCAAAAACcguQIAAAAAJyC5AgAAAAAnILkCAAAAACcguQIAAAAAJyC5AgAAAAAnILkCAAAAACcguQIAAAAAJyC5AgAAAAAnILkCAAAAACcguQIAAAAAJyC5AgAAAAAnILkCAAAAACcguQIAAAAAJyC5AgAAAAAnILkCAAAAACcguQIAAAAAJyC5AgAAAAAnILkCAAAAACcguQIAAAAAJ3CJ5GrChAkKDw+Xn5+foqKitHLlysse+91336levXoqXry4ihQposjISH322WcZjrEsS0OHDlWZMmVUqFAhtWjRQtu3b8/tlwEAAAAgH7M9uZo+fbr69++vYcOGae3atapdu7aio6N16NChTI8vUaKE/ve//2nZsmXauHGjevTooR49emju3Lnpx4waNUrjxo3TpEmTtGLFChUpUkTR0dE6c+ZMXr0sAAAAAPmMw7Isy84AoqKiVL9+fY0fP16SlJqaqrCwMPXt21eDBg3K0jluvPFGtWnTRq+88oosy1JoaKieffZZDRgwQJIUHx+v4OBgTZ06VZ07d77k8WfPntXZs2fTf05ISFBYWJji4+Pl7+/vhFcJ5J7hwz3zuQAAAFxBQkKCAgICspQb2NpzlZycrDVr1qhFixbp+7y8vNSiRQstW7bsqo+3LEsxMTHaunWrbrnlFknSrl27FBsbm+GcAQEBioqKuuw5R4wYoYCAgPQtLCzsGl8ZAAAAgPzG1uTqyJEjSklJUXBwcIb9wcHBio2Nvezj4uPjVbRoUfn4+KhNmzZ69913dfvtt0tS+uOyc87BgwcrPj4+fdu7d++1vCwAAAAA+VABuwPIiWLFimn9+vVKTExUTEyM+vfvr3LlyqlZs2Y5Op+vr698fX2dGyQAAACAfMXW5CooKEje3t6Ki4vLsD8uLk4hISGXfZyXl5cqVKggSYqMjNTmzZs1YsQINWvWLP1xcXFxKlOmTIZzRkZGOv9FAAAAAIBsHhbo4+OjunXrKiYmJn1famqqYmJi1LBhwyyfJzU1Nb0gRUREhEJCQjKcMyEhQStWrMjWOQEAAAAgO2wfFti/f39169ZN9erVU4MGDTR27FglJSWpR48ekqSuXbvquuuu04gRIySZ4hP16tVT+fLldfbsWc2ePVufffaZJk6cKElyOBzq16+fXn31VVWsWFEREREaMmSIQkND1b59e7teJgAAAAAPZ3ty1alTJx0+fFhDhw5VbGysIiMjNWfOnPSCFHv27JGX14UOtqSkJD3xxBPat2+fChUqpCpVqujzzz9Xp06d0o8ZOHCgkpKS1KtXL504cUJNmjTRnDlz5Ofnl+evDwAAAED+YPs6V64oO7XsAbuxzhUAAEDucZt1rgAAAADAU5BcAQAAAIATkFwBAAAAgBOQXAEAAACAE5BcAQAAAIATkFwBAAAAgBOQXAEAAACAE5BcAQAAAIATkFwBAAAAgBOQXAEAAACAE5BcAQAAAIATkFwBAAAAgBOQXAEAAACAE5BcAQAAAIATkFwBAAAAgBOQXAEAAACAE5BcAQAAAIATFLA7AAD2OHVK+ucf6cABqUgRKTBQKlFCCgqSCvCXAQAAINv4CgXkIykp0sqV0qZN0v79mR/j5yfdfLPUoAFJFgAAQHbw1QnIJ44elWbOzJhUBQdLZctKp09Lx4+bY86ckebPN0lY8+ZSrVqSw2Ff3AAAAO6C5ArwcJYlrV0rzZ0rnTsn+fpKt94qVaki+ftnPDY1VdqwQVq4UIqPl2bNkrZskTp0oBcLAADgavi6BHgwy5Jmz5ZWrzY/h4dL7dtLAQGZH+/lJdWpI9WoIa1YIS1aZJKrL76QOnfOo6ABAADcFNUCAQ/2228XEqvbb5e6dr18YnWxggWlJk2kBx6QfHyk3bulTz+VjhzJ1XABAADcGskV4KHWrjU9T5LUurXUqFH2505FREjdukmFCpmqgk2bmrlZAAAAuBTJFeCBtm2TfvrJtJs0MZX/cio0VOrRQypWTPr7b9P7lZrqnDgBAAA8CckV4GGOHJG++cbMt4qMNMUrrlWpUlKXLqYYxk8/SSNGXPs5AQAAPA3JFeBBUlOlH34wVQEjIqQ773ReGfUyZaT33jPtIUNMuXYAAABcQHIFeJAVK6S9e00RinbtJG9v557/4Yelnj1Nr1iXLtKePc49PwAAgDsjuQI8xLFj0oIFpn377VmrCpgT774r1a1rFhzu1s0kWgAAACC5AjyCZZnhgOfPm+GAdevm3nP5+UkzZkiFC5tqhJ9+mnvPBQAA4E5IrgAPsHq19O+/Zn2qu+5y3jyry4mIkIYNM+0BA0wvFgAAQH5HcgW4uTNnpIULTfu226TAwLx53meekWrWNNUJBw7Mm+cEAABwZSRXgJtbtkw6fVoKCpLq18+75y1YUJo0ybQ//lhasiTvnhsAAMAVkVwBbuzQIZNcSVLz5pJXHv+LbtRI6tXLtHv3lpKT8/b5AQAAXAnJFeDGXnvNrGkVGipVrWpPDG+8IZUuLW3eLH3wgT0xAAAAuAKSK8BN7d4tTZxo2rfdlvtFLC4nMFAaPty0X31VSkqyJw4AAAC7kVwBbmr4cNNrVa6c2ez0yCMmhrg4adw4e2MBAACwC8kV4Ia2bLmwvtStt9obiyT5+Egvv2zao0ZJx4/bGw8AAIAdSK4ANzRmjFk4uF076brr7I7G6NLFlGY/ccIkWAAAAPkNyRXgZuLipM8+M+3nnrM3lot5eZkCG5L0zjvSwYP2xgMAAJDXSK4ANzNxonT2rBQVZUqhu5I775QaNjTrbqUlWgAAAPkFyRXgRk6fliZMMO3+/e2rEHg5Dof0+uum/eGHUmysvfEAAADkpQJ2BwAg6z77TDpyRLrhBumee/L++dNKrl+JZUnXXy/t2yd17GjKxOfWcwEAALgSeq4AN5GaKr31lmn36ycVcNFLIw6H1Lixaa9aZYYwAgAA5AckV4CbmD1b2rpVCggw60q5ssqVpaAgk1itXm13NAAAAHmD5ApwE2PHmttevaRixWwN5aou7r1avlw6f97eeAAAAPKCSyRXEyZMUHh4uPz8/BQVFaWVK1de9tjJkyfr5ptvVmBgoAIDA9WiRYtLju/evbscDkeGrVWrVrn9MoBcs327FBNjyp336WN3NFlTs6bk7y8lJkobNtgdDQAAQO6zPbmaPn26+vfvr2HDhmnt2rWqXbu2oqOjdejQoUyPX7Rokbp06aKFCxdq2bJlCgsLU8uWLbV///4Mx7Vq1UoHDx5M37788su8eDlArvjwQ3PbqpVUtqy9sWSVt7d0002mvXSpmTMGAADgyWxPrt566y09+uij6tGjh6pVq6ZJkyapcOHC+vjjjzM9/osvvtATTzyhyMhIValSRR9++KFSU1MVExOT4ThfX1+FhISkb4GBgXnxcgCnS06Wpk417UcftTWUbKtbV/Lzk44dM/PFAAAAPJmtyVVycrLWrFmjFi1apO/z8vJSixYttGzZsiyd49SpUzp37pxKlCiRYf+iRYtUunRpVa5cWY8//riOHj162XOcPXtWCQkJGTbAVfz4o3TokFSmjNSmjd3RZI+Pj1SvnmlfYbQvAACAR7A1uTpy5IhSUlIUHBycYX9wcLBis7j66PPPP6/Q0NAMCVqrVq306aefKiYmRiNHjtTixYvVunVrpaSkZHqOESNGKCAgIH0LCwvL+YsCnOyDD8xtjx5SwYL2xpIT9eqZAhe7d0txcXZHAwAAkHtsHxZ4Ld544w199dVXmjlzpvz8/NL3d+7cWW3btlXNmjXVvn17/fTTT1q1apUWLVqU6XkGDx6s+Pj49G3v3r159AqAK9u1S5o/37Rdvfz65QQESFWrmja9VwAAwJPZmlwFBQXJ29tbcf+5nB0XF6eQkJArPnb06NF64403NG/ePNWqVeuKx5YrV05BQUHasWNHpvf7+vrK398/wwa4go8+kixLuv12qVw5u6PJuQYNzO3GjdLp0/bGAgAAkFtsTa58fHxUt27dDMUo0opTNGzY8LKPGzVqlF555RXNmTNH9dImdFzBvn37dPToUZUpU8YpcQN54fx5Ka2ui7sVsvivsmWl4GDzmtatszsaAACA3GH7sMD+/ftr8uTJ+uSTT7R582Y9/vjjSkpKUo8ePSRJXbt21eDBg9OPHzlypIYMGaKPP/5Y4eHhio2NVWxsrBITEyVJiYmJeu6557R8+XLt3r1bMTExateunSpUqKDo6GhbXiOQE7/8Ih08KJUqJbVrZ3c018bhuNB7tWoVZdkBAIBnKmB3AJ06ddLhw4c1dOhQxcbGKjIyUnPmzEkvcrFnzx55eV3IASdOnKjk5GTde++9Gc4zbNgwDR8+XN7e3tq4caM++eQTnThxQqGhoWrZsqVeeeUV+fr65ulrA67F55+b2wcfNFX33F3NmtKvv0onTkjbtklVqtgdEQAAgHM5LMuy7A7C1SQkJCggIEDx8fHMv4It4uOlkBDpzBlp7VqpTp3LHzt8eJ6Fdc1+/VX64w8pIkLq2vXKx7rT6wIAAJ4rO7mB7cMCAVzqu+9MYlWtmhQZaXc0zpM2RXLXLukKS88BAAC4JZIrwAVdPCTQ4bA3FmcqXlyqWNG01661NRQAAACns33OFeCJrmVIW0KCtGCBacfFed7wuBtvlLZvl9avl269VfL2tjsiAAAA56DnCnAxf/5pbm+4wfT0eJpKlaRixaRTp6QtW+yOBgAAwHlIrgAXk5Zc1axpbxy5xcvrQoGONWvsjQUAAMCZSK4AFxIXZzZvb6l6dbujyT1pydWuXdKxY/bGAgAA4CwkV4AL2bjR3FaqJPn52RtLbipeXKpQwbQpbAEAADwFyRXgIixL+usv0/bUIYEXq1vX3K5fL6Wk2BoKAACAU5BcAS5i3z5TKdDX90K5ck9WqZJUtKiUlERhCwAA4BlIrgAXsWmTua1cWSqQDxZJ8PK6sEDyhg22hgIAAOAUJFeAC7As6e+/TbtaNXtjyUtpydWOHdLJk7aGAgAAcM1IrgAXsHevSS58faXy5e2OJu+ULCmFhZnkMq2YBwAAgLsiuQJcQNqQwCpV8seQwIvVrm1uN2wwSRYAAIC7IrkCbGZZ0ubNpp2fhgSmqV7dJJSHD0sHDtgdDQAAQM6RXAE2u3hIYLlydkeT9/z8pKpVTXv9eltDAQAAuCYkV4DN8vOQwDRpQwP/+ks6f97eWAAAAHKK5AqwUWpq/qwS+F8REZK/v3TmjLR1q93RAAAA5AzJFWCjvXulxMT8VyXwv7y8pFq1TJs1rwAAgLsiuQJslNZrVaWK5O1tbyx2Y80rAADg7kiuAJtYlrRli2mnFXTIz1jzCgAAuDuSK8AmBw9KCQlSwYL5s0pgZtJ6r1jzCgAAuCOSK8AmaWtbVaxoEiyYoh5pa16tXm13NAAAANlDcgXYJG1IYJUq9sbhSi5e82rqVFtDAQAAyDaSK8AGhw9LR46YIhaVKtkdjWtJGxr45ZemNDsAAIC7ILkCbJA2JDAiwpRhxwXh4WbNq+PHpR9/tDsaAACArCO5AmxAlcDL8/KSatc2bYYGAgAAd0JyBeSxEydMpUCHQ6pc2e5oXFNacjVnjnmvAAAA3AHJFZDH0nqtypaVihSxNxZXVbKk1LixlJoqff653dEAAABkDckVkMeoEpg1Xbua288+szcOAACArCK5AvLQqVPSnj2mTXJ1ZR07Sj4+0p9/mkWFAQAAXB3JFZCHtm+XLEsKCZGKF7c7GtcWGCjddZdp03sFAADcAckVkIe2bjW3rG2VNQ89ZG6nTZNSUuyNBQAA4GpIroA8cv68tGOHaVMlMGtat5ZKlDAVA2Ni7I4GAADgykiugDyye7d07pxUrJhUpozd0bgHHx+pUyfTpmogAABwdSRXQB65eEigw2FvLO4kbWjgd99JSUn2xgIAAHAlJFdAHrCsC8kVQwKz56abpAoVTGI1c6bd0QAAAFweyRWQB2JjpZMnpYIFpYgIu6NxLw6H9OCDpk3VQAAA4MpIroA8kNZrVaGCVKCAvbG4o7Tk6tdfTXELAAAAV0RyBeQBSrBfm/LlpUaNpNRUU5YdAADAFZFcAbksPt4MC3Q4pIoV7Y7GfaUVtmBoIAAAcFUkV0Au27bN3IaFSUWK2BuLO+vY0cxZ27BB+vNPu6MBAAC4FMkVkMsYEugcJUtKbdqYNmteAQAAV0RyBeSis2elXbtMmxLs1y5taOAXX0gpKfbGAgAA8F8kV0Au2rnTFGEoWVIKCrI7GvfXpo0UGCjt3y8tWmR3NAAAABmRXAG5iCGBzuXrK913n2lT2AIAALgakisgl6SmStu3mzZDAp0nbWjgt99Kp07ZGwsAAMDFXCK5mjBhgsLDw+Xn56eoqCitXLnyssdOnjxZN998swIDAxUYGKgWLVpccrxlWRo6dKjKlCmjQoUKqUWLFtqe9i0XyCN790qnT0uFCplKgXCORo2kcuWkxERp1iy7owEAALjA9uRq+vTp6t+/v4YNG6a1a9eqdu3aio6O1qFDhzI9ftGiRerSpYsWLlyoZcuWKSwsTC1bttT+/fvTjxk1apTGjRunSZMmacWKFSpSpIiio6N15syZvHpZQIYhgV62/0vzHA6H9OCDps3QQAAA4EoclmVZdgYQFRWl+vXra/z48ZKk1NRUhYWFqW/fvho0aNBVH5+SkqLAwECNHz9eXbt2lWVZCg0N1bPPPqsBAwZIkuLj4xUcHKypU6eqc+fOVz1nQkKCAgICFB8fL39//2t7gciXhg2Txo+Xjh0z6zNVq2Z3RO5n+PDL37d9+4Wk9cABKTg4z8ICAAD5THZyA1uvpycnJ2vNmjVq0aJF+j4vLy+1aNFCy5Yty9I5Tp06pXPnzqlEiRKSpF27dik2NjbDOQMCAhQVFXXZc549e1YJCQkZNuBaHD1qEitvb6l8ebuj8TwVK0pRUWZe25df2h0NAACAYWtydeTIEaWkpCj4P5edg4ODFRsbm6VzPP/88woNDU1PptIel51zjhgxQgEBAelbGBNkcI3ShgRGRJgKd3C+tMIWDA0EAACuwq1ngrzxxhv66quvNHPmTPn5+eX4PIMHD1Z8fHz6tnfvXidGifyIEuy5r1MnqUABae1a6e+/7Y4GAADA5uQqKChI3t7eiouLy7A/Li5OISEhV3zs6NGj9cYbb2jevHmqVatW+v60x2XnnL6+vvL398+wATl1+LCpFChRgj03BQVJd9xh2vReAQAAV2BrcuXj46O6desqJiYmfV9qaqpiYmLUsGHDyz5u1KhReuWVVzRnzhzVq1cvw30REREKCQnJcM6EhAStWLHiiucEnOXnn81tmTISeXruShsa+MUXZv4VAACAnWwfFti/f39NnjxZn3zyiTZv3qzHH39cSUlJ6tGjhySpa9euGjx4cPrxI0eO1JAhQ/Txxx8rPDxcsbGxio2NVWJioiTJ4XCoX79+evXVV/XDDz/ozz//VNeuXRUaGqr27dvb8RKRz/zwg7llSGDuu/NOKSDA9BQuXmx3NAAAIL8rYHcAnTp10uHDhzV06FDFxsYqMjJSc+bMSS9IsWfPHnldtEjQxIkTlZycrHvvvTfDeYYNG6bh/1+7eeDAgUpKSlKvXr104sQJNWnSRHPmzLmmeVlAVpw5I82da9oMCcx9fn6m1P2HH0qffy41b253RAAAID+zfZ0rV8Q6V8ip2bOlNm3McMB+/cyCt8iZK61zdbHffpOaNjXveWysVKhQroYFAADyGbdZ5wrwNBcPCSSxyhtNmkg33CAlJFx4/wEAAOxAcgU4SWqq9OOPps2QwLzj5SU9+KBpUzUQAADYieQKcJK1a6UDB6SiRaXwcLujyV/SqgbOmSMdOmRvLAAAIP8iuQKcJG1IWqtWZnFb5J3KlaX69aWUFOmrr+yOBgAA5FckV4CTpCVXbdvaG0d+ldZ7xdBAAABglxwlV//884+z4wDc2r//Shs2mPk/d9xhdzT5U+fOkre3tHq1tGWL3dEAAID8KEfJVYUKFdS8eXN9/vnnOnPmjLNjAtxOWiGLJk2kkiXtjSW/KlXKDMmUzJpXAAAAeS1HydXatWtVq1Yt9e/fXyEhIerdu7dWrlzp7NgAt8GQQNeQNjTw889N9UYAAIC8lKPkKjIyUu+8844OHDigjz/+WAcPHlSTJk1Uo0YNvfXWWzp8+LCz4wRcVny8tGiRaZNc2attW7OY8L//Sr//bnc0AAAgv7mmghYFChTQPffcoxkzZmjkyJHasWOHBgwYoLCwMHXt2lUHDx50VpyAy5o7Vzp3TqpSRapY0e5o8rdChaR77zVtClsAAIC8dk3J1erVq/XEE0+oTJkyeuuttzRgwADt3LlT8+fP14EDB9SuXTtnxQm4LIYEupa0oYEzZkhMCQUAAHkpR6vxvPXWW5oyZYq2bt2qO+64Q59++qnuuOMOeXmZXC0iIkJTp05VOCupwsOdOyf9/LNpk1y5hltukcqWlfbsMYVGOna0OyIAAJBf5Ci5mjhxoh5++GF1795dZcqUyfSY0qVL66OPPrqm4ABX98cf0okTUlCQdNNNdkfjWYYPz/lj05KrF1+UNm3K3ecCAABIk6Pkav78+Spbtmx6T1Uay7K0d+9elS1bVj4+PurWrZtTggRcVdqQwDvvNGsswTXUqmUKWuzYIZ06JRUubHdEAAAgP8jRnKvy5cvryJEjl+w/duyYIiIirjkowB1YFvOtXFWpUlKZMqYc+19/2R0NAADIL3KUXFmWlen+xMRE+fn5XVNAgLvYvFnauVPy9ZVuv93uaPBftWqZ240b7Y0DAADkH9kaFti/f39JksPh0NChQ1X4orE2KSkpWrFihSIjI50aIOCq0nqtbrtNKlrU3lhwqRo1pHnzpP37paNHpZIl7Y4IAAB4umwlV+vWrZNkeq7+/PNP+fj4pN/n4+Oj2rVra8CAAc6NEHBRDAl0bUWLSuXLm3lXGzdKzZvbHREAAPB02UquFi5cKEnq0aOH3nnnHfn7++dKUICri4uTli837TvvtDcWXF6tWheSq2bNJIfD7ogAAIAny9GcqylTppBYIV/7/ntT0KJ+fem66+yOBpdTpYrk42PK5e/ZY3c0AADA02W55+qee+7R1KlT5e/vr3vuueeKx3733XfXHBjgymbONLd3321vHLiyggWlatWk9evNdsMNdkcEAAA8WZaTq4CAADn+f0xNQEBArgUEuLr4eCkmxrRJrlxfnTomsdq0SWrd2vRkAQAA5IYsJ1dTpkzJtA3kN7NnS+fOmSFnVarYHQ2uJixMKlFCOnbMJFh16tgdEQAA8FTZKmiR5vTp07IsK70U+7///quZM2eqWrVqatmypVMDBFwNQwLdi8MhRUZKCxaYHiySK8AYPtwznwsA7JSjghbt2rXTp59+Kkk6ceKEGjRooDFjxqhdu3aaOHGiUwMEXMmZM9Ivv5g2yZX7qF3bJFl79pg1rwAAAHJDjpKrtWvX6uabb5YkffPNNwoJCdG///6rTz/9VOPGjXNqgIAr+fVXKTFRuv56qV49u6NBVvn7mzWvJNN7BQAAkBtylFydOnVKxYoVkyTNmzdP99xzj7y8vHTTTTfp33//dWqAgCtJK4TZvj1rJrmbyEhzu2GDlJpqaygAAMBD5Si5qlChgmbNmqW9e/dq7ty56fOsDh06xPpX8Fjnz0s//GDaDAl0P5UrS4UKSSdPSv/8Y3c0AADAE+UouRo6dKgGDBig8PBwRUVFqWHDhpJML1YdZovDQ/3+u5mvU6KEdMstdkeD7CpQQKpRw7QZGggAAHJDjqoF3nvvvWrSpIkOHjyo2rVrp++/7bbbdDeX9OGh0qoEtm1rvqjD/dSpI61aJW3ZIp0+bXqyAAAAnCXHXxFDQkIUEhKSYV+DBg2uOSDAFVmWNGuWaXP9wH2FhEjBwVJcnPTnnxJ/sgAAgDPlKLlKSkrSG2+8oZiYGB06dEip/5kd/g8TGuBh1q41ZbyLFJFuv93uaJBTaWtezZ1rhgaSXAEAAGfKUXLVs2dPLV68WA899JDKlCkjB2XT4OHShgS2asVQMndXq5Y0f7508KDpwQoOtjsiAADgKXKUXP3yyy/6+eef1bhxY2fHA7iktOSKIYHur3BhUzlw82Zp3TqTMAMAADhDjqoFBgYGqkSJEs6OBXBJ27ZJf/9tili0aWN3NHCGtDWv/vxTSkmxNRQAAOBBcpRcvfLKKxo6dKhOnTrl7HgAl5PWa3XrrVLx4raGAiepUEEqWlQ6dcokzwAAAM6Qo2GBY8aM0c6dOxUcHKzw8HAVLFgww/1r1651SnCAK/juO3PLkEDP4eVl5l4tXcqaVwAAwHlylFy1b9/eyWEArmn/fmnlSlNlrl07u6OBM9WpY5Kr7dtNcYsyZeyOCAAAuLscJVfDhg1zdhyAS0pb26phQ758e5qgIOn666V9+6SpU6XBg+2OCAAAuLsczbmSpBMnTujDDz/U4MGDdezYMUlmOOD+/fudFhxgN6oEera6dc3t5MnSf5brAwAAyLYcJVcbN25UpUqVNHLkSI0ePVonTpyQJH333XcazOVfeIhjx6RFi0yb5MozVa8u+fpKu3ZJv/5qdzQAAMDd5Si56t+/v7p3767t27fLz88vff8dd9yh3377zWnBAXb6/ntTprtmTal8ebujQW4oWFCqXdu033/f3lgAAID7y1FytWrVKvXu3fuS/dddd51iY2OvOSjAFXz9tbm97z5740DuShsa+P33prAFAABATuUoufL19VVCQsIl+7dt26ZSpUpdc1CA3Y4evTBMrGNHe2NB7ipdWmrUyPRSfvyx3dEAAAB3lqPkqm3btnr55Zd17tw5SZLD4dCePXv0/PPPq0OHDk4NELDDrFnS+fNmyFjlynZHg9yW1hE/ebJJsgAAAHIiR8nVmDFjlJiYqFKlSun06dNq2rSpKlSooGLFium1115zdoxAnpsxw9wyJDB/6NhRCgyU/v1Xmj/f7mgAAIC7ylFyFRAQoPnz5+vnn3/WuHHj1KdPH82ePVuLFy9WkSJFsnWuCRMmKDw8XH5+foqKitLKlSsve+ymTZvUoUMHhYeHy+FwaOzYsZccM3z4cDkcjgxblSpVsvsSkY8xJDD/KVRI6trVtClsAQAAcirbiwinpqZq6tSp+u6777R79245HA5FREQoJCRElmXJ4XBk+VzTp09X//79NWnSJEVFRWns2LGKjo7W1q1bVbp06UuOP3XqlMqVK6eOHTvqmWeeuex5q1evrl8vqqtcoECO1kpGPjVzphkaFhkpVaxodzTIK716Se+8I/34o3TggBQaandEAADA3WSr58qyLLVt21Y9e/bU/v37VbNmTVWvXl3//vuvunfvrruzuRjQW2+9pUcffVQ9evRQtWrVNGnSJBUuXFgfX2ZWef369fXmm2+qc+fO8vX1vex5CxQooJCQkPQtKCgoW3Ehf6NKYP5UrZrUpIlJrD/6yO5oAACAO8pWcjV16lT99ttviomJ0bp16/Tll1/qq6++0oYNG/Trr79qwYIF+vTTT7N0ruTkZK1Zs0YtWrS4EIyXl1q0aKFly5Zl71X8x/bt2xUaGqpy5crpgQce0J49e654/NmzZ5WQkJBhQ/50+LC0YIFpMyQw/6GwBQAAuBbZSq6+/PJLvfDCC2revPkl9916660aNGiQvvjiiyyd68iRI0pJSVFwcHCG/cHBwde0VlZUVJSmTp2qOXPmaOLEidq1a5duvvlmnTx58rKPGTFihAICAtK3sLCwHD8/3FvakMAbb5QqVLA7GuS1e++VSpSQ9u6V5s61OxoAAOBuspVcbdy4Ua1atbrs/a1bt9aGDRuuOahr0bp1a3Xs2FG1atVSdHS0Zs+erRMnTujrtLFemRg8eLDi4+PTt7179+ZhxHAl06ebW3qt8ic/P6lbN9OmsAUAAMiubCVXx44du6Sn6WLBwcE6fvx4ls4VFBQkb29vxcXFZdgfFxenkJCQ7IR1RcWLF1elSpW0Y8eOyx7j6+srf3//DBvynwMHpIULTbtTJ3tjgX169TK3P/0k7dtnbywAAMC9ZCu5SklJuWLlPW9vb50/fz5L5/Lx8VHdunUVExOTvi81NVUxMTFq2LBhdsK6osTERO3cuVNlypRx2jnhmaZPlyxLatRIioiwOxrYpUoV6ZZbpNRUClsAAIDsyVaNcsuy1L1798tW6jt79my2nrx///7q1q2b6tWrpwYNGmjs2LFKSkpSjx49JEldu3bVddddpxEjRkgyRTD+/vvv9Pb+/fu1fv16FS1aVBX+f4LMgAEDdNddd+mGG27QgQMHNGzYMHl7e6tLly7Zig35T9p0wfvvtzcO2K93b+m336QPP5T+9z+J1RwAAEBWZOsrQ7e0yQhX0DVtJc4s6NSpkw4fPqyhQ4cqNjZWkZGRmjNnTvrQwz179sjL60Ln2oEDB1SnTp30n0ePHq3Ro0eradOmWrRokSRp37596tKli44ePapSpUqpSZMmWr58uUqVKpXluJD/bN0qrVkjeXsz3wpShw7SU0+ZYYGzZ0tt29odEQAAcAfZSq6mTJni9AD69OmjPn36ZHpfWsKUJjw8XJZlXfF8X331lbNCQz7y5ZfmtmVLKZP1q5HP+PpKDz8svfmmNGECyRUAAMiabM25AjyRZTEkEJd6/HHJ4ZDmzTM9mwAAAFdDcoV8b/VqaccOqVAhqV07u6OBq4iIkO6807Tfe8/eWAAAgHsguUK+N22auW3XTipWzN5Y4FrSRixPmSJdYR1yAAAASSRXyOdSUqS0aXoMCcR/tWghVa5sEqvPPrM7GgAA4OpIrpCvLVggxcZKgYFSdLTd0cDVeHlJTz5p2uPHm/l5AC5ITZWOH5d27ZLWrpUWLZKWL5c2bzYLs585Y3eEAJC3WL0F+donn5jbTp0kHx97Y4Fr6tZNeuEF82VxwQLpttvsjgiw3+HD0vr10saNUmLi5Y9zOMz8xeuvl+6+WypZMs9CBABb0HOFfCs+XvruO9P+/3WrgUv4+5sES5LefdfeWAC77dxpFtd+7z1p6VKTWHl7m6SpQgWpTh2pWjXpuuukokVNb+8//0iPPiqFhEgPPmjOAQCeip4r5BvDh2f8ee1a6fRpKShI+vlns1gskJknnzTrXf3wg/miWK6c3REBeSsxUZo7V/rrL/Ozl5dUsaIUGWluvb0zf9yxY9KmTeZ2/Xqz7MX06SbZGjJEKlMmr14BAOQNeq6Qb23YYG5r1zZDV4DLqVrVzMmzLHqvkP+sW2fmHP71l/lb2aCB1L+/1LmzVKXK5RMrSSpRQrr5ZnOONWuk1q2l8+eliRNNT9f48WbeFgB4CnqukC8dOybt2WO+KNSqZXc0cAfPPGOu3H/0kfTSS2a4IODJUlOlOXOkVavMz2XKmLXfQkOzf660kQMNGkilS0sxMdK+fVLfvtJbb0lt20rFizsn7v+OUgCAvETPFfKl9evNbfnyfElG1rRsaXqwTp40CRbgyc6cMWsApiVWt94q9eyZs8Tqv8LDpYcfNr1YBQuaSoMTJ14YTQAA7oyeK+Q7lmUqXElmSCCQ1Svd5cubqoEvv2zKT3vl4PIUV9Xh6k6cMHOjjhwxyc/dd5sLC86UNrywfHnp+++lvXulWbPMbatWUgG+nQBwU/RcId/ZvdtUCvT1NfMFgKyqVUsqVMh8+dy61e5oAOdLSDBLVBw5IhUrZiqpOjuxuljJklL37lKzZubnNWukqVNNHADgjkiukO+kDQmsUYOro8ieggWlevVMe/lye2MBnC0xUfr0U3PxIDDQDAPMi2p+Xl5S06bS/fdLfn7S/v3S++9L//6b+88NAM5GcoV85fRp6e+/TTsy0tZQ4Kbq1zdfBvfskQ4csDsawDlOnZI++0w6elQKCJC6ds37+agVK0q9epn1sE6dMoneunV5GwMAXCuSK+Qrf/5pygCXLm0WuQSyq1gx0+spScuW2RsL4AzJydLnn0uHDpmFf7t2dV7lvuwKDDTFLqpVM9UKf/hBmjePcu0A3AfJFfINyzLj+SWpbl3WtkLONWxobjdtMoUtAHdlWdLMmdLBg1LhwiaxKlHC3pgKFpTuvdcMFZTMRYyvvpLOnrU3LgDICpIr5Bv79pkrswUKsLYVrk1IiKlyZln0XsG9LVggbdliFgLu3FkqVcruiAyHwxS5uPde8zd7+3azBAIXMwC4OpIr5Btr15rbGjXMpGngWjRubG7XrTPzQwB3s2GD9Pvvpt22rRQWZm88male3VQsLFZMOnxYmjyZQhcAXBvJFfKFEyekv/4y7RtvtDUUeIjwcFNJ7fx5aeVKu6MBsmfZMunHH027SRPX7s0PDb2wgPHp06bQRdrFMgBwNSRXyBe++OJCIYvrr7c7GngCh+NC79XKldK5c/bGA2TVoUNmuF1Kilnr79Zb7Y7o6vz9zXpY1aub4hY//ijNnUuhCwCuh1V+4PEsy6yZIpleKwpZwFmqVjXVzY4fN8MDGzSwOyLgylJSpAceMMsIBAVJd9/tPn8TCxaUOnQwcS9ebNaaO3rU7PP1tSem4cM987kA5Bw9V/B4K1aYEuwUsoCzeXldqBy4bBlX0eH6XnlF+vVXUxmwY0fJx8fuiLIns0IXH35oeuMAwBWQXMHjjR9vbqtXlwoVsjcWeJ7ISPNF9cQJk8QDrmrePOnll0170iQzTNpdXVzo4sgRU+hizRozUgEA7ERyBY928KD09demzZAt5IaCBS/0Xi1ZQu8VXNOBA2Y4oGVJvXpJDz1kd0TXLjRU6t1bqlDBzKn96Sfp22/NhQ4AsAvJFTza+++bQgONGpn/iIHcUL++Ke9/9Ki0ebPd0QAZpaaaxYGPHDE9re+8Y3dEzlOkiHT//dLtt5thups2mbmQ331nd2QA8iuSK3iss2fN0BdJeuope2OBZ/P1lW66ybR/+42hSXAtb70lxcSYYdFfful56/w5HOYCWo8eUsmSUmysKXJx993S/v12RwcgvyG5gseaMUOKizM9VvfcY3c08HQNGpjiAIcOSVu32h0NYKxdK73wgmm/844pve6prr9eeuwx6cUXTbGLWbOkypWlIUMYKggg75BcwSNZ1oWhL088YebFALmpUKEL8/qWLKH3CvZLSpK6dDFDo+++2yzE6+kKFDAVEdeuNb3JSUnSq69K5cpJI0dKJ0/aHSEAT0dyBY+0YoW0erXpSXj0UbujQX5x000mkT9wQNq50+5okN8984y0bZt03XWmmp67rGflDDVrSkuXmrlX1aqZtegGDTIjGR5/XNqwwe4IAXgqkit4pHHjzG2XLu5dbhjupUgRqW5d0160iN4r2Ofbby8kVJ99ZuYi5TcOh+mx27hR+uQTqVIlKTHRzMWNjDSFaNJ6ufi3CsBZSK7gcf7990L59b597Y0F+U/jxqb3av9+s8ApkNf27bvQYz9woNS8ub3x2M3b21RL3LLFFPa47z4zfHD1amnoUHNB5PrrpU6dpFGjzDFHj5JwAciZAnYHADjb229LKSnmC0VaLwKQV4oWNXOv/vhDWrhQqlgxfw3Hgr1SUswaVsePS/XqXVg0GObf4a23mi0uTvrhB+nnn6VffzVDeb/++sKFOUny9zdztSIiTPIVEnLplpJikjcASENyBY9y9KgZCiNJzz9vbyzIvxo1klatMiWhN282cz6AvPDmm2ZIapEi0rRpZt4pLhUcbHr3Hn3ULNvx+++mJ2vNGrP984+UkCCtX2+2KylaVAoMlIoXN7chIWZul78/F1aA/IjkCh7lvfekU6ek2rWlli3tjgb5VeHCprjFb7+ZL7pVqpgFToHctHKlKTsumXmnFSvaG4+78PWVbrvNbGlOnZJ275Z27TLbwYPmYsnFW1yc6blKTDTb3r0Zz1u4sFS2rCkHX7GiSXgBeD6SK3iMU6cuFLIYOJArhrBXw4bmy+7hw9KmTaZ6GZBbEhJMAZ/z56WOHc2Cusi5woVNj/OVep1TU80IiRMnzHb8uBk9cfCgWe/u1Ckzz2vLFnN8WJh0441SjRpmzhcAz8Q/b3iMqVOlI0ek8HAzYRmwk5+fSbAWLjS9V9WqMTcDucOyTHnxf/6RbrhB+uADLi7lBS8v0xtVpIgpd3+xc+dM79bOnWZR8dhY07O1d6+Z41WvntmKFrUndgC5h+QKHuH8eWn0aNN+9lmuCsI1REWZNdeOHTPlnuvXtzsieKLPPjPzq7y9zW3x4nZHhIIFTU9VWJjUrJkUHy/9+aeZi5mQIC1ebNbhuvlmcxGG/7MAz8EsAHiEb74x4+JLlmQ4DFyHr6/UtKlpL15sJs4DzrRtm/TEE6Y9fLgppgLXExAgNWkiPfWUdO+9pqfr3DlpwQIzV3jrVkq/A56C5ApuLyXFLAQpmf+4mDQMV1K3rlSihJSUJC1bZnc08CTJyWaeVVKS6R0ZPNjuiHA13t5S9erSI4+YBY6LFjVztb76Spo50/xOAbg3kiu4vRkzpL//NkNhnnrK7miAjLy9L1QhW7rUTHYHnOGFF8xw0xIlpM8/Z06fO3E4pFq1pD59TG+jw2GGDU6ebIphAHBfJFdwaykpFxbJfOYZ5hrANVWtemEY0Esv2R0NPMGcOdKYMaY9ZcqlBRXgHnx9pdtvl7p3l4oVM0WZJk+++tpaAFwXyRXc2owZZpHW4sWlp5+2Oxogcw6H+QIlSR9+aD6zQE7Fxkrdupl2nz5S27b2xoNrV7as1Lu3VL68KdD0/fdmnibzsAD3Q3IFt3Vxr1X//mbCMOCqbrjBLCaakiINGGB3NHBXqakmsTp0yAwre/NNuyOCsxQpIj3wgKkgKJklHObOJcEC3A3JFdzWxb1WzLWCO7j9dlOiefZs6eef7Y4G7mjECGnePKlQIVMEwc/P7ojgTA6HdOutUqtW5ucVK6QffjBJNQD3QHIFt3T+/IW5K88+S68V3EPJklK/fqbdrx+l2ZE98+dLQ4aY9vjxZi4fPFNUlNS+vUm21q83lQRJsAD3YHtyNWHCBIWHh8vPz09RUVFauXLlZY/dtGmTOnTooPDwcDkcDo0dO/aazwn39Mkn0pYtpkpW3752RwNk3YsvSiEh0o4d0mX+hAGX2LPHlF23LKlnT+nhh+2OCLmtdm2pUyfJy0v66y8z/J0hgoDrszW5mj59uvr3769hw4Zp7dq1ql27tqKjo3XoMnVIT506pXLlyumNN95QSEiIU84J93PqlDR0qGn/73/0WsG9+PtLo0aZ9iuvSPv32xsPXN/Zs2bh2aNHzbpp775rd0TIK5Urmx4sSXrnnQt/OwC4Lodl2XcdJCoqSvXr19f48eMlSampqQoLC1Pfvn01aNCgKz42PDxc/fr1U7+0MTZOOGeahIQEBQQEKD4+Xv7+/tl/YchVI0aY9V1uuMGsau/rm7XHDR+eq2EBWTJ8uBne06SJWVT4gQfMGkVAZixLeuwx6YMPTE/9mjVSeLhzzs3fRPexfLkpbiFJH38s9ehhbzxAfpOd3MC2nqvk5GStWbNGLVq0uBCMl5datGihZcuW5ek5z549q4SEhAwbXNPRo9Ibb5j2q69mPbECXImXlzRunJlP8cUX0sKFdkcEVzVhgkmsHA5p2jTnJVZwLzfdJA0caNqPPsrfDMCV2ZZcHTlyRCkpKQoODs6wPzg4WLGxsXl6zhEjRiggICB9CwsLy9HzI/e99pqUkCBFRkr33293NEDO1atn1rWRzO2ZM/bGA9czb96F9ftGjpSio+2NB/Z64w3T052SYuZi7d1rd0QAMmN7QQtXMHjwYMXHx6dve/mL5ZJ27zZXcSXzRcOLTy/c3IgRUpky0vbt5sIBkGbLFum++y6sa8XaaHA4TC9mZKR0+LCZh0fFUcD1FLDriYOCguTt7a24uLgM++Pi4i5brCK3zunr6ytfxpe5vEGDpORkqUULqWVLu6MBrl3x4qY4wb33mqvSnTpJNWrYHRXsduyYdNddUny81Lix9P775os18re0OXK33GKS75Urzefjzjtz77kAZJ9t1/59fHxUt25dxcTEpO9LTU1VTEyMGjZs6DLnhGtYvFiaPt30Vo0ebXc0gPPcc4/Utq1Zu613b9ayye9OnTKJ1Y4dpmjPd98xtxQZBQZKHTqY9po10rp19sYDICNbB1b1799fkydP1ieffKLNmzfr8ccfV1JSknr8fxmcrl27avDgwenHJycna/369Vq/fr2Sk5O1f/9+rV+/Xjt27MjyOeF+zp+XnnrKtHv3Nmt/AJ7C4TALwhYtKi1dKk2aZHdEsMv581LnzuZzULy49NNPUunSdkcFV1ShgtS8uWn/8osp9gTANdg2LFCSOnXqpMOHD2vo0KGKjY1VZGSk5syZk16QYs+ePfK6aGLNgQMHVKdOnfSfR48erdGjR6tp06ZatGhRls4J9zN5srRxo7la98ordkcDOF9YmPT66+YiwsCBpnBB+fJ2R4W8lFZy/ccfJT8/c8sQUVzJzTebuci7dkkzZ5ry7N7edkcFwNZ1rlwV61zljayM6T51ylzVP31aat1aatAg18MCctXlPvepqdKtt5ohsI0bm1u+KOUfL75oipp4eZmhgO3a5f5zMq/G/cXHm97uM2fMXKy03qxrxWcDyMgt1rkCsmLhQpNYlS5tSlcDnsrLS5o6VSpWTPrjD2nMGLsjQl559dUL1SInTcqbxAqeISBAatPGtJcsoTw74ApIruCyDhwwk3UlqVUrSq/D84WHS++8Y9pDhpjhsPBsb7xhfteSNGqUWSAWyI4aNaSaNc3Q0pkzTVVdAPbh6ypcUmqqmcxtWeY/jogIuyMC8kb37qZ6YHKy9NBDrGPjyUaPltJqNr3+uvTcc/bGA/d1xx2mF+v4cWnBArujAfI3kiu4pFWrpIMHTQni6Gi7owHyTtpCoUFBpueKL9yeaeTIC7/bl1++kGQBOeHnZ0r4S9KKFdK+ffbGA+RnJFdwOQkJF668tWhhSlQD+UlwsPTJJ6b97rvSt9/aGw+cx7LMguiDBpmfhw69MCwQuBbly19YquTHH6WUFHvjAfIrkiu4nF9+MUOirr9eqlvX7mgAe9xxh/T886b98MPSP//YGw+uXUqKKbc+cqT5edQo6aWX7I0JnqVlS6lwYenQIVMYB0DeI7mCS9m6VdqyxRSvuPNOM0QKyK9eecWUZU9IkO67j/lX7uzMGen++82QTy8vs34fQz7hbIULmwJQkvTbb9KRI/bGA+RHJFdwGWfOSD//bNoNG5qhUUB+VrCg9OWXUsmSpnLmM8/YHRFy4vBh6bbbpK+/Nr/T6dOlnj3tjgqeqkYNqWJF01P6449mKCqAvENyBZcxd6508qT5Itm0qd3RAK4hLEz69FPTiztxolkHCe5j82YpKkpaulQqXtz8nbv3XrujgidzOMzaVwULSnv2SH/+aXdEQP5SwO4AAEnasUNav96027Y1/ykAMO64wyw0+7//SX37SlWqSM2a2R0Vrmb+fKljRyk+XipXzvTMV6ly5ccMH54nocHDBQRIN99sikPNny9Vrmyq7wLIffRcwXZnz5qhC5K5wlu2rL3xAK5o8GCpSxfp/HmpQwcKXLgyyzKLA7dqZRKrRo2k5cuvnlgBztSwoVSihJSYKC1aZHc0QP5BcgXbzZtnJuwHBkq33mp3NIBrcjikjz6S6teXjh0zPbzx8XZHhf9KSDDJ7+DBZjH0Rx6RYmKkUqXsjgz5TYECUuvWpr1ihakgCCD3kVzBVjt2SGvXmnbbtpKPj73xAK6sUCFp5kypTBlp0yapfXtTCAauYeNGqUED8zvy8TGVAT/80CzwCtihQgXTY2pZ0uzZFLcA8gLJFWxz6pT0/femXb++FB5uaziAW7juOjN3p1gxM9TngQdYLNRuliW9955JrLZuNb+j336THn3U7sgAKTra9GL9+6+5KAMgd1HQAhnk1WRqyzJfEBMTpaAg6fbb8+Z5AU9Qp465MNGqlfTdd9ITT5gqgqwLlzuu9Hfx9GkzZ3TzZvNzxYqmR/GXX8wG2K14calJE3MxJibG9GQV4NsfkGvouYIt/vxT+vtvs5jm3XdTHRDIrubNpS++MAnVBx9IL77IkJ+8tn27KY+/ebP5WxYdbYqOFC5sd2RARg0bmt7uEyfM/CsAuYfkCnkuPt6M/ZbMelahofbGA7ire+81w9Ek6fXXpaFDSbDywtmz0g8/SNOmXVib75FHpJtuovcQrsnH50LBqCVLpKQke+MBPBnJFfKUZUmzZpkvJ9dfb4YqAMi5xx6Txowx7bS1sEiwcs8//5jeqnXrzM833ST17s1FIri+2rWlkBDz/y+l2YHcQ3KFPLV8ubR7txkGePfdZigNgGvTv7/09tumPWKENGgQCZazJSebeaKffWZ63wMDpe7dzVBAhjXDHTgcUsuWpr1mjXT4sL3xAJ6Kr7bIM4cOmcm0kvlCUqKEvfEAnqRfP2ncONMeNUp6/HGz4DCu3e7dpmDI6tXm53r1TI/hDTfYGhaQbRERUuXK5uLLr7/aHQ3gmUiukCfOnzdVzVJSpEqVpBtvtDsiwPP07WuGrDkc0vvvS/fcY5Y8QM4cOiR16yZ98ol0/LgUECA99JDUpg1r8sF9tWhhRo1s22aGuQJwLpIr5ImFC6W4OFNF6667mPQN5JbHHpO++cYsXPvjj2YSO8N/sic11VRgrFJF+vRTs69ePdMbWK6cvbEB1yooSKpb17TnzTOfdwDOQ3KFXPfvv9LSpaZ9111S0aL2xgN4unvuMUN+SpQwZZejoqQNG+yOyj1s2CA1bmyKVBw/LkVGSj17mt4qX1+7owOco1kz83mOi+NvA+BsJFfIVWfPSjNnmnZkpLkSDCD3NW4s/fGHmWOxa5dZ5+bLL+2OynWdPCk9+6y5or98ubkINHastGqVdN11dkcHOFfhwtItt5j2ggWmYAsA5yC5Qq6aM8dU1ipeXGrVyu5ogPylShVThKFlS+n0aen++01lwXPn7I7MdaSkSB99ZOaCvvWW+bljR2nLFunpp6UCBeyOEMgdDRqY/5sTEy+MLgFw7UiukGs2b5bWrzfzq+6+myE1gB1KlDCLdg8ebH5++23Tq7Vtm71xuYJffzXFdXr2lGJjzXyq2bOlr7+mtwqer0ABU9xCMslVQoK98QCegmtyyBUnT5rJ9JL5Ile2rL3xAK5i+PC8fy5vb+n116X69aWHHzZD3erUMT01vXrlvwIzf/8tPfecSaQkc/V+yBDpySe5CIT8pVo1KSxM2rvXFJ5q187uiAD3R88VnM6ypB9+MMOQQkLMxFkA9rv7bunPP00FwVOnTGXBNm3MOk75waFD0hNPSLVqmcSqQAHpqaekHTvMcEkSK+Q3Dod0++2mvWGD+TcC4NqQXMHp1qwxX1a8vc2XOW9vuyMCkOb666X586UxY8xaTb/8Yq5ejxzpuZPajx2TXnjBDPubONHMq2rfXtq0SXrnHalkSbsjBOwTFiZVrcrCwoCzkFzBqY4eNetmSGYsd+nS9sYD4FJeXqanZv16qWlT08s8aJAZKjh3rvmS5QmOHZOGDZPCw6URI6SkJLNe1aJFpopppUp2Rwi4httuM38Xtm831UUB5BzJFZwmNdV8YTl3zpR/joqyOyIAV1K1qpln8cknZmHRv/82VT1btDDzstzV3r0meSxbVnr5ZTMHtHZtadYsaeVKk1ACuKBkyQsLC//6KwsLA9eC5ApO89tv0v79kp+fGXKT3ybJA+7I4ZC6dpW2bpX69TNDBRcsMGWa77nHLELsLlauNK+lXDlTFTEpySRVM2ZIa9eayfr8XQIy17Sp+fd/4ICpmAkgZ0iu4BQHDpjkSpLuuEPy97c3HgDZU6KESUi2bZO6dTNJyMyZ0k03mcVGf/jBNa9mJyVJU6eaSohRUdJnn0nnz5tCOr/8Iq1bJ917rxnyBODyihQx1X0lM0fx7Fl74wHcFf/d4JqdP2++hFmWVL26VLOm3REByKkbbjDJyl9/Sd27SwULSkuWmF6f8HBTsnznTntjTEkxQ5e6dTMVSXv0MIsl+/hIDz1ketsWLjRDHOmpArLuppukokXNvKuJE+2OBnBPDsvylKnLzpOQkKCAgADFx8fLP591weRkDZ75880ChEWLSo8/LhUu7PSwAOSAM9bU2r9fGjdO+uAD6cSJC/sbNzYJ1113SZUr534Sk5Rk/tb8+KM0fbr5OU1goFkMuE4dc/UdQM6tXWv+nZUoYS6kFC9ud0SA/bKTG5BcZYLkKuv27pU+/ti0O3c2X7IAeJ7z56UtW0yFwf/2XJUoYYbeNWxotkqVrj3ZOnrU9ED9/rv0xx+mffEwJT8/01Neu7YpL08PFeAcqanSt9+aAjfPPy+98YbdEQH2I7m6RiRXWXPunDRpkil3XLu2KWIBwPMlJJhEa9s2swBxSkrG+/39TYJVqZJUsaJUpoxJwAIDpWLFzJe3lBSznThhFi49dMj0km3ebL7UZbaYaUSE6Sk7ftwMX2QNPSB31Ktn/q35+pp/52XL2h0RYK/s5AYF8igmeKCYGJNYFStm5jYAyB/8/U01wQYNTG/Srl3my9eyZWbuU0KCuV29+tqep2JFqUmTC1vFiqaHyhnDHQFcXps2pnrg4sXS0KFmHiaArCG5Qo7s3n2hRHPbtmaIDoD8x9dXqlLlQsKTnGyudG/fbm537JAOHza9TceOSYmJpnKft7e5LV7cLDZeurQpTlG5sll/q0oVM48TQN5zOKRRo0wFzk8/lZ55xoxQAXB1JFfItuRk6fvvTfvGG6UKFeyNB4Dr8PGRatQwGwD31aCB1KmTKSDz/PPSnDl2RwS4B0qxI9vmzTPzJAICpJYt7Y4GAADkhtdeM8sxzJ1rlj8AcHUkV8iWnTulNWtMu107MyQIAAB4nvLlpSeeMO2BA11zIXHA1ZBcIcvOnJF++MG069c3lbsAAIDnevFFU8Rm3Trpyy/tjgZwfcy5Qpb9+qupAhYYKLVoYXc0AFwJFfwAzxQUJA0ebLb//U/q0IEiVsCV0HOFLNm9+8JwwLZtzaR1AADg+Z5+2izW/e+/0oQJdkcDuDaSK1zVuXPSjz+adt26Uni4reEAAIA8VKiQ9Morpv3qq9LRo/bGA7gyl0iuJkyYoPDwcPn5+SkqKkorV6684vEzZsxQlSpV5Ofnp5o1a2r27NkZ7u/evbscDkeGrRWr3ObYokUXFgtmOCAAAPnPQw9JtWqZasEvvWR3NIDrsj25mj59uvr3769hw4Zp7dq1ql27tqKjo3Xo0KFMj1+6dKm6dOmiRx55ROvWrVP79u3Vvn17/fXXXxmOa9WqlQ4ePJi+fckszBw5eFBatsy027RhnDUAAPmRt7c0dqxpv/eetHmzreEALsv25Oqtt97So48+qh49eqhatWqaNGmSChcurI8//jjT49955x21atVKzz33nKpWrapXXnlFN954o8aPH5/hOF9fX4WEhKRvgYGBefFyPEpKiqkOaFlS9epS5cp2RwQAAOzSvLnUvr35fvDss3ZHA7gmW5Or5ORkrVmzRi0uGmvm5eWlFi1aaFlad8l/LFu2LMPxkhQdHX3J8YsWLVLp0qVVuXJlPf744zp6hQHCZ8+eVUJCQoYN0tKlUmysGWvdurXd0QAAALu9+aZZWPiXX8wGICNbk6sjR44oJSVFwcHBGfYHBwcrNjY208fExsZe9fhWrVrp008/VUxMjEaOHKnFixerdevWSklJyfScI0aMUEBAQPoWFhZ2ja/M/R05Ii1ebNrR0VKRIvbGAwAA7FehgqkeKJneq3Pn7I0HcDW2DwvMDZ07d1bbtm1Vs2ZNtW/fXj/99JNWrVqlRYsWZXr84MGDFR8fn77t3bs3bwN2MZZlqgOmpJjV2WvVsjsiAADgKl58USpVysy7mjjR7mgA12JrchUUFCRvb2/FxcVl2B8XF6eQkJBMHxMSEpKt4yWpXLlyCgoK0o4dOzK939fXV/7+/hm2/Gz1amnPHtPtf+edksNhd0QAAMBVBARcKM0+dKh0mRpkQL5ka3Ll4+OjunXrKiYmJn1famqqYmJi1LBhw0wf07BhwwzHS9L8+fMve7wk7du3T0ePHlWZMmWcE7gHi4+Xfv3VtG+7TSpe3NZwAACAC+rZU7rxRvO9YdAgu6MBXIftwwL79++vyZMn65NPPtHmzZv1+OOPKykpST169JAkde3aVYMHD04//umnn9acOXM0ZswYbdmyRcOHD9fq1avVp08fSVJiYqKee+45LV++XLt371ZMTIzatWunChUqKDo62pbX6C4sS/r5Zyk52azEXr++3REBAABX5O0tpRVqnjLlwrItQH5ne3LVqVMnjR49WkOHDlVkZKTWr1+vOXPmpBet2LNnjw4ePJh+fKNGjTRt2jR98MEHql27tr755hvNmjVLNWrUkCR5e3tr48aNatu2rSpVqqRHHnlEdevW1ZIlS+Tr62vLa3QXX30lbd9u/mC2bSt52f7pAAAArqphQ+n/r4WrTx8zVxvI7xyWZVl2B+FqEhISFBAQoPj4+Hwz/+rIEalqVXPbrJnUtKndEQEAADsMH571Yw8dMutgnjhhils89lhuRQXYJzu5AX0TkCT162cSq9KlpSZN7I4GAAC4g9KlLxS3eOEF6fBhe+MB7EZyBc2eLX3xhRkG2LatGRYIAACQFY89JkVGSsePS/372x0NYC+Sq3wuIeFCF36/ftJ119kaDgAAcDMFCkgffGAu0n7+uTRvnt0RAfYhucrnnn9e2rtXKldOevllu6MBAADuqH596amnTPuxx6RTp+yNB7ALyVU+tmCBNGmSaX/4oVSkiL3xAAAA9/XKK1LZstKuXdkrigF4EpKrfCopySwAKJkrTM2b2xsPAABwb0WLSu+9Z9pvvSWtW2dvPIAdSK7yqf/9z1xZKltWGjXK7mgAAIAnaNNGuu8+s+bVww9Lycl2RwTkLZKrfOiPP6Rx40z7gw+kYsXsjQcAAHiOceOkkiWl9eulV1+1Oxogb5Fc5TOnT5srSZZlVlWPjrY7IgAA4EmCgy/M6X79dWnVKnvjAfISyVU+M3y4tG2bVKaMNGaM3dEAAABPdO+9UpcuZnhg167m4i6QH5Bc5SOrVkmjR5v2pElSYKC98QAAAM81fry5mLtli5nrDeQHJFf5xNmzZhhgaqp0//1S27Z2RwQAADxZiRJmqRdJGjtW+vVXW8MB8gTJVT7x2mvSpk1S6dLSO+/YHQ0AAMgP7rhD6t3bzPV+8EEpNtbuiIDcRXKVD6xeLY0YYdoTJkhBQfbGAwAA8o+335Zq1JDi4kyClZJid0RA7iG58nCnTpk/ZOfPSx07mgmmAAAAeaVQIenrr6XChaWYGOmNN+yOCMg9BewOALlr4EBp61YzoTStLCoAAMDlDB+eO+e9/Xbp+++lIUOkHTukG27IvecC7ELPlQebM8cMA5SkqVPNxFIAAAA7REZKtWub+VfffCMlJNgdEeB8JFce6uhRs1iwJPXtK7VsaW88AAAAd9xhimslJkpffcX6V/A8JFceyLKknj2lgwelKlUY2wwAAFyDj4/UubOZh3XwoPm+Yll2RwU4D8mVB3r3XWnWLPMH7IsvzARSAAAAVxAYKN13n+TlJU2bJr35pt0RAc5DcuVhVq+WBgww7dGjpRtvtDceAACA/woPl1q1Mu1Bg6Rvv7U1HMBpSK48SHy81KmTdO6cdPfdUp8+dkcEAACQufr1pccfN8MC779fWrjQ7oiAa0dy5SEsS+rVS/rnH3M16KOPJIfD7qgAAAAu7913pXvukZKTpXbtpLVr7Y4IuDYkVx7i7bfNAn0FCpjqO4GBdkcEAABwZd7eZn548+bSyZNmqOD27XZHBeQcyZUHmDdPeu45037rLSkqyt54AAAAssrPzxTiqlNHOnxYuu02Eiy4L5IrN7djhylpmpoq9ejBPCsAAOB+/P2lOXPMEjJ790pNm0p//213VED2kVy5sZMnzfjk48elm26SJk5knhUAAHBPpUtLixdLNWuaNbCaNZM2bLA7KiB7SK7c1LlzUpcu5qpOmTKmhKmvr91RAQAA5Fzp0qZq4I03miGCzZtLS5faHRWQdSRXbsiypN69pZ9/NuOUZ86UQkPtjgoAAODalSwpxcSYUTnHj5sE64sv7I4KyBqSKzf04ovSlClmZfPp0ylgAQAAPEvx4tKvv0rt25sy7Q8+KA0dauaYA66M5MrNvPuu9Prrpv3++1LbtvbGAwAAkBuKFDHTHgYOND+/8op0333SiRO2hgVcEcmVG/n4Y+npp0375Zelnj3tjQcAACA3eXlJI0dKH31k1vL89ltTsn35crsjAzJHcuUm3n9feuQRM9+qTx8zNBAAACA/ePhh6fffpYgIafduqUkTacQIKSXF7siAjEiu3MD48dJjj5n2009L48ZRch0AAOQvUVHSunVmfc+UFOmFF6RGjaT16+2ODLiA5MrFvf221LevaQ8YYH4msQIAAPlRQIA0bZqZKuHvL61cKdWrZ74jJSbaHR1AcuXSTp40vVSSuTozahSJFQAAyN8cDqlHD2nzZqljR9OLNWaMVKWKNHmydP683REiPyO5cmHFikkLFkhvvSW9+iqJFQAAQJrQUOnrr826n+Hh0v79Uq9eUrVqZqkayrbDDiRXLi4iQnrmGRIrAACAzNxxh+nFevttKShI2r7dzMuqUkWaMEFKSrI7QuQnJFcAAABwa35+Ur9+0j//SC+9ZOZmbd9uKixff72Zk7Vpk91RIj8guQIAAIBHKFZMGjpU2rdPevddqUIFs+jwmDFSjRpS3brSO++YIYRAbiC5AgAAgEcpWtT0Wm3ZIn3/vdS+vVSwoLR2renhuv56U2Xw5ZelNWtYLwvOQ3IFAAAAj+TtLbVtK82cKR04YNYObdTIzGVfs0YaNswkWUFBUrt2Zt7W8uXSmTN2Rw535bAsy7I7CFeTkJCggIAAxcfHy9/f3+5w8tTw4XZHAAAA4HwXf8c5dMhUGfz+e1OZ+eTJjMcWKCDVrGmGEVataopjVKki3XCDSdiQv2QnNyiQRzEBAAAALqF0abNWVo8eZl2s9eulRYukxYvNwsSHDknr1pntYr6+UqVKUuXK5rZsWTPEMCzM3AYGUuE5vyO5AgAAQL5VoIAZGlivnqkqaFnS3r3SqlXShg3S1q1m7tbWrdLZs9Kff5otM4ULmyTruutMAhcUJJUqdWG7+OeSJc1zw7PwKwUAAIDHy8nUBy8vMyywalWzKHF8vHTkiNmOHTPDCRMSzP5Tp8y2bZvZsiIw0CRZgYFS8eJmy2rbxyf7rwe5zyWSqwkTJujNN99UbGysateurXfffVcNGjS47PEzZszQkCFDtHv3blWsWFEjR47UHXfckX6/ZVkaNmyYJk+erBMnTqhx48aaOHGiKlasmBcvBwAAAB7Gy8skNYGBUmZfKc+fN8lWfLy5TUq6kHCdOnXh56Qk6fRp85jjx82WEwUKmATL19cMTyxWLGtb0aJSoUKX35hTdm1sT66mT5+u/v37a9KkSYqKitLYsWMVHR2trVu3qnTp0pccv3TpUnXp0kUjRozQnXfeqWnTpql9+/Zau3atatSoIUkaNWqUxo0bp08++UQREREaMmSIoqOj9ffff8vPzy+vXyIAAAA8XIECF5Kvq0lNNQnWqVPm9vRpU6HwctvF9589a85x/rzZTp3KeYKWmYIFzaLMmSVePj7mfmfdXu2+woWlcuWc99rygu3VAqOiolS/fn2NHz9ekpSamqqwsDD17dtXgwYNuuT4Tp06KSkpST/99FP6vptuukmRkZGaNGmSLMtSaGionn32WQ0YMECSFB8fr+DgYE2dOlWdO3e+akxUCwQAAIArSk01CVbalpws3Xef6S3LypaYeCGhS9uSk+1+VZmrVMnMdbOb21QLTE5O1po1azR48OD0fV5eXmrRooWWLVuW6WOWLVum/v37Z9gXHR2tWbNmSZJ27dql2NhYtWjRIv3+gIAARUVFadmyZZkmV2fPntXZtMsAMsmYZN5IVzBihN0RAAAAwFV4eV3oTZJMpcP/cjgkf3+zXY1lmV6wc+cu9Ihl9nNKiknuUlIutP/7c2b3Xbw/JcU838U/X3zcxccGBJg5bXZLywmy0idla3J15MgRpaSkKDg4OMP+4OBgbdmyJdPHxMbGZnp8bGxs+v1p+y53zH+NGDFCL7300iX7w8LCsvZCAAAAADjVqlUmwXIVJ0+eVMBVArJ9zpUrGDx4cIbesNTUVB07dkwlS5aUw+FQQkKCwsLCtHfv3nw3TBBZx+cEWcHnBFnFZwVZwecEWcHn5NpYlqWTJ08qNDT0qsfamlwFBQXJ29tbcXFxGfbHxcUpJCQk08eEhIRc8fi027i4OJUpUybDMZGRkZme09fXV76+vhn2FS9e/JLj/P39+UDiqvicICv4nCCr+KwgK/icICv4nOTc1Xqs0njlchxX5OPjo7p16yomJiZ9X2pqqmJiYtSwYcNMH9OwYcMMx0vS/Pnz04+PiIhQSEhIhmMSEhK0YsWKy54TAAAAAK6V7cMC+/fvr27duqlevXpq0KCBxo4dq6SkJPXo0UOS1LVrV1133XUa8f9VHZ5++mk1bdpUY8aMUZs2bfTVV19p9erV+uCDDyRJDodD/fr106uvvqqKFSuml2IPDQ1V+/bt7XqZAAAAADyc7clVp06ddPjwYQ0dOlSxsbGKjIzUnDlz0gtS7NmzR15eFzrYGjVqpGnTpunFF1/UCy+8oIoVK2rWrFnpa1xJ0sCBA5WUlKRevXrpxIkTatKkiebMmZPjNa58fX01bNiwS4YOAhfjc4Ks4HOCrOKzgqzgc4Ks4HOSd2xf5woAAAAAPIGtc64AAAAAwFOQXAEAAACAE5BcAQAAAIATkFwBAAAAgBOQXGXBhAkTFB4eLj8/P0VFRWnlypV2hwQXMmLECNWvX1/FihVT6dKl1b59e23dutXusODi3njjjfSlI4CL7d+/Xw8++KBKliypQoUKqWbNmlq9erXdYcGFpKSkaMiQIYqIiFChQoVUvnx5vfLKK6JGGX777TfdddddCg0NlcPh0KxZszLcb1mWhg4dqjJlyqhQoUJq0aKFtm/fbk+wHork6iqmT5+u/v37a9iwYVq7dq1q166t6OhoHTp0yO7Q4CIWL16sJ598UsuXL9f8+fN17tw5tWzZUklJSXaHBhe1atUqvf/++6pVq5bdocDFHD9+XI0bN1bBggX1yy+/6O+//9aYMWMUGBhod2hwISNHjtTEiRM1fvx4bd68WSNHjtSoUaP07rvv2h0abJaUlKTatWtrwoQJmd4/atQojRs3TpMmTdKKFStUpEgRRUdH68yZM3kcqeeiFPtVREVFqX79+ho/frwkKTU1VWFhYerbt68GDRpkc3RwRYcPH1bp0qW1ePFi3XLLLXaHAxeTmJioG2+8Ue+9955effVVRUZGauzYsXaHBRcxaNAg/fHHH1qyZIndocCF3XnnnQoODtZHH32Uvq9Dhw4qVKiQPv/8cxsjgytxOByaOXOm2rdvL8n0WoWGhurZZ5/VgAEDJEnx8fEKDg7W1KlT1blzZxuj9Rz0XF1BcnKy1qxZoxYtWqTv8/LyUosWLbRs2TIbI4Mri4+PlySVKFHC5kjgip588km1adMmw98VIM0PP/ygevXqqWPHjipdurTq1KmjyZMn2x0WXEyjRo0UExOjbdu2SZI2bNig33//Xa1bt7Y5MriyXbt2KTY2NsP/PwEBAYqKiuJ7rRMVsDsAV3bkyBGlpKQoODg4w/7g4GBt2bLFpqjgylJTU9WvXz81btxYNWrUsDscuJivvvpKa9eu1apVq+wOBS7qn3/+0cSJE9W/f3+98MILWrVqlZ566in5+PioW7dudocHFzFo0CAlJCSoSpUq8vb2VkpKil577TU98MADdocGFxYbGytJmX6vTbsP147kCnCiJ598Un/99Zd+//13u0OBi9m7d6+efvppzZ8/X35+fnaHAxeVmpqqevXq6fXXX5ck1alTR3/99ZcmTZpEcoV0X3/9tb744gtNmzZN1atX1/r169WvXz+FhobyOQFsxrDAKwgKCpK3t7fi4uIy7I+Li1NISIhNUcFV9enTRz/99JMWLlyo66+/3u5w4GLWrFmjQ4cO6cYbb1SBAgVUoEABLV68WOPGjVOBAgWUkpJid4hwAWXKlFG1atUy7Ktatar27NljU0RwRc8995wGDRqkzp07q2bNmnrooYf0zDPPaMSIEXaHBheW9t2V77W5i+TqCnx8fFS3bl3FxMSk70tNTVVMTIwaNmxoY2RwJZZlqU+fPpo5c6YWLFigiIgIu0OCC7rtttv0559/av369elbvXr19MADD2j9+vXy9va2O0S4gMaNG1+ylMO2bdt0ww032BQRXNGpU6fk5ZXxK5y3t7dSU1NtigjuICIiQiEhIRm+1yYkJGjFihV8r3UihgVeRf/+/dWtWzfVq1dPDRo00NixY5WUlKQePXrYHRpcxJNPPqlp06bp+++/V7FixdLHLQcEBKhQoUI2RwdXUaxYsUvm4RUpUkQlS5Zkfh7SPfPMM2rUqJFef/113XfffVq5cqU++OADffDBB3aHBhdy11136bXXXlPZsmVVvXp1rVu3Tm+99ZYefvhhu0ODzRITE7Vjx470n3ft2qX169erRIkSKlu2rPr166dXX31VFStWVEREhIYMGaLQ0ND0ioK4dpRiz4Lx48frzTffVGxsrCIjIzVu3DhFRUXZHRZchMPhyHT/lClT1L1797wNBm6lWbNmlGLHJX766ScNHjxY27dvV0REhPr3769HH33U7rDgQk6ePKkhQ4Zo5syZOnTokEJDQ9WlSxcNHTpUPj4+docHGy1atEjNmze/ZH+3bt00depUWZalYcOG6YMPPtCJEyfUpEkTvffee6pUqZIN0XomkisAAAAAcALmXAEAAACAE5BcAQAAAIATkFwBAAAAgBOQXAEAAACAE5BcAQAAAIATkFwBAAAAgBOQXAEAAACAE5BcAQAAAIATkFwBAJALmjVrpn79+tkdBgAgD5FcAQBcjsPhuOI2fPhw7d69O8O+kiVLqmXLllq3bl2Gc+3YsUM9evTQ9ddfL19fX0VERKhLly5avXp1ps991113qVWrVpnet2TJEjkcDm3cuNHprxkA4P5IrgAALufgwYPp29ixY+Xv759h34ABA9KP/fXXX3Xw4EHNnTtXiYmJat26tU6cOCFJWr16terWratt27bp/fff199//62ZM2eqSpUqevbZZzN97kceeUTz58/Xvn37LrlvypQpqlevnmrVqpUrrxsA4N5IrgAALickJCR9CwgIkMPhyLCvaNGi6ceWLFlSISEhqlevnkaPHq24uDitWLFClmWpe/fuqlixopYsWaI2bdqofPnyioyM1LBhw/T9999n+tx33nmnSpUqpalTp2bYn5iYqBkzZuiRRx7R0aNH1aVLF1133XUqXLiwatasqS+//PKKr8nhcGjWrFkZ9hUvXjzD8+zdu1f33XefihcvrhIlSqhdu3bavXt3dt46AICNSK4AAB6jUKFCkqTk5GStX79emzZt0rPPPisvr0v/uytevHim5yhQoIC6du2qqVOnyrKs9P0zZsxQSkqKunTpojNnzqhu3br6+eef9ddff6lXr1566KGHtHLlyhzHfu7cOUVHR6tYsWJasmSJ/vjjDxUtWlStWrVScnJyjs8LAMg7JFcAAI9w4sQJvfLKKypatKgaNGig7du3S5KqVKmS7XM9/PDD2rlzpxYvXpy+b8qUKerQoYMCAgJ03XXXacCAAYqMjFS5cuXUt29ftWrVSl9//XWO458+fbpSU1P14YcfqmbNmqpataqmTJmiPXv2aNGiRTk+LwAg7xSwOwAAAK5Fo0aN5OXlpaSkJJUrV07Tp09XcHBwhl6n7KpSpYoaNWqkjz/+WM2aNdOOHTu0ZMkSvfzyy5KklJQUvf766/r666+1f/9+JScn6+zZsypcuHCOn3PDhg3asWOHihUrlmH/mTNntHPnzhyfFwCQd0iuAABubfr06apWrZpKliyZYahfpUqVJElbtmxRnTp1sn3eRx55RH379tWECRM0ZcoUlS9fXk2bNpUkvfnmm3rnnXc0duxY1axZU0WKFFG/fv2uOHzP4XBckvCdO3cuvZ2YmKi6devqiy++uOSxpUqVynb8AIC8x7BAAIBbCwsLU/ny5S+ZQxUZGalq1appzJgxSk1NveRxaRUFL+e+++6Tl5eXpk2bpk8//VQPP/ywHA6HJOmPP/5Qu3bt9OCDD6p27doqV66ctm3bdsXzlSpVSgcPHkz/efv27Tp16lT6zzfeeKO2b9+u0qVLq0KFChm2gICAq7wLAABXQHIFAPBIDodDU6ZM0bZt23TzzTdr9uzZ+ueff7Rx40a99tprateu3RUfX7RoUXXq1EmDBw/WwYMH1b179/T7KlasqPnz52vp0qXavHmzevfurbi4uCue79Zbb9X48eO1bt06rV69Wo899pgKFiyYfv8DDzygoKAgtWvXTkuWLNGuXbu0aNEiPfXUU5mWhQcAuB6SKwCAx2rQoIFWr16tChUq6NFHH1XVqlXVtm1bbdq0SWPHjr3q4x955BEdP35c0dHRCg0NTd//4osv6sYbb1R0dLSaNWumkJAQtW/f/ornGjNmjMLCwnTzzTfr/vvv14ABAzLM0SpcuLB+++03lS1bVvfcc4+qVq2qRx55RGfOnJG/v39O3wIAQB5yWNcy4xcAAAAAIImeKwAAAABwCpIrAAAAAHACkisAAAAAcAKSKwAAAABwApIrAAAAAHACkisAAAAAcAKSKwAAAABwApIrAAAAAHACkisAAAAAcAKSKwAAAABwApIrAAAAAHCC/wOhGY70tVATFQAAAABJRU5ErkJggg==",
      "text/plain": [
       "<Figure size 1000x500 with 1 Axes>"
      ]
     },
     "metadata": {},
     "output_type": "display_data"
    }
   ],
   "source": [
    "\n",
    "plt.figure(figsize=(10, 5))  # Set the figure size for better visibility\n",
    "\n",
    "# Create a distplot for TPC Value\n",
    "sns.histplot(df_new['TPC_Value'], color='blue', kde=True, stat=\"density\", linewidth=0, label='TPC Value')\n",
    "\n",
    "plt.title('Histogram for TPC Value unscaled')\n",
    "plt.xlabel('TPC Value')\n",
    "plt.ylabel('Density')\n",
    "plt.show()\n",
    "\n"
   ]
  },
  {
   "cell_type": "raw",
   "id": "67327fa8-905a-4a73-9180-0734a50981c1",
   "metadata": {},
   "source": [
    "Histogram for TPC Value Unscaled \n",
    "The histograms for TPC Value before and after scaling show the density distribution of this variable:\n",
    "\n",
    "Unscaled: The original data shows considerable right skewness, which could affect model performance if not normalized.\n"
   ]
  },
  {
   "cell_type": "code",
   "execution_count": 31,
   "id": "9444f22e-39f9-47fb-8e78-c2da2f347ebd",
   "metadata": {},
   "outputs": [
    {
     "data": {
      "image/png": "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",
      "text/plain": [
       "<Figure size 1000x500 with 1 Axes>"
      ]
     },
     "metadata": {},
     "output_type": "display_data"
    }
   ],
   "source": [
    "\n",
    "plt.figure(figsize=(10, 5))  # Set the figure size for better visibility\n",
    "\n",
    "# Create a distplot for TPC Value\n",
    "sns.histplot(data_std['TPC_Value'], color='blue', kde=True, stat=\"density\", linewidth=0, label='TPC Value')\n",
    "\n",
    "plt.title('Histogram for TPC Value scaled')\n",
    "plt.xlabel('TPC Value')\n",
    "plt.ylabel('Density')\n",
    "plt.show()\n",
    "\n"
   ]
  },
  {
   "cell_type": "raw",
   "id": "a7b90e07-c71e-4d2e-a0d6-96bb495f98f8",
   "metadata": {},
   "source": [
    "TPC value scale:\n",
    "\n",
    "Post-scaling, the data is transformed into a more symmetrical distribution, improving the standardization for predictive modeling and ensuring that the variable contributes appropriately during algorithm processing."
   ]
  },
  {
   "cell_type": "code",
   "execution_count": 32,
   "id": "20792eb6-0e4c-467c-bd9e-c4289a196547",
   "metadata": {},
   "outputs": [
    {
     "data": {
      "image/png": "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",
      "text/plain": [
       "<Figure size 1000x500 with 1 Axes>"
      ]
     },
     "metadata": {},
     "output_type": "display_data"
    }
   ],
   "source": [
    "\n",
    "plt.figure(figsize=(10, 5))  # Set the figure size for better visibility\n",
    "\n",
    "# Create a distplot for each column\n",
    "sns.histplot(df_new['Age'], color='red', kde=True, stat=\"density\", linewidth=0, label='Age', alpha=0.5)\n",
    "\n",
    "plt.title('Histogram for Age unscaled')\n",
    "plt.xlabel('Age')\n",
    "plt.ylabel('Density')\n",
    "plt.show()"
   ]
  },
  {
   "cell_type": "raw",
   "id": "b2f26369-cf49-40f8-aac7-975164e05157",
   "metadata": {},
   "source": [
    "Histogram for Age Unscaled\n",
    "\n",
    "Unscaled: The Age variable is highly skewed, with a concentration of lower values and long tail towards higher values.\n",
    "\n"
   ]
  },
  {
   "cell_type": "code",
   "execution_count": 33,
   "id": "03cac964-6fcd-4dd1-a519-e2340db842d9",
   "metadata": {},
   "outputs": [
    {
     "data": {
      "image/png": "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",
      "text/plain": [
       "<Figure size 1000x500 with 1 Axes>"
      ]
     },
     "metadata": {},
     "output_type": "display_data"
    }
   ],
   "source": [
    "plt.figure(figsize=(10, 5))  # Set the figure size for better visibility\n",
    "\n",
    "# Create a distplot for Age\n",
    "sns.histplot(data_std['Age'], color='blue', kde=True, stat=\"density\", linewidth=0, label='TPC Value')\n",
    "\n",
    "plt.title('Histogram for Age scaled')\n",
    "plt.xlabel('Value')\n",
    "plt.ylabel('Density')\n",
    "plt.show()\n"
   ]
  },
  {
   "cell_type": "raw",
   "id": "f2029ae4-3c62-4da3-9ab6-da1c1a1468a4",
   "metadata": {},
   "source": [
    "Scaled: Scaling normalizes the distribution, centralizing the data and potentially enhancing model accuracy and convergence during training."
   ]
  },
  {
   "cell_type": "code",
   "execution_count": 34,
   "id": "919d3adb-5b15-4763-81a3-325926651f84",
   "metadata": {},
   "outputs": [
    {
     "data": {
      "text/plain": [
       "<Axes: >"
      ]
     },
     "execution_count": 34,
     "metadata": {},
     "output_type": "execute_result"
    },
    {
     "data": {
      "image/png": "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",
      "text/plain": [
       "<Figure size 640x480 with 1 Axes>"
      ]
     },
     "metadata": {},
     "output_type": "display_data"
    }
   ],
   "source": [
    "# check correlations\n",
    "data_std.corr()[['Product_Condition']].sort_values('Product_Condition', ascending=False)\n",
    "#heatmap of correlation \n",
    "sns.heatmap(data=data_std.corr()[['Product_Condition']].sort_values('Product_Condition', ascending=False),\n",
    "           annot=True,cmap='Blues',vmin=-1.0, vmax=1.0, cbar=False,fmt='.2f')"
   ]
  },
  {
   "cell_type": "raw",
   "id": "4f98df08-e249-4b03-82d0-04f9562abd24",
   "metadata": {},
   "source": [
    "Correlation Heatmap:\n",
    "\n",
    "The heatmap illustrates the correlation coefficients between Product Condition and other features:\n",
    "\n",
    "Strong Positive Correlations: Certain features like Odor_Good and Age show stronger positive correlations with Product Condition, suggesting they are good predictors for whether a product will be acceptable.\n",
    "Negative or Low Correlations: Features such as Surface_Dry and Type show lower correlations, indicating less predictive power."
   ]
  },
  {
   "cell_type": "code",
   "execution_count": 35,
   "id": "f4d86582-aed7-4090-9689-4e5585bafb40",
   "metadata": {},
   "outputs": [
    {
     "data": {
      "image/png": "iVBORw0KGgoAAAANSUhEUgAAAkAAAAHHCAYAAABXx+fLAAAAOXRFWHRTb2Z0d2FyZQBNYXRwbG90bGliIHZlcnNpb24zLjguMiwgaHR0cHM6Ly9tYXRwbG90bGliLm9yZy8g+/7EAAAACXBIWXMAAA9hAAAPYQGoP6dpAACAQUlEQVR4nO3deVxU1d8H8M/MAMMOsi8iKK4ooqngmmYomrlUrmkulZVZZlipTz/FJdfMUHMpcyutzEqzVFxwKVdK1EIUl1Bc2NxYZZs5zx8XRkd2GGZYPu+X85o7Z84999zLwHw99ywyIYQAERERUR0iN3QFiIiIiPSNARARERHVOQyAiIiIqM5hAERERER1DgMgIiIiqnMYABEREVGdwwCIiIiI6hwGQERERFTnMAAiIiKiOocBEBGVm0wmw6xZs8q937Vr1yCTybBx40ad16kyvv32WzRv3hzGxsawtbU1dHWISA8YABHVUBs3boRMJoNMJsPRo0cLvS+EgIeHB2QyGZ5//nkD1LDiDh8+rDk3mUwGY2NjNGrUCKNHj8Z///2n02NdvHgRY8eOhbe3N9auXYuvvvpKp+UTUfVkZOgKEFHlmJqa4rvvvkPXrl210o8cOYKbN29CqVQaqGaVN2nSJHTo0AG5ubmIjIzEV199hV27duHff/+Fm5ubTo5x+PBhqNVqLFu2DI0bN9ZJmURU/bEFiKiGe+6557Bt2zbk5eVppX/33Xdo164dXFxcDFSzyuvWrRtGjRqFcePGYcWKFViyZAnu3buHTZs2VbrsjIwMAEBSUhIA6PTWV2Zmps7KIqKqwQCIqIYbMWIE7t69i/3792vScnJy8NNPP+Hll18ucp+MjAxMmTIFHh4eUCqVaNasGZYsWQIhhFa+7OxsvP/++3B0dISVlRUGDBiAmzdvFlnmrVu38Oqrr8LZ2RlKpRItW7bE+vXrdXeiAHr27AkAiI2N1aTt2bMH3bp1g4WFBaysrNCvXz+cP39ea7+xY8fC0tISV69exXPPPQcrKyuMHDkSXl5eCAkJAQA4OjoW6tu0atUqtGzZEkqlEm5ubpg4cSIePHigVXaPHj3QqlUrnD59Gk8//TTMzc3xf//3f5r+TkuWLMHKlSvRqFEjmJubo3fv3rhx4waEEJg7dy7q168PMzMzDBw4EPfu3dMq+9dff0W/fv3g5uYGpVIJb29vzJ07FyqVqsg6REdH45lnnoG5uTnc3d2xePHiQtcwKysLs2bNQtOmTWFqagpXV1e8+OKLuHr1qiaPWq1GaGgoWrZsCVNTUzg7O+PNN9/E/fv3y/7DIqrmeAuMqIbz8vJCp06d8P3336Nv374ApKAgJSUFw4cPx/Lly7XyCyEwYMAAHDp0CK+99hratGmDvXv34sMPP8StW7fw+eefa/K+/vrr2Lx5M15++WV07twZBw8eRL9+/QrVITExER07doRMJsM777wDR0dH7NmzB6+99hpSU1MxefJknZxrwZe0vb09AKnz8pgxYxAUFIRFixYhMzMTq1evRteuXXHmzBl4eXlp9s3Ly0NQUBC6du2KJUuWwNzcHGPHjsU333yD7du3Y/Xq1bC0tETr1q0BALNmzcLs2bMRGBiICRMmICYmBqtXr8Zff/2FY8eOwdjYWFP23bt30bdvXwwfPhyjRo2Cs7Oz5r0tW7YgJycH7777Lu7du4fFixdj6NCh6NmzJw4fPoypU6fiypUrWLFiBT744AOtoHHjxo2wtLREcHAwLC0tcfDgQcycOROpqan49NNPta7N/fv30adPH7z44osYOnQofvrpJ0ydOhW+vr6az4VKpcLzzz+P8PBwDB8+HO+99x7S0tKwf/9+REVFwdvbGwDw5ptvYuPGjRg3bhwmTZqE2NhYfPHFFzhz5kyhcyeqsQQR1UgbNmwQAMRff/0lvvjiC2FlZSUyMzOFEEIMGTJEPPPMM0IIITw9PUW/fv00++3YsUMAEJ988olWeYMHDxYymUxcuXJFCCHE2bNnBQDx9ttva+V7+eWXBQAREhKiSXvttdeEq6uruHPnjlbe4cOHCxsbG029YmNjBQCxYcOGEs/t0KFDAoBYv369SE5OFrdv3xa7du0SXl5eQiaTib/++kukpaUJW1tbMX78eK19ExIShI2NjVb6mDFjBAAxbdq0QscKCQkRAERycrImLSkpSZiYmIjevXsLlUqlSf/iiy809SrQvXt3AUCsWbNGq9yCc3V0dBQPHjzQpE+fPl0AEH5+fiI3N1eTPmLECGFiYiKysrI0aQXX7XFvvvmmMDc318pXUIdvvvlGk5adnS1cXFzESy+9pElbv369ACCWLl1aqFy1Wi2EEOLPP/8UAMSWLVu03g8LCysynaim4i0wolpg6NChePjwIX7//XekpaXh999/L/b21+7du6FQKDBp0iSt9ClTpkAIgT179mjyASiU78nWHCEEfv75Z/Tv3x9CCNy5c0fzCAoKQkpKCiIjIyt0Xq+++iocHR3h5uaGfv36ISMjA5s2bUL79u2xf/9+PHjwACNGjNA6pkKhQEBAAA4dOlSovAkTJpTpuAcOHEBOTg4mT54MufzRn8nx48fD2toau3bt0sqvVCoxbty4IssaMmQIbGxsNK8DAgIAAKNGjYKRkZFWek5ODm7duqVJMzMz02ynpaXhzp076NatGzIzM3Hx4kWt41haWmLUqFGa1yYmJvD399caNffzzz/DwcEB7777bqF6ymQyAMC2bdtgY2ODXr16aV3Xdu3awdLSssjrSlQT8RYYUS3g6OiIwMBAfPfdd8jMzIRKpcLgwYOLzHv9+nW4ubnByspKK71Fixaa9wue5XK55rZIgWbNmmm9Tk5OxoMHD/DVV18VO4S8oKNxec2cORPdunWDQqGAg4MDWrRooQkaLl++DOBRv6AnWVtba702MjJC/fr1y3Tcgmvw5LmamJigUaNGmvcLuLu7w8TEpMiyGjRooPW6IBjy8PAoMv3xfjbnz5/H//73Pxw8eBCpqala+VNSUrRe169fXxPEFKhXrx7++ecfzeurV6+iWbNmWoHXky5fvoyUlBQ4OTkV+X5Ff5ZE1Q0DIKJa4uWXX8b48eORkJCAvn376m1CP7VaDUBq0RgzZkyReQr61ZSXr68vAgMDSzzut99+W+RItye/5JVKpVZrji493lLzJIVCUa50kd8R/cGDB+jevTusra0xZ84ceHt7w9TUFJGRkZg6darm/MtaXlmp1Wo4OTlhy5YtRb7v6OhYrvKIqisGQES1xAsvvIA333wTJ0+exNatW4vN5+npiQMHDiAtLU2rFajgloqnp6fmWa1Wa1oNCsTExGiVVzBCTKVSFRusVIWCliknJyedH7fgGsTExKBRo0aa9JycHMTGxurlPA8fPoy7d+/il19+wdNPP61Jf3wEXHl5e3vj1KlTyM3NLbYjs7e3Nw4cOIAuXbqUGNgR1XTsA0RUS1haWmL16tWYNWsW+vfvX2y+5557DiqVCl988YVW+ueffw6ZTKYZMVTw/OQostDQUK3XCoUCL730En7++WdERUUVOl5ycnJFTqdUQUFBsLa2xvz585Gbm6vT4wYGBsLExATLly/XakFZt24dUlJSihwJp2sFLTqPHz8nJwerVq2qcJkvvfQS7ty5U+hn//hxhg4dCpVKhblz5xbKk5eXV2gaAKKaii1ARLVIcbegHte/f38888wz+Pjjj3Ht2jX4+flh3759+PXXXzF58mRNy0qbNm0wYsQIrFq1CikpKejcuTPCw8Nx5cqVQmUuXLgQhw4dQkBAAMaPHw8fHx/cu3cPkZGROHDgQKH5bXTB2toaq1evxiuvvIKnnnoKw4cPh6OjI+Li4rBr1y506dKlyC/6snB0dMT06dMxe/Zs9OnTBwMGDEBMTAxWrVqFDh06aHU2riqdO3dGvXr1MGbMGEyaNAkymQzffvttuW9pPW706NH45ptvEBwcjIiICHTr1g0ZGRk4cOAA3n77bQwcOBDdu3fHm2++iQULFuDs2bPo3bs3jI2NcfnyZWzbtg3Lli0rtn8ZUU3CAIiojpHL5di5cydmzpyJrVu3YsOGDfDy8sKnn36KKVOmaOVdv349HB0dsWXLFuzYsQM9e/bErl27CnXgdXZ2RkREBObMmYNffvkFq1atgr29PVq2bIlFixZV2bm8/PLLcHNzw8KFC/Hpp58iOzsb7u7u6NatW7Gjsspq1qxZcHR0xBdffIH3338fdnZ2eOONNzB//ny9zINjb2+P33//HVOmTMH//vc/1KtXD6NGjcKzzz6LoKCgCpWpUCiwe/duzJs3D9999x1+/vln2Nvbo2vXrvD19dXkW7NmDdq1a4cvv/wS//d//wcjIyN4eXlh1KhR6NKli65OkcigZKIy/50gIiIiqoHYB4iIiIjqHAZAREREVOcwACIiIqI6hwEQERER1TkMgIiIiKjOYQBEREREdQ7nASqCWq3G7du3YWVlVWhxQSIiIqqehBBIS0uDm5tbqWv/MQAqwu3btwtN9EZEREQ1w40bN1C/fv0S8zAAKkLBApE3btyAtbW1gWtDREREZZGamgoPDw+thZ6LwwCoCAW3vaytrRkAERER1TBl6b7CTtBERERU5zAAIiIiojqHARARERHVOewDVAkqlQq5ubmGrgbpkbGxMRQKhaGrQURElcQAqAKEEEhISMCDBw8MXRUyAFtbW7i4uHCOKCKiGowBUAUUBD9OTk4wNzfnF2EdIYRAZmYmkpKSAACurq4GrhEREVUUA6ByUqlUmuDH3t7e0NUhPTMzMwMAJCUlwcnJibfDiIhqKHaCLqeCPj/m5uYGrgkZSsHPnv2/iIhqLgZAFcTbXnUXf/ZERDUfb4ERERHVdWoVcP04kJ4IWDoDnp0BeRXd4tfnsUrAAIiIiKgui94JhE0FUm8/SrN2A/osAnwG1NxjlYK3wAxIpRY4cfUufj17Cyeu3oVKLar0eD169MDkyZN1Vt7YsWMxaNCgQulHjhxBz549YWdnB3NzczRp0gRjxoxBTk6Ozo5NREQ6EL0T+HG0dkACAKnxUnr0zpp5rDJgC5CBhEXFY/Zv0YhPydKkudqYIqS/D/q0qrnDq6Ojo9GnTx+8++67WL58OczMzHD58mX8/PPPUKlUVXJMIQRUKhWMjPhxJiIqM7VKao1BUf/5FgBkwJ6PgEY9AIUJIDeSblVVpB9kWY4VNg1o3k9vt8PYAmQAYVHxmLA5Uiv4AYCElCxM2ByJsKh4nR9z7NixOHLkCJYtWwaZTAaZTIZr164hKioKffv2haWlJZydnfHKK6/gzp07mv1++ukn+Pr6wszMDPb29ggMDERGRgZmzZqFTZs24ddff9WUd/jwYezbtw8uLi5YvHgxWrVqBW9vb/Tp0wdr167VDCEHgGPHjqFHjx4wNzdHvXr1EBQUhPv37wMAsrOzMWnSJDg5OcHU1BRdu3bFX3/9pdn38OHDkMlk2LNnD9q1awelUomjR49CrVZjwYIFaNiwIczMzODn54effvpJs9/9+/cxcuRIODo6wszMDE2aNMGGDRt0fq2JiGqE68cLt8ZoEUBaPLDQA5jnDMy1B2bbArPtgLmOwDxXYIEHsNATWOwNLGkGLG0JhPoCy9sCX3QAVnUCVneVtks7VuotqU56wv8y64AQAg9zy9a6oVILhOw8X1IMjFk7o9GlsQMU8pKjbDNjRZlHJC1btgyXLl1Cq1atMGfOHADSsg7+/v54/fXX8fnnn+Phw4eYOnUqhg4dioMHDyI+Ph4jRozA4sWL8cILLyAtLQ1//vknhBD44IMPcOHCBaSmpmqCCDs7OyQkJCA+Ph5//PEHnn766SLrcvbsWTz77LN49dVXsWzZMhgZGeHQoUOaFqKPPvoIP//8MzZt2gRPT08sXrwYQUFBuHLlCuzs7DTlTJs2DUuWLEGjRo1Qr149LFiwAJs3b8aaNWvQpEkT/PHHHxg1ahQcHR3RvXt3zJgxA9HR0dizZw8cHBxw5coVPHz4sEzXj4io1rl/rWL7CRWgUgGqKujWkJ6o+zKLwQBIBx7mquAzc69OyhIAElKz4DtrX6l5o+cEwdykbD9CGxsbmJiYwNzcHC4uLgCATz75BG3btsX8+fM1+davXw8PDw9cunQJ6enpyMvLw4svvghPT08AgK+vryavmZkZsrOzNeUBwJAhQ7B37150794dLi4u6NixI5599lmMHj0a1tbWAIDFixejffv2WLVqlWa/li1bAgAyMjKwevVqbNy4EX379gUArF27Fvv378e6devw4YcfavaZM2cOevXqBUBqNZo/fz4OHDiATp06AQAaNWqEo0eP4ssvv0T37t0RFxeHtm3bon379gAALy+vMl07IqJaJSsViPgSOBpatvwjfwI8/KXbWGoVoM6THuKJ15pt1WPv578X/y8QPqv0Y1k6V+bMyoUBUB127tw5HDp0CJaWloXeu3r1Knr37o1nn30Wvr6+CAoKQu/evTF48GDUq1ev2DIVCgU2bNiATz75BAcPHsSpU6cwf/58LFq0CBEREXB1dcXZs2cxZMiQIve/evUqcnNz0aVLF01aQUvVhQsXtPIWBDIAcOXKFWRmZmoCogI5OTlo27YtAGDChAl46aWXEBkZid69e2PQoEHo3Llz6ReKiKg2yEoBTn0JnFgJZD2Q0uQKKWApkkwaoeXds/L9cho9A/z1ldThuch7IPnH8tTf3+RqEQCtXLkSn376KRISEuDn54cVK1bA39+/2PyhoaFYvXo14uLi4ODggMGDB2PBggUwNTWtcJmVYWasQPScoDLljYi9h7Eb/io138ZxHeDf0K7EPGbGlftApqeno3///li0aFGh91xdXaFQKLB//34cP34c+/btw4oVK/Dxxx/j1KlTaNiwYYllu7u745VXXsErr7yCuXPnomnTplizZg1mz56t1ReoMiwsLLTOBQB27doFd3d3rXxKpRIA0LdvX1y/fh27d+/G/v378eyzz2LixIlYsmSJTupDRFQtPXwAnFwtPbJTpDSHpsDTHwEKY2Db2PyMjwcm+d0r+izUTadkuUIa6v7j6Pyyq/BYZa2S3o5UjK1btyI4OBghISGIjIyEn58fgoKCNAtOPum7777DtGnTEBISggsXLmDdunXYunUr/u///q/CZVaWTCaDuYlRmR7dmjjC1cYUxfXckUEaDdatiWOpZZV3RmITExOtkVhPPfUUzp8/Dy8vLzRu3FjrURBcyGQydOnSBbNnz8aZM2dgYmKC7du3F1lecerVqwdXV1dkZGQAAFq3bo3w8PAi83p7e8PExATHjh3TpOXm5uKvv/6Cj49Pscfw8fGBUqlEXFxcoXPx8PDQ5HN0dMSYMWOwefNmhIaG4quvviq1/kRENVLmPeDgPKlT8pGFUvDj2Bx4aR3w9kmg9RCg5SBg6DeA9ROjj63dpHRdzs3jM0B/xyoDg7cALV26FOPHj8e4ceMAAGvWrMGuXbuwfv16TJs2rVD+48ePo0uXLnj55ZcBSP04RowYgVOnTlW4TH1SyGUI6e+DCZsji4uBEdLfp9QO0BXh5eWFU6dO4dq1a7C0tMTEiROxdu1ajBgxAh999BHs7Oxw5coV/PDDD/j666/x999/Izw8HL1794aTkxNOnTqF5ORktGjRQlPe3r17ERMTA3t7e9jY2GD9+vU4e/YsXnjhBXh7eyMrKwvffPMNzp8/jxUrVgAApk+fDl9fX7z99tt46623YGJigkOHDmHIkCFwcHDAhAkT8OGHH8LOzg4NGjTA4sWLkZmZiddee63Yc7OyssIHH3yA999/H2q1Gl27dkVKSgqOHTsGa2trjBkzBjNnzkS7du3QsmVLZGdn4/fff9ecCxFRrZF5DzjxBXDqKyAnTUpz8gGe/hDwGQTIn2j78BkgDT/Xx+zM+jxWaYQBZWdnC4VCIbZv366VPnr0aDFgwIAi99myZYuwsbERp06dEkIIcfXqVdG8eXMxb968CpeZlZUlUlJSNI8bN24IACIlJaVQ3ocPH4ro6Gjx8OHDcp6ttj3/3hYd5x8QnlN/1zw6zj8g9vx7u1LlliQmJkZ07NhRmJmZCQAiNjZWXLp0SbzwwgvC1tZWmJmZiebNm4vJkycLtVotoqOjRVBQkHB0dBRKpVI0bdpUrFixQlNeUlKS6NWrl7C0tBQAxKFDh0RkZKQYNWqUaNiwoVAqlcLe3l48/fTTYufOnVp1OXz4sOjcubNQKpXC1tZWBAUFifv37wshpGv87rvvCgcHB6FUKkWXLl1ERESEZt9Dhw4JAJr8BdRqtQgNDRXNmjUTxsbGwtHRUQQFBYkjR44IIYSYO3euaNGihTAzMxN2dnZi4MCB4r///iv3ddTVZ4CISKfS7wixP0SIeW5ChFhLj1WdhTi/QwiVytC104uUlJRiv7+fJBNCVO30wyW4ffs23N3dcfz4cc3IHUAaBn3kyBGtVp3HLV++HB988AGEEMjLy8Nbb72F1atXV7jMWbNmYfbs2YXSU1JSNCOXCmRlZSE2NhYNGzbU6nNUESq1QETsPSSlZcHJyhT+De2qpOWHdEuXnwEiokpLTwaOLwf+WgfkSl0N4OILdJ8KNOtXuMWnFktNTYWNjU2R399PMvgtsPI6fPgw5s+fj1WrViEgIABXrlzBe++9h7lz52LGjBkVKnP69OkIDg7WvE5NTdXqN1JVFHIZOnnbV/lxiIiohipp4dD0JODYMuDv9UBuppTm6gd0nwY061uxGZvrEIMGQA4ODlAoFEhM1J74KDExUWtumcfNmDEDr7zyCl5//XUA0rw0GRkZeOONN/Dxxx9XqEylUqkZKUREVOtVk9W4ayx9Xb/iFg7tMR1IuigFPnn5k7m6tZUCn6ZBDHzKyKABkImJCdq1a4fw8HDNoppqtRrh4eF45513itwnMzMT8iea8xQK6YMnhKhQmUREdUY1Wo1b5/QRmOjr+hUsHPrknDmpt4Gd7z567d4e6DENaBzIwKecDH4LLDg4GGPGjEH79u3h7++P0NBQZGRkaEZwjR49Gu7u7liwYAEAoH///li6dCnatm2ruQU2Y8YM9O/fXxMIlVYmEVGdVOyXav5q3AYYiqwz+ghM9HX9Slw4NJ/CBBi2GWjSm4FPBRk8ABo2bBiSk5Mxc+ZMJCQkoE2bNggLC4OzszQddlxcnFaLz//+9z/IZDL873//w61bt+Do6Ij+/ftj3rx5ZS6TiKjOqYarcetMVQcmQgA5mdLK6MVePwC/T5aWfVDlAnlZQF72E89FpRXx/PA+kJ5Qcp1UOYCxOYOfSjDoKLDqqqRe5BwBRPwMUI0U+yew6fnS8435HWjYrerroytqFRDaquSVxk0sgdZDpcBElZMfaOQAquzHnvMfWmn5z1Wx6KcuvLQO8B1s6FpUK7V6FBgREZVDyi3gajhwemPZ8h9bBgg10KATYGRSpVWrtIw70vIOJQU/AJCTLnUY1gf7JoCNO2Bk+thDWcrzE2nJMcCeD0s/lh4XDq2NGAAREdUmuVnA9WPA1YPAlXAg+ULp+zzuyn7pobSWFsFs2gdo0guwcKia+pZHXg5w45QU0F09CMSfK/u+LfoDrm2kAEOhlII7rWfTItKUUl8bIyVwKxL4fljpx3n+88q3oHl1BY59Xq0WDq2NGAAREVUXFRnFJARw5zJw5YAUGFw79mhoNADI5NJIIe9ngL/XARl3UeyXqlk9KeC5sh/ISAaid0gPyAAPf2mIddM+0rIK+uh7IgRw9+qjgCf2z0cT/RWo1xC4H1t6Wf5vVi4wadJLCjr0EZRUw4VDayMGQFQhXl5emDx5MiZPnmzoqhDVDuUZxZSVAvx3JD/oOQik3NB+38oNaNxTGhrdsDtgbielO7cq+Uu1/zLpWGo1cDsSuBQmPRL+lVpebpwCwucANh75wVBfqbXCuIS+cOUN6h7eB2L/yG/BOgikxGm/b+EotUx59wQaPSO1TIW2qvrARN9BScHCoUV+JhbW3NF61Qg7QRdBb52g9TwZWY8ePdCmTRuEhoZWuqzk5GRYWFjA3Ny8zPts374dixYtwoULF6BWq9GgQQP06tVLJ/XRJ3aCJp0rbhRTwRfrkE2AbX0pILgaDtyIAITqUTaFUvr70fhZKehxbF58C02RgZZ7yV+qKTeBy/uAS3uB/w5LnYgLGJtLgUjTIOlh9diEs2UJ6lR5UrB1Jb+V59bfUh8kzbmZAA065gc9z0pB3JNLO2iuH1BkYKLL4f0VuX6VwUkry4WdoGuCajgZmRACKpUKRkalfywcHR3LVXZ4eDiGDRuGefPmYcCAAZDJZIiOjsb+/fsrWt1SqVQqyGSyQhNnEpVLVX8BlTo8HcBPY7WDAgBwaCoFBI2fBTy7ACZl/M9IRVbjtqkPtH9VeuRkSi00l8KkgCjtNhCzS3oA0ozETfsAxmbA/pDC51UwNL3dWCDzLhB7RGrRKnRu+QGPVxfAxKL0c9JXa4m+VzOXK2rWqLwahN8MhlDwv5UnRy4U/GGI3qnzQ44dOxZHjhzBsmXLIJPJIJPJsHHjRshkMuzZswft2rWDUqnE0aNHcfXqVQwcOBDOzs6wtLREhw4dcODAAa3yvLy8tFpuZDIZvv76a7zwwgswNzdHkyZNsHPno/P47bff0KVLF3z44Ydo1qwZmjZtikGDBmHlypVa5f7222/o0KEDTE1N4eDggBdeeEHz3v379zF69GjUq1cP5ubm6Nu3Ly5fvqx5f+PGjbC1tcXOnTvh4+MDpVKJuLg4ZGdn44MPPoC7uzssLCwQEBCAw4cPa/a7fv06+vfvj3r16sHCwgItW7bE7t27dXTlqcqoVVKfkH9/kp7VqtL3Ka/ondLtlU3PAz+/Jj2HttLN76gQ0u2ec9+XPopJqKWWlubPA8+HApP/Bd75C+i7UOqbUtbgp0DBl6rvYOm5PF/eJuZAsz5A/1AgOBp480/gmY8B93bS+7fPAIcXAPtnovigTgCnNwAXdkrBj6kt4DMI6L8cmByVf26LgKa9Sw9+CvgMkPYd87s0PHzM79J1qor/UFbm+lG1wRYgXRDi0UJ0pVGrSplMSyb9L6ZRj9J/qcoxCdayZctw6dIltGrVCnPmzAEAnD9/HgAwbdo0LFmyBI0aNUK9evVw48YNPPfcc5g3bx6USiW++eYb9O/fHzExMWjQoEGxx5g9ezYWL16MTz/9FCtWrMDIkSNx/fp12NnZwcXFBd999x2ioqLQqlWrIvfftWsXXnjhBXz88cf45ptvkJOToxWIjB07FpcvX8bOnTthbW2NqVOn4rnnnkN0dDSMjY0BSEulLFq0CF9//TXs7e3h5OSEd955B9HR0fjhhx/g5uaG7du3o0+fPvj333/RpEkTTJw4ETk5Ofjjjz9gYWGB6OhoWFpalum6koFU51l/hQCy04C0BCAtvuRnVXbZ6/P854Df8Eqdks7JZIBra+nR/SMgLVHqQH1mMxB3ovT9/UYCHV6VWo10EUSwtYTKgQGQLuRmAvPddFSYkP6oLyzDavT/d7vM/zuysbGBiYkJzM3NNYvCXrx4EQAwZ84c9OrVS5PXzs4Ofn5+mtdz587F9u3bsXPnzhLXUxs7dixGjBgBAJg/fz6WL1+OiIgI9OnTB++++y7+/PNP+Pr6wtPTEx07dkTv3r0xcuRIzUK08+bNw/DhwzF79mxNmQX1KAh8jh07hs6dpc6MW7ZsgYeHB3bs2IEhQ4YAAHJzc7Fq1SrNfnFxcdiwYQPi4uLg5ib9jD744AOEhYVhw4YNmD9/PuLi4vDSSy/B19cXANCoUaMyXVMyEH0sR1CW21K/vQfcvybdBklL0A5snhypVBITS2memtJYu5e9TEOxcgbajpKGlJclAGrcE6jfvurrRVQEBkCE9u21/wClp6dj1qxZ2LVrF+Lj45GXl4eHDx8iLi6umBIkrVu31mxbWFjA2toaSUlJmte7du3C1atXcejQIZw8eRJTpkzBsmXLcOLECZibm+Ps2bMYP358kWVfuHABRkZGCAgI0KTZ29ujWbNmuHDh0TwnJiYmWvX4999/oVKp0LRpU63ysrOzYW9vDwCYNGkSJkyYgH379iEwMBAvvfSSVhlUjZQlMNkVLP3HQJ0H5D4sYcmBrOKXJ0hPLv221MN7wP4Zxb+vtJE6BFu5AFauRT9bOgMKY/2MYtKnsk7Qx4n8yIAYAOmCsbnUGlMW148DW8owdfnIn0r/g2dczvv+xbCw0G5F+uCDD7B//34sWbIEjRs3hpmZGQYPHoycnJKngy+4DVVAJpNBrdbuuOnt7Q1vb2+8/vrr+Pjjj9G0aVNs3boV48aNg5mZWaXPxczMDLLHbgump6dDoVDg9OnTmsVyCxTc5nr99dcRFBSEXbt2Yd++fViwYAE+++wzvPvuu6Bq5vrx0gOTjGRg84v6qU99f2l+nEIBjkvZ+64AtW/OF8/O+pszh6iCGADpgkxW9j923j3L9ofBu6fO/+CZmJhApSq9o+ixY8cwduxYTQfk9PR0XLt2Tad1AaSO1Obm5sjIkG4XtG7dGuHh4Rg3blyhvC1atEBeXh5OnTqluQV29+5dxMTEwMfHp9hjtG3bFiqVCklJSejWrfi+AR4eHnjrrbfw1ltvYfr06Vi7di0DoOooPbFs+azdpdaFsixDYPzkUgSmwL2rwKH5pR/n2Zm66XNS2+Z84UR+VAMwANI3A/5h8PLywqlTp3Dt2jVYWloWap0p0KRJE/zyyy/o378/ZDIZZsyYUWzespo1axYyMzPx3HPPwdPTEw8ePMDy5cuRm5ur6X8UEhKCZ599Ft7e3hg+fDjy8vKwe/duTJ06FU2aNMHAgQMxfvx4fPnll7CyssK0adPg7u6OgQMHFnvcpk2bYuTIkRg9ejQ+++wztG3bFsnJyQgPD0fr1q3Rr18/TJ48GX379kXTpk1x//59HDp0CC1atKjU+VIVyErNn5W4DF74snKBiVolrZ2lzxYMfQ+vrmq1LaijWofD4A2h4A+Dtat2urWbbifsesIHH3wAhUIBHx8fODo6FtunZ+nSpahXrx46d+6M/v37IygoCE899VSljt29e3f8999/GD16NJo3b46+ffsiISEB+/btQ7NmzQBIEzVu27YNO3fuRJs2bdCzZ09ERERoytiwYQPatWuH559/Hp06dYIQArt37y506+1JGzZswOjRozFlyhQ0a9YMgwYNwl9//aUZ0aZSqTBx4kS0aNECffr0QdOmTbFq1apKnS/pkBBA1C/AFx2AC7+Vklkmtf7oatbfgjKfPAZQNf9RqW3Dq/U5NJ2onDgTdBFq60zQpBucCVqP7v0H7PpAmv0YAOwaScHBkU/zM9SyWX+JqFI4E3RNwTkriIqWlw0cWwb8sUSaK0dhAnSbAnSZLPXZcfatnbP+EpHeMAAiourlvyPSUPa7V6TXjZ4B+n0G2Hs/yqPPwIT/USGqlRgAEVH1kJ4E7P0Y+PdH6bWlMxA0H2j1UtEznjMwIaJKYABERIalVknrQh2YA2SnAJAB/uOBnv8DTG0MXTsiqqUYAFUQ+47XXfzZ69Dts8Dv7wO3I6XXrm2kNa/cKzfqkIioNAyAyunxRTd1MXMx1TyZmdLCt6UNv6cSZKUCh+YBEV9JK50rraVJBdu/yg7GRKQXDIDKSaFQwNbWVrPGlbm5udbSC1R7CSGQmZmJpKQk2NraFlpag8pACOD8diBsOpCeIKW1eknq62PlYti6EVGdwgCoAgpWUy8IgqhusbW11XwG6AklzW1V1Jw+/T6Tln0hItIzBkAVIJPJ4OrqCicnJ+Tm5hq6OqRHxsbGumv50edEmPo4VpGTBroBvT8B7l4tfk4fIiIDYABUCQqFgrdBaiNDBgt9Ful+hmF9HCt6Z/76dk90EE+9Dfz06qPXRc3pQ0RkAFwKowjlmUqbahlDBgtVtZRDVR9LrQJCW2lfsyfJ5NICpb5Dip7Th4hIB7gUBlFFFNuKES+l6yJYyMsF9nxU+BjAo7TdHwD2TQC5XOo0DCGNlNJsF5WGR+8JtbStypOGmJd0rN/eA3LSpSBGnSvto84F1HmA6vHnx9578nVqfMnBDyDVycqVwQ8RVRsMgIgAKQAIm4oSg4UdbwFXDkh5VdnSelWq3PztHECV88R2/iMv+9G2Oq/0uqQnAqs76vLsivfwHrBjgn6OlZ6on+MQEZUBAyAiQOrzU1orRk4GELlJP/UxNgeMlABk+a0mMuk2kma7iOcn03IygIwyjFR08gFs6gNyY0BhlP9sDMiNpIfCuOj3CtIfXAdOrSn9OJbOlbggRES6xQCICCh760SLgYBbGyk4UZhIj2K3858Vykfbt84AW18u/Tgv/1j5da5i/wQ2PV96vr6LK3cstQq4sFO6FVZkC5pM6kfl2bnixyAi0jEGQERA2Vsn/MdXLliwdJaCAX0EC56d9XMsuULqJP7jaKlMrWPl9/nps5AzPBNRtSI3dAWIqoWCYKFYMsDaXXfBQkGZTx4D0F2woM9j+QyQOolbu2qnW7vpdlQbEZGOcBh8ETgMvo76cykQPruIN6poeHqh4fbuUkCil3mAquhY+pzckYjoCRwGT1QRN/+Sno3NgdzMR+nWbroPFnwGAM376SdY0Oex5IrK910iItKDanELbOXKlfDy8oKpqSkCAgIQERFRbN4ePXpAJpMVevTr10+TJz09He+88w7q168PMzMz+Pj4YM2aMoxSobor8TwQsxuADBh/CBjzO/DSOul58r9VcwunIFjwHSw9V2VLiT6PRURUAxi8BWjr1q0IDg7GmjVrEBAQgNDQUAQFBSEmJgZOTk6F8v/yyy/IycnRvL579y78/PwwZMgQTVpwcDAOHjyIzZs3w8vLC/v27cPbb78NNzc3DBjAvghUhKOfS88+AwGn5gCaG7Q6RERUtQzeArR06VKMHz8e48aN07TUmJubY/369UXmt7Ozg4uLi+axf/9+mJubawVAx48fx5gxY9CjRw94eXnhjTfegJ+fX4ktS1SH3fsPiPpZ2u4WbNi6EBGRXhg0AMrJycHp06cRGBioSZPL5QgMDMSJEyfKVMa6deswfPhwWFhYaNI6d+6MnTt34tatWxBC4NChQ7h06RJ69+5dZBnZ2dlITU3VelAdcmyZtFRD416Aq5+ha0NERHpg0ADozp07UKlUcHbWnoPF2dkZCQkJpe4fERGBqKgovP7661rpK1asgI+PD+rXrw8TExP06dMHK1euxNNPP11kOQsWLICNjY3m4eHhUfGTopolNR44+5203W2KYetCRER6Y/BbYJWxbt06+Pr6wt/fXyt9xYoVOHnyJHbu3InTp0/js88+w8SJE3HgwIEiy5k+fTpSUlI0jxs3buij+lQdnPhCWqOrQWfAs5Oha0NEZBAqtcCJq3fx69lbOHH1LlTq2j9DjkE7QTs4OEChUCAxUXsZgsTERLi4uJS4b0ZGBn744QfMmTNHK/3hw4f4v//7P2zfvl0zMqx169Y4e/YslixZonW7rYBSqYRSqazk2VCNk3kP+HuDtM2+P0RUR4VFxWP2b9GIT8nSpLnamCKkvw/6tHItYc+KUakFImLvISktC05WpvBvaAeF/MnJWqueQQMgExMTtGvXDuHh4Rg0aBAAQK1WIzw8HO+8806J+27btg3Z2dkYNWqUVnpubi5yc3Mhl2s3bikUCqjVap3Wn2q4U18CuRmAiy/QuHBgTERU24VFxWPC5shCi+UkpGRhwuZIrB71lE6DIH0HWyUx+DD44OBgjBkzBu3bt4e/vz9CQ0ORkZGBcePGAQBGjx4Nd3d3LFiwQGu/devWYdCgQbC3t9dKt7a2Rvfu3fHhhx/CzMwMnp6eOHLkCL755hssXbpUb+dF1Vx22qMVzLtNyV9BnYio7lCpBWb/Fl3kSoEFaf+3PQq25iawVBrB1FgBU2M5zIwVMDNRwNRIAXk5Wm70HWyVxuAB0LBhw5CcnIyZM2ciISEBbdq0QVhYmKZjdFxcXKHWnJiYGBw9ehT79u0rsswffvgB06dPx8iRI3Hv3j14enpi3rx5eOutt6r8fKiG+HsDkPUAsG8MtODcUERU90TE3tNqiSnKvYwcDP/qZLHvK43kMDVWPAqKjBUwM36UZmoiPSuN5Nhx5laxwZYMwOzfotHLx0Vvt8O4FlgRuBZYLZebBSxrLS0LMXAl0HZU6fsQEdUym47HImRndKn5HK2UUMhkeJirQlauCtl5Vded5PvxHdHJ2770jMXgWmBEJTn3nRT8WNcHfIcaujZERHqVmpWLNYevYu0f/5Up//LhbbWCErVaICtPhYc5KmTlqaXnXJUmQHqY82g7K1eNh7kqnI17gLDzpU9vk5RWcouULjEAorpFlQccDZW2u0wCjEwMWh0iIn3JyVPju1PXsfzgFdzLkJaUMlHIkKMq+kaQDICLjTRK63FyuQzmJkYwNyl7CHHi6t0yBUBOVqZlLrOyGABR3XL+F+DBdcDcAWj7iqFrQ0RU5YQQ2BOVgMVhF3HtbiYAwNvRAtP6tkCeSo23t0RK+R7bp6AXTkh/H530yfFvaAdXG1MkpGQV2Q+ouGCrKjEAorpDrQb+zB8J2HECYGJu2PoQEVWxv67dw/zdF3Am7gEAwMFSifd7NcGw9h4wUkgDjFaPeqrQ0HQXHQ9NV8hlCOnvgwmbIyFD1QZbZcVO0EVgJ+ha6uIu4IeXAaU1MPlfwMzW0DUiIqoSV5PTsWjPReyLliYaNjNW4I2nG2H8041gqSzc9qGvyQmreh4gdoImepIQwJ+fSdsdXmfwQ0S1UnJaNpaFX8L3ETegUgvIZcCwDg3wfmATOFkX379GIZdVavRVWfVp5YpePi6cCZpIb2L/AG6dBoxMgY5vG7o2REQ6lZmTh6//jMWXR64iI0cFAAhs4YRpfZujsZOVgWunTV/BVmkYAFHdUND689QYwNLRsHUhoipRXdaY0qc8lRo/nb6JpfsvISktGwDgV98G059rgY6NDB9kVGcMgKj2u/k3EHsEkBsBnd81dG2IDE6fgUJt6VvyuOpw/YQQOBSThIV7LuJSYjoAwMPODB8FNcfzrV0h4/I+pWIARLVfwciv1sMAWw/D1oWoBPr4YtVnoKCvY+lzjanqcP3GdPbCkZhknPjvLgDA1twY7/ZsglEdG0BppNBpHWozjgIrAkeB1SKJ0cDqTgBkwMQIwLGpoWtEVCR9fLEWFygUhFi6DhT0cSyVWqDrooPFrmlVML/M0ak9Kx1MVofr9zgTIznGdfHC2z0aw8bMWCfHrek4CoyowNHPpWefAQx+qNrSRwtGaSt/63IxyrIe6+mmjsjJUyMzR4XMHGkJhcycPDzMLdhWITNXhYc5eY+9n583V0pLSMkqcUFPASA+JQuBS4/A1twYxnI5jI1kMJLLYayQwVghh5Eif1suh1F+mtZ7chkUChlWH75a6srpZsYKmBgpYKyQQSEvKEMGI7l0TGk7/zhyORT57xkr5JDLAJlMVuL1K2BmrMDe959GAzvOZ1ZRbAEqAluAaol7scCKpwChBt44Ari1MXSNiAoprQUDAOzMjTF3YCvkCYHsXDWyVWpk56qQo1IjJ0+N7LyCZxVy8rTTclRqZOeqcTcjG1eTM0qtj42ZMZRGcshlMshkUrAiy99+PE2ev1GwLb2UnjNzVIi7l6mza1SXGCtkkEGGHFXpC45WduHQ2ogtQEQAcHy5FPw0DmTwQ9WOSi1w7W4Gdpy5VWLwAwD3MnMx8fszeqlXysNcvRznccYKGcyMFfnrSylgZqLIfzaCubGicFrBtrECN+8/xLLwy6UeY2qfZmjsZIVclTr/IZCnUiNXLZCbp0aeWkrLVamRl/+sea1W42pyBiJi75V6HDcbU5grjZCnUiNPLZCnEtKzWp2/rdakFSVXJYAS234e0efCobURAyCqndISgDObpe1uUwxbF6rRdNExOStXhZiENETHp+L87RRE307FxYQ0ZObP11IWjRws4GZrBhMjOUwUciiNpWcTIzmURgop3UgOZf7D5LFnE4UCsXfSsWTfpVKPs/BFX7RytwEgzR+qFgIC0npS0ne2yE+X0gSkPJD+QS0Eom+nYsGei6Ue6+sx7dG9qSOM85dkqAiVWuDHv2+UusbUG097V+rW3omrdzFi7clS8302tE2ZWmWEEFCppUAoV6WGSi2QqxL5n7e7mPTD2VLL0OfCobURAyCqnU58AahyAI+OgGdnQ9eGqkB1HTH1IDMH0bdT84OdVETfTsWV5HSoivgfv6mxHPXrmeFKUum3pua94Fup2x0qtcCWU3GlBgpD2ntU+jp29nbAxuPXSj3WM82cKn0sfa0xpevFPGUymdQfSAGYGmuP3OrX2g0L9lysVguH1kYMgKj2ybwH/LVe2mbrT61kyBFTBR2TV418Cr71bRB9Oz/QiZeCnVsPHhZZnp2FCVq6WcPH1Ro+btZo6WaDhg4WAICuiw5W+ZedPhej1PfCl31auVb5gp61+frVVewEXQR2gq7hDi8EDi8AnH2Bt/4EOCFYraKPochl6Zj85BfT4xrYmcPH1VoKePKDHWdrZbGT0xWcE1D0l11tm8emKo4FVN9WwZpwrNqiPN/fDICKwACoBstOAz5vBWQ9AAZvAFq9aOgakQ6Vdc6XPz96BjkqNdKz8pCWnYf0rDykZ+chLf85PStXel2QpkmX0u6kZyE5LafU+shlQDMXa03LTks3a7Rws4a1afnnZKlrMxnXZLx+1RcDoEpiAFSDHV8B7PsfYOcNvPMXIOesqLVJWTuiymVAMYNsdOqzIa3xUjvdzS7OLzuiyuEweKqb8rKB419I213fZ/BTC/2XnF6mfAXBj1wGWCqNYGVqDEulESxNjTTPVkojWJkawVJprHld8P61uxmY+ev5Uo/jZqvbSeiqyyrZRHUBAyCqPc5+B6QnANbu0rpfVCuo1AJ/Xk7Gj3/fwN7zCWXaZ9XIp9CjmSPMjBUVWhSyi9oBqw9f5SgcolqMARDVDqo84FiotN35XcDIxKDVocq7cS8T2/6+gZ9O38Ttx/rFGCtk+ZPFFVYQmAS1rNxyDhyFQ1T7MQCi2uH8duD+NcDcHnhqtKFrQxWUlavC3vMJ+PHvGzh25a4m3dbcGIPauGNoew/E3csoccSUrgITfQytJiLDYQBENZ9aDRxdKm13nACYWBi2PlRu52+n4Me/bmDH2dtaSzF0beyAYR080MvHWTNZnI+btd4Ckz6tXNHLx4Udk4lqIQZAVPNdCgOSogETK6DDeEPXhsoo5WEudp69ha1/30DUrVRNupuNKQa398CQdvXhUcxK1/oMTNgxmah2YgBENZsQwJ+fSdv+rwNmtgatTnnUxrlESjuOWi1wMvYufvzrBvZEJSA7T1rx2lghQ28fFwzt4IGujR3KVDcGJkRUGQyAqGa79idw62/AyBTo+LZOiuRssro/ThuPevjp9A38+PdNxN3L1LzfzNkKQzt44IW27rCzYMd1ItIfToRYBE6EWIN8MxD477B066vfkkoXZ8g1pqpq2QN9HKu44zx+vIL3LJVG6O/nhmEdPOBX36ZCw9SJiIrCiRCpbrh5Wgp+5EZAl0mVLq60xS91tcbU7N+iiwwUBKRAIWTnefg3tIdCLiu0jNnjLx8PHJ4MIWQy6VghO88XeywACPn1PHzcbAAB5KnVUAuBPLVAnkpottVq6Vn12OPx1zl5Kswq5pweP14Hz3oY5t8Az/m6wNyEf3qIyLD4V4hqroKRX75DAdsGlSqqLIHJ7N+i0ctHml8mJ0+dv7ZU7mPrS+UhLTtXa/2pNK01qHKRkJpV4gKbAkBiajaemru/UudTVolp2Xh68SG9HCu4dzP22SGiaoMBENVMSReAi78DkAFdJ1e6uIjYe6UGJvEpWWg7Zx+y8tTIye+8Wxso5DIojeRQyGVQyGUwyn9WyGRQKGQwksshlwFGcimPkUIGuexRvnsZObicVPoSFUlpxV9fIiJ9YwBENdPRz6XnFv0Bx2aVLq6sX86pWXlar81NFE+sLaW95pS1acG2tN7UrXuZWLQ3ptTjfPuqP/wbaS+zUFxvvSfTRX47VkTsPYzd8Fepx9r8WkClWmbKukCpk5VphY9BRKRrDICo5rl/Dfj3J2m7W7BOiizrl/Oil3zRpbEDrJTGsFAqYKSQl+s4KrXANyevl7rGVOcyDgUvSbcmjnC1Ma3y9az8G9rp5ThERLpUvr/eVWTlypXw8vKCqakpAgICEBERUWzeHj16QCaTFXr069dPK9+FCxcwYMAA2NjYwMLCAh06dEBcXFxVnwpVFbUKiP1TCnz2TAeECvDuCbi11UnxBV/ixZFBGg02uJ0H6tczh425cbmDH+DRGlMFZT55DEB3Szno61j6PCciIl0xeAC0detWBAcHIyQkBJGRkfDz80NQUBCSkpKKzP/LL78gPj5e84iKioJCocCQIUM0ea5evYquXbuiefPmOHz4MP755x/MmDEDpqZsgq+RoncCoa2ATc8DP78GXNotpTfoqLNDKOQyzHzep8j3qmqNKZcnAi4XG1OdDoHX57H0eU5ERLpg8HmAAgIC0KFDB3zxxRcAALVaDQ8PD7z77ruYNm1aqfuHhoZi5syZiI+Ph4WFtAbU8OHDYWxsjG+//bZCdeI8QNVI9E7gx9FAcTdXhn4D+AzQyaEOxyRh7Ia/Cq3+XVUTFNbFmaCJiKpSjZkHKCcnB6dPn8b06dM1aXK5HIGBgThx4kSZyli3bh2GDx+uCX7UajV27dqFjz76CEFBQThz5gwaNmyI6dOnY9CgQUWWkZ2djezsbM3r1NTUIvNREdQq4PpxID0RsHQGPDsDcoXuyg6biqKDn3xh04Dm/XRyzFWHrgIAXu3qhcAWLrVqjSl9HYvLUxBRTWHQAOjOnTtQqVRwdnbWSnd2dsbFixdL3T8iIgJRUVFYt26dJi0pKQnp6elYuHAhPvnkEyxatAhhYWF48cUXcejQIXTv3r1QOQsWLMDs2bMrf0J1TfROKUBJvf0ozdoN6LOo4q0yQgAP70sB1ZUD2mUXzgyk3pICsIbdKna8fH9du4eIa/dgopDjjae94WzN26VERLVZjR4Ftm7dOvj6+sLf31+TplZL87MMHDgQ77//PgCgTZs2OH78ONasWVNkADR9+nQEBz8aTZSamgoPD48qrn0NV9ytqdR4Kf3JW1N5OVJQk54EpCc82k5LeCwtSUpX5ZSvLumJlT6dVYeuAABealefwQ8RUR1g0ADIwcEBCoUCiYnaX2CJiYlwcXEpcd+MjAz88MMPmDNnTqEyjYyM4OOj3aG1RYsWOHr0aJFlKZVKKJXKCpxBHVXiran8tO1vABFrgYxkKbh5eL98xzCrB5hYAik3Ss9r6Vx6nhKcv52CQzHJkMuAt7o3qlRZRERUMxg0ADIxMUG7du0QHh6u6Z+jVqsRHh6Od955p8R9t23bhuzsbIwaNapQmR06dEBMjPZkc5cuXYKnp6dO619nXT9eyq0pALkPgWt/aKfJjaVgxcpZei54PPna0gkwUkqBVmgrqVWpuE7Q1m5Sv6NKWHVY6vvzfGs3eNpbVKosIiKqGQx+Cyw4OBhjxoxB+/bt4e/vj9DQUGRkZGDcuHEAgNGjR8Pd3R0LFizQ2m/dunUYNGgQ7O0Ld7j88MMPMWzYMDz99NN45plnEBYWht9++w2HDx/WxynVfmW95dT+daDF84CVixTYmNVDodU9SyJXSP2JfhwNFBqblV9On4WV6gD9X3I6dv8bDwCY0MO7wuUQEVHNYvAAaNiwYUhOTsbMmTORkJCANm3aICwsTNMxOi4uDnK59nRFMTExOHr0KPbt21dkmS+88ALWrFmDBQsWYNKkSWjWrBl+/vlndO3atcrPp04o6y2nloMq3TkZPgOk/kRFdrZeWOkh8F8e+Q9CAIEtnNDClVMeEBHVFQafB6g64jxApVCrgM9bAWnF3QbLvzU1+V/dDonX8XD7+JSHeHrxIeSqBH6e0BntPOvppq5ERGQQNWYeIKqh5AqgSS8gclMRb+rm1lSRx6xsa9IT1v4Ri1yVQMdGdgx+iIjqGIMvhUE1UHYacHGXtG1qo/2etZtOZ2euKvcycvB9hLQ23Ns9Ghu4NkREpG9sAaLyO74CyLwD2HkDE44DN/+qmpmgq9DGY7F4mKuCr7sNujVxMHR1iIhIzxgAUfmkJUgBEAAEhgDGpjq/NVXV0rJysfH4NQDAxGe8ISvPyDQiIqoVeAuMyufwQiA3E6jfAWhRvW9zFee7U3FIzcqDt6MFevuUPOEmERHVTgyAqOzuXAYiv5G2e80p35w+1URWrgpr/4wFAEzo0RhyrlRORFQnMQCisjswCxAqoGnfSs++bCjbTt/EnfRsuNuaYWAbN0NXh4iIDIQBEJVN3Cng4u+ATA4EzjJ0bSokT6XGl0ekZS/eeLoRjBX8+BMR1VX8BqDSCQHsnylttx0FODU3bH0q6Ld/buPm/YdwsDTBsA4ehq4OEREZEAMgKl3MbuDGScDIDOjxf4auTYWo1QKrDkmtP+O6NISpcfUfqk9ERFWHARCVTJUn9f0BgE5vA9auBq1ORR24kIjLSemwUhrhlU6ehq4OEREZGAMgKtmZb4E7lwAzO6DLe4auTYUIIbDysNT680onT1ibGhu4RkREZGgMgKh4ORnA4QXSdvePCi97UUOcuHoX5248gNJIjle7NjR0dYiIqBpgAETFO7FKWuLC1hNo/6qha1NhKw9fAQCM8G8AB0ulgWtDRETVAQMgKlrGHeDYMmn72ZmAUc0MHM7eeIBjV+7CSC7D+KcbGbo6RERUTTAAoqIdWQzkpAGubYCWLxq6NhW26pDU+jOorTvcbc0MXBsiIqouGABRYXevAn+vk7Z7zQHkNfNjcikxDfuiEyGTAW919zZ0dYiIqBqpmd9sVLUOzgXUeUDjQKBRd0PXpsLW5I/86tPSBY2dLA1cGyIiqk4YAJG2W6eB89sByIDA2YauTYXduJeJX8/dBgC83aOxgWtDRETVDQMgekQIYH+ItO03HHBpZdj6VMKXf1yFSi3QrYkDfOvXzOH7RERUdRgA0SOX9wPX/gQUSuCZjw1dmwpLSsvCj3/fBABMfIatP0REVBgDIJKoVcCB/NafgDcB25q7WOi6o7HIyVPjqQa2CGhoZ+jqEBFRNcQAiCTnvgeSogFTW6BbsKFrU2EpmbnYcjIOgNT6I5PJDFwjIiKqjhgAEZD7EDg0X9ruNgUwq2fY+lTCNyeuIT07D81drNCzuZOhq0NERNUUAyACTq0BUm8BNh6A/xuGrk2FZebkYf2xWADAhB7ebP0hIqJiMQCq6zLvAX9+Lm0/8zFgbGrY+lTCDxE3cD8zF5725ujn62ro6hARUTXGAKiu+/MzIDsFcG4FtB5q6NpUWE6eGl/98R8AadZnIwU/2kREVDx+S9Rl968DEV9J271mA3KFYetTCdvP3ERCahacrZV48Sl3Q1eHiIiqOQZAddnBTwBVDtCwO+D9rKFrU2EqtcCaI1Lrz/hujaA0qrmBHBER6QcDoLoq/hzw74/Sdq/ZQA3uMLwnKh6xdzJga26MEf4NDF0dIiKqARgA1VUFS160Ggy4tTVsXSpBCIFVh6RFT8d29oKF0sjANSIiopqAAVBddPUg8N8hQG4MPDvD0LWplMOXkhEdnwpzEwXGdvYydHWIiKiGYABU16jVj1p/OrwO1PMyaHUqa9WhKwCAkQENYGtuYuDaEBFRTVEtAqCVK1fCy8sLpqamCAgIQERERLF5e/ToAZlMVujRr1+/IvO/9dZbkMlkCA0NraLa1zBRPwEJ/wBKa+DpDw1dm0qJiL2Hv67dh4lCjte7NTJ0dYiIqAYxeAC0detWBAcHIyQkBJGRkfDz80NQUBCSkpKKzP/LL78gPj5e84iKioJCocCQIUMK5d2+fTtOnjwJNze3qj6NmiEvGwifK213nQxY2Bu0OpW16rDU+vNSu/pwtq65EzgSEZH+GTwAWrp0KcaPH49x48bBx8cHa9asgbm5OdavX19kfjs7O7i4uGge+/fvh7m5eaEA6NatW3j33XexZcsWGBsb6+NUqr+ItUBKHGDlBgRMMHRtKuX87RQcjkmGXAa81Z2tP0REVD4GDYBycnJw+vRpBAYGatLkcjkCAwNx4sSJMpWxbt06DB8+HBYWFpo0tVqNV155BR9++CFatmyp83rXSA8fAH8ukbafmQ6YmBu0OpW16rA08qu/nxs87S1KyU1ERKTNoGOG79y5A5VKBWdnZ610Z2dnXLx4sdT9IyIiEBUVhXXr1mmlL1q0CEZGRpg0aVKZ6pGdnY3s7GzN69TU1DLtV6Mc/Rx4eB9wbA74vWzo2lTKf8np2P1vPABp0VMiIqLyqtGTpqxbtw6+vr7w9/fXpJ0+fRrLli1DZGRkmVcDX7BgAWbPnl1V1TS8lJvSiu8AEDgLUNS8H7tKLRARew9JaVnYEXkLQgCBLZzQ3MXa0FUjIqIayKDfhA4ODlAoFEhMTNRKT0xMhIuLS4n7ZmRk4IcffsCcOXO00v/8808kJSWhQYNHMwKrVCpMmTIFoaGhuHbtWqGypk+fjuDgYM3r1NRUeHh4VOCMqqlDC4C8LMCzC9C0j6FrU25hUfGY/Vs04lOytNLbNqhnoBoREVFNZ9A+QCYmJmjXrh3Cw8M1aWq1GuHh4ejUqVOJ+27btg3Z2dkYNWqUVvorr7yCf/75B2fPntU83Nzc8OGHH2Lv3r1FlqVUKmFtba31qDUSzwPnvpO2e82pcUtehEXFY8LmyELBDwAs2RuDsKh4A9SKiIhqOoPfCwkODsaYMWPQvn17+Pv7IzQ0FBkZGRg3bhwAYPTo0XB3d8eCBQu09lu3bh0GDRoEe3vtodz29vaF0oyNjeHi4oJmzZpV7clUF2oVcP04kJ4InFwNCDXgMxCo397QNSsXlVpg9m/RECXkmf1bNHr5uEAhr1mBHRERGZbBA6Bhw4YhOTkZM2fOREJCAtq0aYOwsDBNx+i4uDjI5doNVTExMTh69Cj27dtniCpXb9E7gbCpQOpt7XTProapTyWc/O9ukS0/BQSA+JQsRMTeQyfvmj2nERER6ZdMCFHSf7DrpNTUVNjY2CAlJaVm3Q6L3gn8OBooss1EBgz9BvAZoNNDPt452cnKFP4N7crdGpOnUuP6vUxcTkzH5cQ0XE5Kx+WkdFxKTINKXfrHc9nwNhjYxr2ip0BERLVEeb6/Dd4CRDqiVkktPyXdMAqbBjTvB8gVOjlkUZ2TXW1MEdLfB31auRbKn6tS4/rdDFxOTMelxHRcTkrDlaR0/JecgRyVusL1cLLiLNBERFQ+DIBqi+vHC9/20iKA1FtSvobdKn24gs7JT4ZbCSlZmLA5EjOe94GTtRKXE9NxJb81J/ZOBvKKadExM1agibMlGjtZoqmzFZo4WaKRgyVGrD2JxNSs4tq04GIjtToRERGVBwOg2iI9sfQ85clXgpI6Jxekzfk9ush9LUwUaJwf4DR1tkQTJys0drKEu60Z5EXcOps1wAcTNkdCBu22rYKcIf192AGaiIjKrVIBUE5ODmJjY+Ht7Q0jI8ZSBmXpXHqe8uQrQUTsvRI7Jxdo7GSBpxrUQ1NnKchp4mwFNxvTMk9QCQB9Wrli9ainCt1qcynhVhsREVFpKhS1ZGZm4t1338WmTZsAAJcuXUKjRo3w7rvvwt3dHdOmTdNpJakMPDsD1m5AajyK7QRt7Sblq6SktNKDHwB4t2cTnXRO7tPKFb18XCrd2ZqIiKhAhSZCnD59Os6dO4fDhw/D1PRRB9TAwEBs3bpVZ5WjcpArgD6LinkzP1Dos1AnHaDL2ulYl52TFXIZOnnbY2Abd3TytmfwQ0RElVKhAGjHjh344osv0LVrV63bGS1btsTVq1d1VjkqJ58BwItfFk63dtPpEHj/hnZwtSk+uJFBGg3GzslERFRdVegWWHJyMpycnAqlZ2RklKt/B1UBs/wJAS2cgT7zpT4/np11NvQdkFpj3u/VFB/99E+h99g5mYiIaoIKtQC1b98eu3bt0rwuCHq+/vrrUtfwoip2/Zj03CQQ8B0sDXnXYfBTIP6B1A/IWKEd5LjYmGL1qKfYOZmIiKq1CrUAzZ8/H3379kV0dDTy8vKwbNkyREdH4/jx4zhy5Iiu60jlURAA6aCzc3Gy81TYfOo6AODTwX5wtjZl52QiIqpRKtQC1LVrV5w7dw55eXnw9fXFvn374OTkhBMnTqBdu3a6riOVVU4mcCtS2vbsUmWH2fVPPJLTsuFibYp+rV3ZOZmIiGqccrcA5ebm4s0338SMGTOwdu3aqqgTVdTNvwB1LmDlBtTzqpJDCCGw/lgsAOCVTp4wVlQohiYiIjKocn97GRsb4+eff66KulBlFdz+8uoCVFFn9L+v30fUrVQojeR42b9BlRyDiIioqlXov++DBg3Cjh07dFwVqrTrx6XnKrz9tSG/9efFp9xRz8Kkyo5DRERUlSrUCbpJkyaYM2cOjh07hnbt2sHCwkLr/UmTJumkclQOednSLTCgygKgm/czERaVAAAY27lhlRyDiIhIHyoUAK1btw62trY4ffo0Tp8+rfWeTCZjAGQItyKBvCzAwhFwaFIlh/j2xHWoBdC1sQOauVhVyTGIiIj0oUIBUGxsrK7rQZV1/aj07Nm5Svr/ZGTn4fuIOADAuC5eOi+fiIhInyo9hEcIASGKWnyT9Opawfw/Xauk+F8ibyI1Kw9e9uZ4plnhWcCJiIhqkgoHQN988w18fX1hZmYGMzMztG7dGt9++60u60ZlpcoFbkRI21UwAaJaLbDh+DUAwNjOXpBzrh8iIqrhKnQLbOnSpZgxYwbeeecddOkidbg9evQo3nrrLdy5cwfvv/++TitJpYg/B+RmAGb1ACcfnRd/5HIy/kvOgJXSCIPbe+i8fCIiIn2rUAC0YsUKrF69GqNHj9akDRgwAC1btsSsWbMYAOlbwfw/DToDct1PTLjh2DUAwNAOHrBUVugjQ0REVK1U6NsyPj4enTsXvtXSuXNnxMfHV7pSVE7Xqm79rytJafjjUjJkMmBMJy+dl09ERGQIFQqAGjdujB9//LFQ+tatW9GkSdUMwaZiqFVA3Elp20v38/8UtP70auGMBvbmOi+fiIjIECp0P2P27NkYNmwY/vjjD00foGPHjiE8PLzIwIiqUGIUkJ0CmFgBzr46LfpBZg5+jrwJABjXhRMfEhFR7VGhFqCXXnoJp06dgoODA3bs2IEdO3bAwcEBEREReOGFF3RdRypJwe2vBh0BhW775/zw1w1k5arRwtUaHRvZ6bRsIiIiQ6rwN2a7du2wefNmXdaFKuLxBVB1KE+lxjf5Q9/HdfGCrIoWVyUiIjKECrUA7d69G3v37i2UvnfvXuzZs6fSlaIyUqurbAHUvecTcTslC/YWJhjg56bTsomIiAytQgHQtGnToFKpCqULITBt2rRKV4rK6E4M8PAeYGwOuLbRadHr81d9HxnQAKbGCp2WTUREZGgVCoAuX74MH5/CE+41b94cV65cqXSlqIyu5a//Vb8DYGSis2LP3XiA09fvw1ghw6iOnjorl4iIqLqoUABkY2OD//77r1D6lStXYGFhUelKURkV3P7y0u36XxvyW3+eb+0GJ2tTnZZNRERUHVQoABo4cCAmT56Mq1evatKuXLmCKVOmYMCAATqrHJVAiEcdoHU4AWJiahZ2/StNZvkqh74TEVEtVaEAaPHixbCwsEDz5s3RsGFDNGzYEM2bN4e9vT2WLFmi6zpSUe5eBdITAYUScG+vs2I3n7yOXJVAe8968K1vo7NyiYiIqpMKDYO3sbHB8ePHsX//fpw7dw5mZmbw8/NDt27ddF0/Kk5B60/99oCxbm5TZeWqsOVUHADg1a5s/SEiotqrXC1AJ06cwO+//w4AkMlk6N27N5ycnLBkyRK89NJLeOONN5CdnV0lFaUnVMHtr51nb+NeRg7cbc3Q28dZZ+USERFVN+UKgObMmYPz589rXv/7778YP348evXqhWnTpuG3337DggULyl2JlStXwsvLC6ampggICEBERESxeXv06AGZTFbo0a9fPwBAbm4upk6dCl9fX1hYWMDNzQ2jR4/G7du3y12vak3H8/8IITRD30d38oSRQveryhMREVUX5fqWO3v2LJ599lnN6x9++AH+/v5Yu3YtgoODsXz58nKvBbZ161YEBwcjJCQEkZGR8PPzQ1BQEJKSkorM/8svvyA+Pl7ziIqKgkKhwJAhQwAAmZmZiIyMxIwZMxAZGYlffvkFMTExtatz9v3rQMoNQG4EePjrpMgT/93FxYQ0mBkrMLxDA52USUREVF2Vqw/Q/fv34ez86NbIkSNH0LdvX83rDh064MaNG+WqwNKlSzF+/HiMGzcOALBmzRrs2rUL69evL3JSRTs77TWpfvjhB5ibm2sCIBsbG+zfv18rzxdffAF/f3/ExcWhQYNa8OVe0Prj1hYw0c20AwWrvr/Uzh025sY6KZOIiKi6KlcLkLOzM2JjpdskOTk5iIyMRMeOHTXvp6Wlwdi47F+eOTk5OH36NAIDAx9VSC5HYGAgTpw4UaYy1q1bh+HDh5c4/1BKSgpkMhlsbW3LXLdq7Xr+BIg66v9z/W4GDlxIBACM7czOz0REVPuVqwXoueeew7Rp07Bo0SLs2LED5ubmWiO//vnnH3h7e5e5vDt37kClUmm1KgFSoHXx4sVS94+IiEBUVBTWrVtXbJ6srCxMnToVI0aMgLW1dZF5srOztTpvp6amlvEMDKRgBXhP3UyAuOn4dQgBdG/qiMZOljopk4iIqDorVwvQ3LlzYWRkhO7du2Pt2rVYu3YtTEweLcGwfv169O7dW+eVLM66devg6+sLf/+i+8Hk5uZi6NChEEJg9erVxZazYMEC2NjYaB4eHh5VVeXKS70N3I8FZHKgQUCli0vLysWPf0u3Lcd18ap0eURERDVBuVqAHBwc8McffyAlJQWWlpZQKLQXydy2bRssLcveguDg4ACFQoHExESt9MTERLi4uJS4b0ZGBn744QfMmTOnyPcLgp/r16/j4MGDxbb+AMD06dMRHByseZ2amlp9g6CC/j8uvoBp5Scq/On0TaRn58Hb0QJPN3GsdHlEREQ1QYXXAnsy+AGkDsqPtwiVxsTEBO3atUN4eLgmTa1WIzw8HJ06dSpx323btiE7OxujRo0q9F5B8HP58mUcOHAA9vb2JZalVCphbW2t9ai2ruvu9pdKLbDx+DUAwNguDSGXyypdJhERUU1QoZmgdSk4OBhjxoxB+/bt4e/vj9DQUGRkZGhGhY0ePRru7u6F5hdat24dBg0aVCi4yc3NxeDBgxEZGYnff/8dKpUKCQkJAMofoFVL13Q3AeKhi0m4fjcT1qZGeOkp90qXR0REVFMYPAAaNmwYkpOTMXPmTCQkJKBNmzYICwvTdIyOi4uDXK7dUBUTE4OjR49i3759hcq7desWdu7cCQBo06aN1nuHDh1Cjx49quQ89CI9GbgTI23rIAAqmPhwhH8DmJsY/KNARESkNzIhhDB0Jaqb1NRU2NjYICUlpXrdDov+FfhxNODkA7xdtmkCinMxIRV9Qv+EQi7DHx89A3dbMx1VkoiIyDDK8/3N9Q5qEs3tr8ovf7Hh6DUAQFBLZwY/RERU5zAAqkkKRoB5VS4Aupueje1nbwEAXu3CiQ+JiKjuYQBUUzy8DyRGSdsNKtf/5/uIOOTkqeHrboN2nvV0UDkiIqKahQFQTRF3EoAA7JsAVs6lZi9OTp4a3568DgB4tasXZDIOfSciorqHAVBNcU0363/tiYpHYmo2HK2U6OfrpoOKERER1TwMgGqKggkQvSo+AaIQAuuPSkPfX+noCRMj/viJiKhu4jdgTZCdBsSfk7Yr0QIUGfcA526mwEQhx8sBDXRUOSIiopqHAVBNEHcKEGrA1hOwqV/hYjbkT3w4sI0bHCyVuqodERFRjcMAqCbQwe2v2w8eYk+UtCTIOA59JyKiOo4BUE1wvfLrf31z4jpUaoGOjezg41aNZrcmIiIyAAZA1V1OJnArUtqu4AzQD3NU+D4iDgBbf4iIiAAGQNXfzb8AdS5g5QbU86pQEb+cuYmUh7nwsDNDYIuKzyFERERUWzAAqu40/X+6ABWYtFAIgQ3HrgEAxnTygkLOiQ+JiIgYAFV3Bet/VbD/z5+X7+BKUjosTBQY2sFDhxUjIiKquRgAVWd52dItMADwrNgIsIKh70Pae8Da1FhXNSMiIqrRjAxdASrBrUggLwuwcAQcmpR5N5VaICL2HqJupeBQTDIAYExnryqqJBERUc3DAKg6u/7Y+l9l7P8TFhWP2b9FIz4lS5OmNJIjJiEVDR0sqqKWRERENQ5vgVVnmv4/Zbv9FRYVjwmbI7WCHwDIzlNjwuZIhEXF67qGRERENRIDoOpKlSstgQGUqQO0Si0w+7doiBLyzP4tGip1STmIiIjqBgZA1VX8OSA3AzC1BZx8Ss0eEXuvUMvP4wSA+JQsRMTe010diYiIaigGQNXV48tfyEv/MSWlFR/8VCQfERFRbcYAqLq6VhAAlW35CycrU53mIyIiqs0YAFVHahUQd1La9ipbAOTf0A6uNqYobqyYDICrjSn8G9rppIpEREQ1GQOg6igxCshOAUysAGffMu2ikMsQ0r/ovkIFQVFIfx8uhUFERAQGQNVTwfD3Bh0BRdmnaurTyhWrRj6FJ2McFxtTrB71FPq0ctVhJYmIiGouToRYHV17bALEcvKtbwO1AOQyYPHg1nC3NYd/Qzu2/BARET2GAVB1o1Y/agHyKv/6X2dvPAAA+LhZY3A7Ln5KRERUFN4Cq27uxAAP7wFGZoBrm3LvfjbuAQCgrUc93daLiIioFmEAVN0U3P7y8AeMTMq9e0ELUBsPW93ViYiIqJZhAFTdVOL2V65KjX9vpQAA2jSw1WGliIiIahcGQNWJENozQJdTTEIasvPUsDY1QkN7rvxORERUHAZA1cm9/4D0REBhAri3L/fuZ/Jvf/l52ELOUV9ERETFYgBUnRT0/3FvDxiXf8mKRx2gbXVXJyIiolqIAVB1UnD7q4zLXzzp7I37ANj/h4iIqDTVIgBauXIlvLy8YGpqioCAAERERBSbt0ePHpDJZIUe/fr10+QRQmDmzJlwdXWFmZkZAgMDcfnyZX2cSuUUdIAu4wKoj0t5mIuryRkAAL/6tjqsFBERUe1j8ABo69atCA4ORkhICCIjI+Hn54egoCAkJSUVmf+XX35BfHy85hEVFQWFQoEhQ4Zo8ixevBjLly/HmjVrcOrUKVhYWCAoKAhZWVn6Oq3yu38dSLkByI2kIfDl9M/NBwCABnbmsLdU6rhyREREtYvBA6ClS5di/PjxGDduHHx8fLBmzRqYm5tj/fr1Rea3s7ODi4uL5rF//36Ym5trAiAhBEJDQ/G///0PAwcOROvWrfHNN9/g9u3b2LFjhx7PrJwKWn/c2gIm5R/BdSa//w/n/yEiIiqdQQOgnJwcnD59GoGBgZo0uVyOwMBAnDhxokxlrFu3DsOHD4eFhRQ0xMbGIiEhQatMGxsbBAQEFFtmdnY2UlNTtR56d73i638BnACRiIioPAwaAN25cwcqlQrOzs5a6c7OzkhISCh1/4iICERFReH111/XpBXsV54yFyxYABsbG83Dw8MAa2hp+v+UfwJEIcSjAIgdoImIiEpl8FtglbFu3Tr4+vrC37/8fWYeN336dKSkpGgeN27c0FENyyg1XpoDSCYHGgSUe/cb9x7iXkYOjBUy+LhaV0EFiYiIaheDBkAODg5QKBRITEzUSk9MTISLi0uJ+2ZkZOCHH37Aa6+9ppVesF95ylQqlbC2ttZ66FXB8HcXX8DUpty7n8kf/u7jag1TY4Uua0ZERFQrGTQAMjExQbt27RAeHq5JU6vVCA8PR6dOnUrcd9u2bcjOzsaoUaO00hs2bAgXFxetMlNTU3Hq1KlSyzQYzfIX5b/9BbD/DxERUXkZGboCwcHBGDNmDNq3bw9/f3+EhoYiIyMD48aNAwCMHj0a7u7uWLBggdZ+69atw6BBg2Bvb6+VLpPJMHnyZHzyySdo0qQJGjZsiBkzZsDNzQ2DBg3S12mVz7WKr/8FgP1/iIiIysngAdCwYcOQnJyMmTNnIiEhAW3atEFYWJimE3NcXBzkcu2GqpiYGBw9ehT79u0rssyPPvoIGRkZeOONN/DgwQN07doVYWFhMDUt//ISVS49GbgTI21XIADKyVPj/G1p1Fobj3q6rBkREVGtJRNCCENXorpJTU2FjY0NUlJSqr4/UPSvwI+jAScf4O2yDf1/3LkbDzBw5THYmhvjzIxekMm4CCoREdVN5fn+rtGjwGqFSix/ATy6/eVX35bBDxERURkxADI0HfX/acv+P0RERGXGAMiQHt4HEqOk7Uq2AHEEGBERUdkxADKkuJMABGDfBLByLjX7kx5k5iD2jrQCPAMgIiKismMAZEjXdLP+V0MHC9iam+ioUkRERLUfAyBDKugA7cUJEImIiPSJAZChZKcB8eekba4AT0REpFcMgAzlxilAqABbT8Cmfrl3F0LgHAMgIiKiCmEAZCia4e8VG/11/W4m7mfmwsRIjhZcAZ6IiKhcGAAZSsECqF6VG/7e0s0aJkb8MRIREZUHvzkNIScTuBUpbXP+HyIiIr1jAGQIN/8C1LmAlRtQz6tCRZyJuw+AARAREVFFMAAyBM3w9y5ABdbvyspVITpeWgG+LVeAJyIiKjcGQIZwvXLrf0XHpyJXJWBnYQIPOzMdVoyIiKhuYACkb3nZ0i0wAPCs4ASIcQ8ASLe/uAI8ERFR+TEA0ie1Cvh7A5CXBZjaAHaNKlQMO0ATERFVDgMgfYneCYS2AsKmSq+zUoBlvlJ6OTEAIiIiqhwGQPoQvRP4cTSQels7PTVeSi9HEHQ3PRtx9zIBAH4MgIiIiCqEAVBVU6vyW31EEW/mp4VNk/KVwbmbDwAAjRwtYGNmrJMqEhER1TUMgKra9eOFW360CCD11qOh8aV4vAM0ERERVQwDoKqWnqjTfGfy+/+0bcD5f4iIiCqKAVBVs3TWWT61+tEK8G3ZAkRERFRhDICqmmdnwNoNQHHz9cgAa/cyTYoYezcDqVl5UBrJ0czFSqfVJCIiqksYAFU1uQLosyj/xZNBUP7rPgulfKUo6P/j624DYwV/dERERBXFb1F98BkADP0GsHbVTrd2k9J9BpSpGM7/Q0REpBtGhq5AneEzAGjeTxrtlZ4o9fnx7Fymlp8CmgCogW3V1JGIiKiOYACkT3IF0LBbhXbNylXhQv4K8GwBIiIiqhzeAqshzt9OQZ5awMFSCXdbrgBPRERUGQyAaogzXAGeiIhIZxgA1RBnNRMg2hq0HkRERLUBA6AagiPAiIiIdIcBUA2QnJaNm/cfQiYDWte3MXR1iIiIajwGQDVAQetPY0dLWJlyBXgiIqLKYgBUA5y9cR8Ab38RERHpisEDoJUrV8LLywumpqYICAhAREREifkfPHiAiRMnwtXVFUqlEk2bNsXu3bs176tUKsyYMQMNGzaEmZkZvL29MXfuXAghqvpUqgwnQCQiItItg06EuHXrVgQHB2PNmjUICAhAaGgogoKCEBMTAycnp0L5c3Jy0KtXLzg5OeGnn36Cu7s7rl+/DltbW02eRYsWYfXq1di0aRNatmyJv//+G+PGjYONjQ0mTZqkx7PTDbVa4J8bKQDYAkRERKQrBg2Ali5divHjx2PcuHEAgDVr1mDXrl1Yv349pk2bVij/+vXrce/ePRw/fhzGxlJfGC8vL608x48fx8CBA9GvXz/N+99//32pLUvV1dXkdKRl58HMWIFmzlwBnoiISBcMdgssJycHp0+fRmBg4KPKyOUIDAzEiRMnitxn586d6NSpEyZOnAhnZ2e0atUK8+fPh0ql0uTp3LkzwsPDcenSJQDAuXPncPToUfTt27fYumRnZyM1NVXrUV2cyb/95etuAyOuAE9ERKQTBmsBunPnDlQqFZydnbXSnZ2dcfHixSL3+e+//3Dw4EGMHDkSu3fvxpUrV/D2228jNzcXISEhAIBp06YhNTUVzZs3h0KhgEqlwrx58zBy5Mhi67JgwQLMnj1bdyenQ+z/Q0REpHs1qklBrVbDyckJX331Fdq1a4dhw4bh448/xpo1azR5fvzxR2zZsgXfffcdIiMjsWnTJixZsgSbNm0qttzp06cjJSVF87hx44Y+TqdMzuYvgdGW/X+IiIh0xmAtQA4ODlAoFEhMTNRKT0xMhIuLS5H7uLq6wtjYGAqFQpPWokULJCQkICcnByYmJvjwww8xbdo0DB8+HADg6+uL69evY8GCBRgzZkyR5SqVSiiVSh2dme48zFEhJjENAFuAiIiIdMlgLUAmJiZo164dwsPDNWlqtRrh4eHo1KlTkft06dIFV65cgVqt1qRdunQJrq6uMDExAQBkZmZCLtc+LYVCobVPTfHvrRSo1ALO1kq42nAFeCIiIl0x6C2w4OBgrF27Fps2bcKFCxcwYcIEZGRkaEaFjR49GtOnT9fknzBhAu7du4f33nsPly5dwq5duzB//nxMnDhRk6d///6YN28edu3ahWvXrmH79u1YunQpXnjhBb2fX2VxAkQiIqKqYdBh8MOGDUNycjJmzpyJhIQEtGnTBmFhYZqO0XFxcVqtOR4eHti7dy/ef/99tG7dGu7u7njvvfcwdepUTZ4VK1ZgxowZePvtt5GUlAQ3Nze8+eabmDlzpt7Pr7IeLYBaz7AVISIiqmVkoiZPkVxFUlNTYWNjg5SUFFhbWxusHp0XhON2Sha+H98RnbztDVYPIiKimqA83981ahRYXZKUmoXbKVmQcwV4IiIinWMAVE0VTIDY1NkKFkqD3qkkIiKqdRgAVVOP+v/YGrQeREREtREDoGqqYAJEBkBERES6xwCoGlKpBf65+QAAJ0AkIiKqCgyAqqErSenIyFHBwkSBJk5cAZ6IiEjXGABVQwUTIPrWt4FCLjNwbYiIiGofBkDVECdAJCIiqloMgKqhM+wATUREVKUYAFUzGdl5uJS/AnxbdoAmIiKqEgyAqpl/bqZALQBXG1M4W5saujpERES1EgOgaoYTIBIREVU9BkDVTMEIMN7+IiIiqjoMgKoZjgAjIiKqegyAqpH4lIdITM2GQi6DrztXgCciIqoqDICqkYL1v5o5W8HMRGHYyhAREdViDICqEc3tL/b/ISIiqlIMgKqRMxwBRkREpBcMgKqJPJUa/95MAQC0ZQBERERUpRgAVROXEtPxMFcFK6URvB0tDV0dIiKiWo0BUDVR0P+ntYcN5FwBnoiIqEoxAKomCiZAZP8fIiKiqscAqJrgBIhERET6wwCoGkjLysXlpHQAbAEiIiLSBwZA1cC/N1MgBOBuawZHK6Whq0NERFTrMQCqBs5wAkQiIiK9YgBUDRT0/+H8P0RERPrBAMjAhBCPdYC2NWhdiIiI6goGQAZ268FDJKdlw0guQyuuAE9ERKQXDIAMrKD1p7mrFUyNuQI8ERGRPjAAMrCzcQ8A8PYXERGRPjEAMrBHHaA5ASIREZG+MAAyoFyVGv/eklaA5xB4IiIi/WEAZEAxCWnIzlPD2tQIDe0tDF0dIiKiOsPgAdDKlSvh5eUFU1NTBAQEICIiosT8Dx48wMSJE+Hq6gqlUommTZti9+7dWnlu3bqFUaNGwd7eHmZmZvD19cXff/9dladRIQUTIPp52HIFeCIiIj0yMuTBt27diuDgYKxZswYBAQEIDQ1FUFAQYmJi4OTkVCh/Tk4OevXqBScnJ/z0009wd3fH9evXYWtrq8lz//59dOnSBc888wz27NkDR0dHXL58GfXqVb8+NgUdoDkBIhERkX4ZNABaunQpxo8fj3HjxgEA1qxZg127dmH9+vWYNm1aofzr16/HvXv3cPz4cRgbGwMAvLy8tPIsWrQIHh4e2LBhgyatYcOGVXcSlXD2xn0A7P9DRESkbwa7BZaTk4PTp08jMDDwUWXkcgQGBuLEiRNF7rNz50506tQJEydOhLOzM1q1aoX58+dDpVJp5Wnfvj2GDBkCJycntG3bFmvXri2xLtnZ2UhNTdV6VLWUh7m4mpwBAPCrb1vlxyMiIqJHDBYA3blzByqVCs7Ozlrpzs7OSEhIKHKf//77Dz/99BNUKhV2796NGTNm4LPPPsMnn3yilWf16tVo0qQJ9u7diwkTJmDSpEnYtGlTsXVZsGABbGxsNA8PDw/dnGQJ/rn5AADQwM4c9pZcAZ6IiEifDHoLrLzUajWcnJzw1VdfQaFQoF27drh16xY+/fRThISEaPK0b98e8+fPBwC0bdsWUVFRWLNmDcaMGVNkudOnT0dwcLDmdWpqapUHQZwAkYiIyHAMFgA5ODhAoVAgMTFRKz0xMREuLi5F7uPq6gpjY2MoFI+WjGjRogUSEhKQk5MDExMTuLq6wsfHR2u/Fi1a4Oeffy62LkqlEkqlflthuAAqERGR4RjsFpiJiQnatWuH8PBwTZparUZ4eDg6depU5D5dunTBlStXoFarNWmXLl2Cq6srTExMNHliYmK09rt06RI8PT2r4CwqRmsFeHaAJiIi0juDzgMUHByMtWvXYtOmTbhw4QImTJiAjIwMzaiw0aNHY/r06Zr8EyZMwL179/Dee+/h0qVL2LVrF+bPn4+JEydq8rz//vs4efIk5s+fjytXruC7777DV199pZXH0G7ef4i7GTkwVsjg42pt6OoQERHVOQbtAzRs2DAkJydj5syZSEhIQJs2bRAWFqbpGB0XFwe5/FGM5uHhgb179+L9999H69at4e7ujvfeew9Tp07V5OnQoQO2b9+O6dOnY86cOWjYsCFCQ0MxcuRIvZ9fcQomQPRxteYK8ERERAYgE0IIQ1eiuklNTYWNjQ1SUlJgba37Fpo5v0Vj/bFYjOnkidkDW+m8fCIiorqoPN/fBl8Koy7iBIhERESGxQBIz3Ly1Ii6LU202Maj+i3PQUREVBcwANKziwmpyMlTw9bcGF725oauDhERUZ3EAEiPVGqB7WduAQA87cyhZu8rIiIig2AApCdhUfHouuggNhy7BgA4dzMFXRcdRFhUvGErRkREVAcxANKDsKh4TNgcifiULK30hJQsTNgcySCIiIhIzxgAVTGVWmD2b9Eo6m5XQdrs36Kh4v0wIiIivWEAVMUiYu8Vavl5nAAQn5KFiNh7+qsUERFRHccAqIolpRUf/FQkHxEREVUeA6Aq5mRlqtN8REREVHkMgKqYf0M7uNqYQlbM+zIArjam8G9op89qERER1WkMgKqYQi5DSH8fACgUBBW8DunvA4W8uBCJiIiIdI0BkB70aeWK1aOegouN9m0uFxtTrB71FPq0cjVQzYiIiOomI0NXoK7o08oVvXxcEBF7D0lpWXCykm57seWHiIhI/xgA6ZFCLkMnb3tDV4OIiKjO4y0wIiIiqnMYABEREVGdwwCIiIiI6hwGQERERFTnMAAiIiKiOocBEBEREdU5DICIiIiozmEARERERHUOAyAiIiKqczgTdBGEEACA1NRUA9eEiIiIyqrge7vge7wkDICKkJaWBgDw8PAwcE2IiIiovNLS0mBjY1NiHpkoS5hUx6jVaty+fRtWVlaQyerOYqWpqanw8PDAjRs3YG1tbejqGBSvhYTXQcLr8AivhYTXQVLdroMQAmlpaXBzc4NcXnIvH7YAFUEul6N+/fqGrobBWFtbV4sPcnXAayHhdZDwOjzCayHhdZBUp+tQWstPAXaCJiIiojqHARARERHVOQyASEOpVCIkJARKpdLQVTE4XgsJr4OE1+ERXgsJr4OkJl8HdoImIiKiOoctQERERFTnMAAiIiKiOocBEBEREdU5DICIiIiozmEAVIcsWLAAHTp0gJWVFZycnDBo0CDExMSUuM/GjRshk8m0HqampnqqcdWYNWtWoXNq3rx5ifts27YNzZs3h6mpKXx9fbF792491bbqeHl5FboOMpkMEydOLDJ/bfos/PHHH+jfvz/c3Nwgk8mwY8cOrfeFEJg5cyZcXV1hZmaGwMBAXL58udRyV65cCS8vL5iamiIgIAARERFVdAa6UdJ1yM3NxdSpU+Hr6wsLCwu4ublh9OjRuH37dollVuT3y9BK+zyMHTu20Dn16dOn1HJr2ucBKP1aFPU3QyaT4dNPPy22zOr6mWAAVIccOXIEEydOxMmTJ7F//37k5uaid+/eyMjIKHE/a2trxMfHax7Xr1/XU42rTsuWLbXO6ejRo8XmPX78OEaMGIHXXnsNZ86cwaBBgzBo0CBERUXpsca699dff2ldg/379wMAhgwZUuw+teWzkJGRAT8/P6xcubLI9xcvXozly5djzZo1OHXqFCwsLBAUFISsrKxiy9y6dSuCg4MREhKCyMhI+Pn5ISgoCElJSVV1GpVW0nXIzMxEZGQkZsyYgcjISPzyyy+IiYnBgAEDSi23PL9f1UFpnwcA6NOnj9Y5ff/99yWWWRM/D0Dp1+LxaxAfH4/169dDJpPhpZdeKrHcavmZEFRnJSUlCQDiyJEjxebZsGGDsLGx0V+l9CAkJET4+fmVOf/QoUNFv379tNICAgLEm2++qeOaGdZ7770nvL29hVqtLvL92vhZEEIIAGL79u2a12q1Wri4uIhPP/1Uk/bgwQOhVCrF999/X2w5/v7+YuLEiZrXKpVKuLm5iQULFlRJvXXtyetQlIiICAFAXL9+vdg85f39qm6Kug5jxowRAwcOLFc5Nf3zIETZPhMDBw4UPXv2LDFPdf1MsAWoDktJSQEA2NnZlZgvPT0dnp6e8PDwwMCBA3H+/Hl9VK9KXb58GW5ubmjUqBFGjhyJuLi4YvOeOHECgYGBWmlBQUE4ceJEVVdTb3JycrB582a8+uqrJS4AXBs/C0+KjY1FQkKC1s/cxsYGAQEBxf7Mc3JycPr0aa195HI5AgMDa9XnJCUlBTKZDLa2tiXmK8/vV01x+PBhODk5oVmzZpgwYQLu3r1bbN668nlITEzErl278Nprr5Watzp+JhgA1VFqtRqTJ09Gly5d0KpVq2LzNWvWDOvXr8evv/6KzZs3Q61Wo3Pnzrh586Yea6tbAQEB2LhxI8LCwrB69WrExsaiW7duSEtLKzJ/QkICnJ2dtdKcnZ2RkJCgj+rqxY4dO/DgwQOMHTu22Dy18bNQlIKfa3l+5nfu3IFKparVn5OsrCxMnToVI0aMKHHRy/L+ftUEffr0wTfffIPw8HAsWrQIR44cQd++faFSqYrMXxc+DwCwadMmWFlZ4cUXXywxX3X9THA1+Dpq4sSJiIqKKvU+bKdOndCpUyfN686dO6NFixb48ssvMXfu3KquZpXo27evZrt169YICAiAp6cnfvzxxzL9T6Y2WrduHfr27Qs3N7di89TGzwKVTW5uLoYOHQohBFavXl1i3tr4+zV8+HDNtq+vL1q3bg1vb28cPnwYzz77rAFrZljr16/HyJEjSx0MUV0/E2wBqoPeeecd/P777zh06BDq169frn2NjY3Rtm1bXLlypYpqp3+2trZo2rRpsefk4uKCxMRErbTExES4uLjoo3pV7vr16zhw4ABef/31cu1XGz8LADQ/1/L8zB0cHKBQKGrl56Qg+Ll+/Tr2799fYutPUUr7/aqJGjVqBAcHh2LPqTZ/Hgr8+eefiImJKfffDaD6fCYYANUhQgi888472L59Ow4ePIiGDRuWuwyVSoV///0Xrq6uVVBDw0hPT8fVq1eLPadOnTohPDxcK23//v1arSE12YYNG+Dk5IR+/fqVa7/a+FkAgIYNG8LFxUXrZ56amopTp04V+zM3MTFBu3bttPZRq9UIDw+v0Z+TguDn8uXLOHDgAOzt7ctdRmm/XzXRzZs3cffu3WLPqbZ+Hh63bt06tGvXDn5+fuXet9p8JgzdC5v0Z8KECcLGxkYcPnxYxMfHax6ZmZmaPK+88oqYNm2a5vXs2bPF3r17xdWrV8Xp06fF8OHDhampqTh//rwhTkEnpkyZIg4fPixiY2PFsWPHRGBgoHBwcBBJSUlCiMLX4NixY8LIyEgsWbJEXLhwQYSEhAhjY2Px77//GuoUdEalUokGDRqIqVOnFnqvNn8W0tLSxJkzZ8SZM2cEALF06VJx5swZzeimhQsXCltbW/Hrr7+Kf/75RwwcOFA0bNhQPHz4UFNGz549xYoVKzSvf/jhB6FUKsXGjRtFdHS0eOONN4Stra1ISEjQ+/mVVUnXIScnRwwYMEDUr19fnD17VutvRnZ2tqaMJ69Dab9f1VFJ1yEtLU188MEH4sSJEyI2NlYcOHBAPPXUU6JJkyYiKytLU0Zt+DwIUfrvhhBCpKSkCHNzc7F69eoiy6gpnwkGQHUIgCIfGzZs0OTp3r27GDNmjOb15MmTRYMGDYSJiYlwdnYWzz33nIiMjNR/5XVo2LBhwtXVVZiYmAh3d3cxbNgwceXKFc37T14DIYT48ccfRdOmTYWJiYlo2bKl2LVrl55rXTX27t0rAIiYmJhC79Xmz8KhQ4eK/F0oOF+1Wi1mzJghnJ2dhVKpFM8++2yha+Tp6SlCQkK00lasWKG5Rv7+/uLkyZN6OqOKKek6xMbGFvs349ChQ5oynrwOpf1+VUclXYfMzEzRu3dv4ejoKIyNjYWnp6cYP358oUCmNnwehCj9d0MIIb788kthZmYmHjx4UGQZNeUzIRNCiCptYiIiIiKqZtgHiIiIiOocBkBERERU5zAAIiIiojqHARARERHVOQyAiIiIqM5hAERERER1DgMgIiIiqnMYABFRlbt27RpkMhnOnj1r6KpoXLx4ER07doSpqSnatGlj6OoQkZ4xACKqA8aOHQuZTIaFCxdqpe/YsQMymcxAtTKskJAQWFhYICYmptBabwUKrtuTD10t4rhx40bY2trqpCwiKh8GQER1hKmpKRYtWoT79+8buio6k5OTU+F9r169iq5du8LT07PERT779OmD+Ph4rUdFFhKuarm5uYauAlGNwgCIqI4IDAyEi4sLFixYUGyeWbNmFbodFBoaCi8vL83rsWPHYtCgQZg/fz6cnZ1ha2uLOXPmIC8vDx9++CHs7OxQv359bNiwoVD5Fy9eROfOnWFqaopWrVrhyJEjWu9HRUWhb9++sLS0hLOzM1555RXcuXNH836PHj3wzjvvYPLkyXBwcEBQUFCR56FWqzFnzhzUr18fSqUSbdq0QVhYmOZ9mUyG06dPY86cOZDJZJg1a1ax10SpVMLFxUXroVAoAAC//vornnrqKZiamqJRo0aYPXs28vLyNPsuXboUvr6+sLCwgIeHB95++22kp6cDAA4fPoxx48YhJSVF07JUUA+ZTIYdO3Zo1cPW1hYbN24E8OiW4tatW9G9e3eYmppiy5YtAICvv/4aLVq0gKmpKZo3b45Vq1ZpysjJycE777wDV1dXmJqawtPTs8TPA1FtxgCIqI5QKBSYP38+VqxYgZs3b1aqrIMHD+L27dv4448/sHTpUoSEhOD5559HvXr1cOrUKbz11lt48803Cx3nww8/xJQpU3DmzBl06tQJ/fv3x927dwEADx48QM+ePdG2bVv8/fffCAsLQ2JiIoYOHapVxqZNm2BiYoJjx45hzZo1RdZv2bJl+Oyzz7BkyRL8888/CAoKwoABA3D58mUAQHx8PFq2bIkpU6YgPj4eH3zwQbmvwZ9//onRo0fjvffeQ3R0NL788kts3LgR8+bN0+SRy+VYvnw5zp8/j02bNuHgwYP46KOPAACdO3dGaGgorK2tNS1L5a3HtGnT8N577+HChQsICgrCli1bMHPmTMybNw8XLlzA/PnzMWPGDGzatAkAsHz5cuzcuRM//vgjYmJisGXLFq3glqhOMfRqrERU9caMGSMGDhwohBCiY8eO4tVXXxVCCLF9+3bx+J+BkJAQ4efnp7Xv559/Ljw9PbXK8vT0FCqVSpPWrFkz0a1bN83rvLw8YWFhIb7//nshhNCsLL5w4UJNntzcXFG/fn2xaNEiIYQQc+fOFb1799Y69o0bN7RWq+/evbto27Ztqefr5uYm5s2bp5XWoUMH8fbbb2te+/n5FVq9+0ljxowRCoVCWFhYaB6DBw8WQgjx7LPPivnz52vl//bbb4Wrq2ux5W3btk3Y29trXm/YsEHY2NgUygdAbN++XSvNxsZGbNiwQQjx6HqGhoZq5fH29hbfffedVtrcuXNFp06dhBBCvPvuu6Jnz55CrVaXeN5EdYGRQaMvItK7RYsWoWfPnhVq9SjQsmVLyOWPGpCdnZ3RqlUrzWuFQgF7e3skJSVp7depUyfNtpGREdq3b48LFy4AAM6dO4dDhw7B0tKy0PGuXr2Kpk2bAgDatWtXYt1SU1Nx+/ZtdOnSRSu9S5cuOHfuXBnP8JFnnnkGq1ev1ry2sLDQ1PfYsWNaLT4qlQpZWVnIzMyEubk5Dhw4gAULFuDixYtITU1FXl6e1vuV1b59e812RkYGrl69itdeew3jx4/XpOfl5cHGxgaAdPuyV69eaNasGfr06YPnn38evXv3rnQ9iGoiBkBEdczTTz+NoKAgTJ8+HWPHjtV6Ty6XQwihlVZU51pjY2Ot1zKZrMg0tVpd5nqlp6ejf//+WLRoUaH3XF1dNdsFAYi+WFhYoHHjxoXS09PTMXv2bLz44ouF3jM1NcW1a9fw/PPPY8KECZg3bx7s7Oxw9OhRvPbaa8jJySkxAJLJZGX6OTx+LQr6Fq1duxYBAQFa+Qr6LD311FOIjY3Fnj17cODAAQwdOhSBgYH46aefSrgCRLUTAyCiOmjhwoVo06YNmjVrppXu6OiIhIQECCE0w+N1OXfPyZMn8fTTTwOQWiZOnz6Nd955B4D05fzzzz/Dy8sLRkYV/9NkbW0NNzc3HDt2DN27d9ekHzt2DP7+/pU7gcc89dRTiImJKTI4AoDTp09DrVbjs88+07SW/fjjj1p5TExMoFKpCu3r6OiI+Ph4zevLly8jMzOzxPo4OzvDzc0N//33H0aOHFlsPmtrawwbNgzDhg3D4MGD0adPH9y7dw92dnYllk9U2zAAIqqDfH19MXLkSCxfvlwrvUePHkhOTsbixYsxePBghIWFYc+ePbC2ttbJcVeuXIkmTZqgRYsW+Pzzz3H//n28+uqrAICJEydi7dq1GDFiBD766CPY2dnhypUr+OGHH/D1119rWjHK4sMPP0RISAi8vb3Rpk0bbNiwAWfPntWMlNKFmTNn4vnnn0eDBg0wePBgyOVynDt3DlFRUfjkk0/QuHFj5ObmYsWKFejfv3+Rnba9vLyQnp6O8PBw+Pn5wdzcHObm5ujZsye++OILdOrUCSqVClOnTi3UwlaU2bNnY9KkSbCxsUGfPn2QnZ2Nv//+G/fv30dwcDCWLl0KV1dXtG3bFnK5HNu2bYOLiwvnIqI6iaPAiOqoOXPmFLpF1aJFC6xatQorV66En58fIiIiKtVX6EkLFy7EwoUL4efnh6NHj2Lnzp1wcHAAAE2rjUqlQu/eveHr64vJkyfD1tZWq79RWUyaNAnBwcGYMmUKfH19ERYWhp07d6JJkyY6O5egoCD8/vvv2LdvHzp06ICOHTvi888/h6enJwDAz88PS5cuxaJFi9CqVSts2bKl0JDzzp0746233sKwYcPg6OiIxYsXAwA+++wzeHh4oFu3bnj55ZfxwQcflKnP0Ouvv46vv/4aGzZsgK+vL7p3746NGzdq5i2ysrLC4sWL0b59e3To0AHXrl3D7t27y319iWoDmXjyRjMRERFRLcewn4iIiOocBkBERERU5zAAIiIiojqHARARERHVOQyAiIiIqM5hAERERER1DgMgIiIiqnMYABEREVGdwwCIiIiI6hwGQERERFTnMAAiIiKiOocBEBEREdU5/w/XJhP4BnL/FAAAAABJRU5ErkJggg==",
      "text/plain": [
       "<Figure size 640x480 with 1 Axes>"
      ]
     },
     "metadata": {},
     "output_type": "display_data"
    }
   ],
   "source": [
    "# Check performance of the linear regression model\n",
    "\n",
    "productTrain, productTest = train_test_split(data_std, test_size=0.2, random_state=20)\n",
    "productModel = LinearRegression()\n",
    "testScores = []\n",
    "trainScores = []\n",
    "\n",
    "for i in range(1, len(productTrain.columns)):\n",
    "    fs = SelectKBest(score_func=mutual_info_regression, k=i)\n",
    "    fs.fit(productTrain.drop(columns=['Product_Condition']), productTrain['Product_Condition'])\n",
    "\n",
    "    x_train_fs = fs.transform(productTrain.drop(columns=['Product_Condition']))\n",
    "    x_test_fs = fs.transform(productTest.drop(columns=['Product_Condition']))\n",
    "\n",
    "    productModel.fit(x_train_fs, productTrain['Product_Condition'])\n",
    "\n",
    "    testScore = productModel.score(x_test_fs, productTest['Product_Condition'])  \n",
    "    trainScore = productModel.score(x_train_fs, productTrain['Product_Condition'])\n",
    "    testScores.append(testScore)\n",
    "    trainScores.append(trainScore)\n",
    "\n",
    "\n",
    "df = pd.DataFrame(data={'testScores': testScores, 'trainScores': trainScores})\n",
    "df['numFeatures'] = df.index + 1  \n",
    "\n",
    "df.plot(x='numFeatures', y=['testScores', 'trainScores'], marker='o')\n",
    "plt.xlabel('Number of Features')\n",
    "plt.ylabel('Score')\n",
    "plt.title('Model Performance')\n",
    "plt.show()"
   ]
  },
  {
   "cell_type": "raw",
   "id": "bee94a05-d3c5-46d5-87c8-4bd900aacfea",
   "metadata": {},
   "source": [
    "Model Performance Across Number of Features\n",
    "This plot tracks the performance (score) of a linear regression model as more features are included:\n",
    "\n",
    "General Trend: The model's performance initially increases with more features but begins to plateau, suggesting that beyond a certain point, adding more features does not significantly enhance model accuracy."
   ]
  },
  {
   "cell_type": "code",
   "execution_count": 36,
   "id": "59bbb235-d875-4cfa-a5d6-2f5bbc6b5070",
   "metadata": {},
   "outputs": [
    {
     "data": {
      "text/html": [
       "<div>\n",
       "<style scoped>\n",
       "    .dataframe tbody tr th:only-of-type {\n",
       "        vertical-align: middle;\n",
       "    }\n",
       "\n",
       "    .dataframe tbody tr th {\n",
       "        vertical-align: top;\n",
       "    }\n",
       "\n",
       "    .dataframe thead th {\n",
       "        text-align: right;\n",
       "    }\n",
       "</style>\n",
       "<table border=\"1\" class=\"dataframe\">\n",
       "  <thead>\n",
       "    <tr style=\"text-align: right;\">\n",
       "      <th></th>\n",
       "      <th>feature</th>\n",
       "      <th>importance</th>\n",
       "    </tr>\n",
       "  </thead>\n",
       "  <tbody>\n",
       "    <tr>\n",
       "      <th>4</th>\n",
       "      <td>Odor_Good</td>\n",
       "      <td>0.338329</td>\n",
       "    </tr>\n",
       "    <tr>\n",
       "      <th>3</th>\n",
       "      <td>Age</td>\n",
       "      <td>0.256353</td>\n",
       "    </tr>\n",
       "    <tr>\n",
       "      <th>15</th>\n",
       "      <td>Surface_Good</td>\n",
       "      <td>0.215573</td>\n",
       "    </tr>\n",
       "    <tr>\n",
       "      <th>2</th>\n",
       "      <td>TPC_Value</td>\n",
       "      <td>0.159233</td>\n",
       "    </tr>\n",
       "    <tr>\n",
       "      <th>10</th>\n",
       "      <td>Color_Good</td>\n",
       "      <td>0.135649</td>\n",
       "    </tr>\n",
       "    <tr>\n",
       "      <th>8</th>\n",
       "      <td>Odor_Sour</td>\n",
       "      <td>0.115989</td>\n",
       "    </tr>\n",
       "    <tr>\n",
       "      <th>16</th>\n",
       "      <td>Surface_Slimy</td>\n",
       "      <td>0.106132</td>\n",
       "    </tr>\n",
       "    <tr>\n",
       "      <th>5</th>\n",
       "      <td>Odor_Off Condition</td>\n",
       "      <td>0.071822</td>\n",
       "    </tr>\n",
       "    <tr>\n",
       "      <th>17</th>\n",
       "      <td>Surface_Tacky</td>\n",
       "      <td>0.060749</td>\n",
       "    </tr>\n",
       "    <tr>\n",
       "      <th>12</th>\n",
       "      <td>Color_Pale</td>\n",
       "      <td>0.057240</td>\n",
       "    </tr>\n",
       "    <tr>\n",
       "      <th>6</th>\n",
       "      <td>Odor_Putrid</td>\n",
       "      <td>0.037043</td>\n",
       "    </tr>\n",
       "    <tr>\n",
       "      <th>7</th>\n",
       "      <td>Odor_Rotten Egg</td>\n",
       "      <td>0.029750</td>\n",
       "    </tr>\n",
       "    <tr>\n",
       "      <th>14</th>\n",
       "      <td>Surface_Dry</td>\n",
       "      <td>0.026312</td>\n",
       "    </tr>\n",
       "    <tr>\n",
       "      <th>13</th>\n",
       "      <td>Color_Red / Brown</td>\n",
       "      <td>0.023604</td>\n",
       "    </tr>\n",
       "    <tr>\n",
       "      <th>9</th>\n",
       "      <td>Color_Brown</td>\n",
       "      <td>0.020648</td>\n",
       "    </tr>\n",
       "    <tr>\n",
       "      <th>1</th>\n",
       "      <td>Packaging_Condition</td>\n",
       "      <td>0.015367</td>\n",
       "    </tr>\n",
       "    <tr>\n",
       "      <th>11</th>\n",
       "      <td>Color_Green</td>\n",
       "      <td>0.002357</td>\n",
       "    </tr>\n",
       "    <tr>\n",
       "      <th>0</th>\n",
       "      <td>Type</td>\n",
       "      <td>0.000000</td>\n",
       "    </tr>\n",
       "  </tbody>\n",
       "</table>\n",
       "</div>"
      ],
      "text/plain": [
       "                feature  importance\n",
       "4             Odor_Good    0.338329\n",
       "3                   Age    0.256353\n",
       "15         Surface_Good    0.215573\n",
       "2             TPC_Value    0.159233\n",
       "10           Color_Good    0.135649\n",
       "8             Odor_Sour    0.115989\n",
       "16        Surface_Slimy    0.106132\n",
       "5    Odor_Off Condition    0.071822\n",
       "17        Surface_Tacky    0.060749\n",
       "12           Color_Pale    0.057240\n",
       "6           Odor_Putrid    0.037043\n",
       "7       Odor_Rotten Egg    0.029750\n",
       "14          Surface_Dry    0.026312\n",
       "13    Color_Red / Brown    0.023604\n",
       "9           Color_Brown    0.020648\n",
       "1   Packaging_Condition    0.015367\n",
       "11          Color_Green    0.002357\n",
       "0                  Type    0.000000"
      ]
     },
     "execution_count": 36,
     "metadata": {},
     "output_type": "execute_result"
    }
   ],
   "source": [
    "# to improve performance and resize features, we will like to display the importance of features]\n",
    "df1 = pd.DataFrame(productTrain.drop(columns=['Product_Condition']).columns, columns=['feature'])\n",
    "df2=pd.DataFrame(fs.scores_, columns=['importance'])\n",
    "importance = df1.join(df2)\n",
    "importance.sort_values('importance',ascending=False)\n",
    "\n",
    "# Based on this results, the location or plant and type are irrelevant so will drop location and type columns"
   ]
  },
  {
   "cell_type": "raw",
   "id": "21368887-3e32-4241-a70b-015560fbbf8c",
   "metadata": {},
   "source": [
    "Feature Importance Chart\n",
    "This visualization ranks the features by their importance in predicting Product Condition:\n",
    "\n",
    "Most Important Features: Features like Odor_Good and Age top the list, corroborating the insights from the correlation heatmap.\n",
    "Least Important Features: Other features, particularly some odor and surface conditions, contribute less to the model, indicating potential candidates for dimensionality reduction."
   ]
  },
  {
   "cell_type": "code",
   "execution_count": 37,
   "id": "bf73226e-1d5d-4794-9442-4b3620001ce2",
   "metadata": {},
   "outputs": [],
   "source": [
    "# drop irrelevant columns \n",
    "data_std.drop(columns=['Packaging_Condition','Type'], inplace=True)\n"
   ]
  },
  {
   "cell_type": "code",
   "execution_count": 38,
   "id": "074619a4-6383-44e7-a77e-530e7868f196",
   "metadata": {},
   "outputs": [
    {
     "data": {
      "text/html": [
       "<div>\n",
       "<style scoped>\n",
       "    .dataframe tbody tr th:only-of-type {\n",
       "        vertical-align: middle;\n",
       "    }\n",
       "\n",
       "    .dataframe tbody tr th {\n",
       "        vertical-align: top;\n",
       "    }\n",
       "\n",
       "    .dataframe thead th {\n",
       "        text-align: right;\n",
       "    }\n",
       "</style>\n",
       "<table border=\"1\" class=\"dataframe\">\n",
       "  <thead>\n",
       "    <tr style=\"text-align: right;\">\n",
       "      <th></th>\n",
       "      <th>Product_Condition</th>\n",
       "      <th>TPC_Value</th>\n",
       "      <th>Age</th>\n",
       "      <th>Odor_Good</th>\n",
       "      <th>Odor_Off Condition</th>\n",
       "      <th>Odor_Putrid</th>\n",
       "      <th>Odor_Rotten Egg</th>\n",
       "      <th>Odor_Sour</th>\n",
       "      <th>Color_Brown</th>\n",
       "      <th>Color_Good</th>\n",
       "      <th>Color_Green</th>\n",
       "      <th>Color_Pale</th>\n",
       "      <th>Color_Red / Brown</th>\n",
       "      <th>Surface_Dry</th>\n",
       "      <th>Surface_Good</th>\n",
       "      <th>Surface_Slimy</th>\n",
       "      <th>Surface_Tacky</th>\n",
       "    </tr>\n",
       "  </thead>\n",
       "  <tbody>\n",
       "    <tr>\n",
       "      <th>0</th>\n",
       "      <td>1</td>\n",
       "      <td>-0.493434</td>\n",
       "      <td>0.746203</td>\n",
       "      <td>False</td>\n",
       "      <td>False</td>\n",
       "      <td>False</td>\n",
       "      <td>False</td>\n",
       "      <td>True</td>\n",
       "      <td>False</td>\n",
       "      <td>False</td>\n",
       "      <td>False</td>\n",
       "      <td>True</td>\n",
       "      <td>False</td>\n",
       "      <td>False</td>\n",
       "      <td>False</td>\n",
       "      <td>True</td>\n",
       "      <td>False</td>\n",
       "    </tr>\n",
       "    <tr>\n",
       "      <th>1</th>\n",
       "      <td>1</td>\n",
       "      <td>1.119780</td>\n",
       "      <td>0.746203</td>\n",
       "      <td>False</td>\n",
       "      <td>False</td>\n",
       "      <td>False</td>\n",
       "      <td>False</td>\n",
       "      <td>True</td>\n",
       "      <td>False</td>\n",
       "      <td>False</td>\n",
       "      <td>False</td>\n",
       "      <td>True</td>\n",
       "      <td>False</td>\n",
       "      <td>False</td>\n",
       "      <td>False</td>\n",
       "      <td>True</td>\n",
       "      <td>False</td>\n",
       "    </tr>\n",
       "    <tr>\n",
       "      <th>2</th>\n",
       "      <td>1</td>\n",
       "      <td>1.413092</td>\n",
       "      <td>0.746203</td>\n",
       "      <td>False</td>\n",
       "      <td>False</td>\n",
       "      <td>False</td>\n",
       "      <td>False</td>\n",
       "      <td>True</td>\n",
       "      <td>False</td>\n",
       "      <td>False</td>\n",
       "      <td>False</td>\n",
       "      <td>True</td>\n",
       "      <td>False</td>\n",
       "      <td>False</td>\n",
       "      <td>False</td>\n",
       "      <td>True</td>\n",
       "      <td>False</td>\n",
       "    </tr>\n",
       "    <tr>\n",
       "      <th>3</th>\n",
       "      <td>1</td>\n",
       "      <td>1.069367</td>\n",
       "      <td>0.746203</td>\n",
       "      <td>False</td>\n",
       "      <td>False</td>\n",
       "      <td>False</td>\n",
       "      <td>False</td>\n",
       "      <td>True</td>\n",
       "      <td>False</td>\n",
       "      <td>False</td>\n",
       "      <td>False</td>\n",
       "      <td>True</td>\n",
       "      <td>False</td>\n",
       "      <td>False</td>\n",
       "      <td>False</td>\n",
       "      <td>True</td>\n",
       "      <td>False</td>\n",
       "    </tr>\n",
       "    <tr>\n",
       "      <th>4</th>\n",
       "      <td>1</td>\n",
       "      <td>-0.388025</td>\n",
       "      <td>0.706223</td>\n",
       "      <td>False</td>\n",
       "      <td>True</td>\n",
       "      <td>False</td>\n",
       "      <td>False</td>\n",
       "      <td>False</td>\n",
       "      <td>False</td>\n",
       "      <td>True</td>\n",
       "      <td>False</td>\n",
       "      <td>False</td>\n",
       "      <td>False</td>\n",
       "      <td>False</td>\n",
       "      <td>False</td>\n",
       "      <td>True</td>\n",
       "      <td>False</td>\n",
       "    </tr>\n",
       "  </tbody>\n",
       "</table>\n",
       "</div>"
      ],
      "text/plain": [
       "   Product_Condition  TPC_Value       Age  Odor_Good  Odor_Off Condition  \\\n",
       "0                  1  -0.493434  0.746203      False               False   \n",
       "1                  1   1.119780  0.746203      False               False   \n",
       "2                  1   1.413092  0.746203      False               False   \n",
       "3                  1   1.069367  0.746203      False               False   \n",
       "4                  1  -0.388025  0.706223      False                True   \n",
       "\n",
       "   Odor_Putrid  Odor_Rotten Egg  Odor_Sour  Color_Brown  Color_Good  \\\n",
       "0        False            False       True        False       False   \n",
       "1        False            False       True        False       False   \n",
       "2        False            False       True        False       False   \n",
       "3        False            False       True        False       False   \n",
       "4        False            False      False        False        True   \n",
       "\n",
       "   Color_Green  Color_Pale  Color_Red / Brown  Surface_Dry  Surface_Good  \\\n",
       "0        False        True              False        False         False   \n",
       "1        False        True              False        False         False   \n",
       "2        False        True              False        False         False   \n",
       "3        False        True              False        False         False   \n",
       "4        False       False              False        False         False   \n",
       "\n",
       "   Surface_Slimy  Surface_Tacky  \n",
       "0           True          False  \n",
       "1           True          False  \n",
       "2           True          False  \n",
       "3           True          False  \n",
       "4           True          False  "
      ]
     },
     "execution_count": 38,
     "metadata": {},
     "output_type": "execute_result"
    }
   ],
   "source": [
    "data_std.head()"
   ]
  },
  {
   "cell_type": "markdown",
   "id": "7f635228-6c5c-419c-8bcf-60155bff20fd",
   "metadata": {},
   "source": [
    "## List of models to test to compare"
   ]
  },
  {
   "cell_type": "code",
   "execution_count": 39,
   "id": "b8e610be-a35b-405e-9754-510f3dd47121",
   "metadata": {},
   "outputs": [],
   "source": [
    "models = [LogisticRegression(max_iter=1000), SVC(kernel='linear'),KNeighborsClassifier(),RandomForestClassifier(random_state=0) ]"
   ]
  },
  {
   "cell_type": "code",
   "execution_count": 40,
   "id": "f660528a-0145-4d56-bdd2-2b1a6b0d7d42",
   "metadata": {},
   "outputs": [
    {
     "data": {
      "text/html": [
       "<div>\n",
       "<style scoped>\n",
       "    .dataframe tbody tr th:only-of-type {\n",
       "        vertical-align: middle;\n",
       "    }\n",
       "\n",
       "    .dataframe tbody tr th {\n",
       "        vertical-align: top;\n",
       "    }\n",
       "\n",
       "    .dataframe thead th {\n",
       "        text-align: right;\n",
       "    }\n",
       "</style>\n",
       "<table border=\"1\" class=\"dataframe\">\n",
       "  <thead>\n",
       "    <tr style=\"text-align: right;\">\n",
       "      <th></th>\n",
       "      <th>TPC_Value</th>\n",
       "      <th>Age</th>\n",
       "      <th>Odor_Good</th>\n",
       "      <th>Odor_Off Condition</th>\n",
       "      <th>Odor_Putrid</th>\n",
       "      <th>Odor_Rotten Egg</th>\n",
       "      <th>Odor_Sour</th>\n",
       "      <th>Color_Brown</th>\n",
       "      <th>Color_Good</th>\n",
       "      <th>Color_Green</th>\n",
       "      <th>Color_Pale</th>\n",
       "      <th>Color_Red / Brown</th>\n",
       "      <th>Surface_Dry</th>\n",
       "      <th>Surface_Good</th>\n",
       "      <th>Surface_Slimy</th>\n",
       "      <th>Surface_Tacky</th>\n",
       "    </tr>\n",
       "  </thead>\n",
       "  <tbody>\n",
       "    <tr>\n",
       "      <th>0</th>\n",
       "      <td>-0.493434</td>\n",
       "      <td>0.746203</td>\n",
       "      <td>False</td>\n",
       "      <td>False</td>\n",
       "      <td>False</td>\n",
       "      <td>False</td>\n",
       "      <td>True</td>\n",
       "      <td>False</td>\n",
       "      <td>False</td>\n",
       "      <td>False</td>\n",
       "      <td>True</td>\n",
       "      <td>False</td>\n",
       "      <td>False</td>\n",
       "      <td>False</td>\n",
       "      <td>True</td>\n",
       "      <td>False</td>\n",
       "    </tr>\n",
       "    <tr>\n",
       "      <th>1</th>\n",
       "      <td>1.119780</td>\n",
       "      <td>0.746203</td>\n",
       "      <td>False</td>\n",
       "      <td>False</td>\n",
       "      <td>False</td>\n",
       "      <td>False</td>\n",
       "      <td>True</td>\n",
       "      <td>False</td>\n",
       "      <td>False</td>\n",
       "      <td>False</td>\n",
       "      <td>True</td>\n",
       "      <td>False</td>\n",
       "      <td>False</td>\n",
       "      <td>False</td>\n",
       "      <td>True</td>\n",
       "      <td>False</td>\n",
       "    </tr>\n",
       "    <tr>\n",
       "      <th>2</th>\n",
       "      <td>1.413092</td>\n",
       "      <td>0.746203</td>\n",
       "      <td>False</td>\n",
       "      <td>False</td>\n",
       "      <td>False</td>\n",
       "      <td>False</td>\n",
       "      <td>True</td>\n",
       "      <td>False</td>\n",
       "      <td>False</td>\n",
       "      <td>False</td>\n",
       "      <td>True</td>\n",
       "      <td>False</td>\n",
       "      <td>False</td>\n",
       "      <td>False</td>\n",
       "      <td>True</td>\n",
       "      <td>False</td>\n",
       "    </tr>\n",
       "    <tr>\n",
       "      <th>3</th>\n",
       "      <td>1.069367</td>\n",
       "      <td>0.746203</td>\n",
       "      <td>False</td>\n",
       "      <td>False</td>\n",
       "      <td>False</td>\n",
       "      <td>False</td>\n",
       "      <td>True</td>\n",
       "      <td>False</td>\n",
       "      <td>False</td>\n",
       "      <td>False</td>\n",
       "      <td>True</td>\n",
       "      <td>False</td>\n",
       "      <td>False</td>\n",
       "      <td>False</td>\n",
       "      <td>True</td>\n",
       "      <td>False</td>\n",
       "    </tr>\n",
       "    <tr>\n",
       "      <th>4</th>\n",
       "      <td>-0.388025</td>\n",
       "      <td>0.706223</td>\n",
       "      <td>False</td>\n",
       "      <td>True</td>\n",
       "      <td>False</td>\n",
       "      <td>False</td>\n",
       "      <td>False</td>\n",
       "      <td>False</td>\n",
       "      <td>True</td>\n",
       "      <td>False</td>\n",
       "      <td>False</td>\n",
       "      <td>False</td>\n",
       "      <td>False</td>\n",
       "      <td>False</td>\n",
       "      <td>True</td>\n",
       "      <td>False</td>\n",
       "    </tr>\n",
       "  </tbody>\n",
       "</table>\n",
       "</div>"
      ],
      "text/plain": [
       "   TPC_Value       Age  Odor_Good  Odor_Off Condition  Odor_Putrid  \\\n",
       "0  -0.493434  0.746203      False               False        False   \n",
       "1   1.119780  0.746203      False               False        False   \n",
       "2   1.413092  0.746203      False               False        False   \n",
       "3   1.069367  0.746203      False               False        False   \n",
       "4  -0.388025  0.706223      False                True        False   \n",
       "\n",
       "   Odor_Rotten Egg  Odor_Sour  Color_Brown  Color_Good  Color_Green  \\\n",
       "0            False       True        False       False        False   \n",
       "1            False       True        False       False        False   \n",
       "2            False       True        False       False        False   \n",
       "3            False       True        False       False        False   \n",
       "4            False      False        False        True        False   \n",
       "\n",
       "   Color_Pale  Color_Red / Brown  Surface_Dry  Surface_Good  Surface_Slimy  \\\n",
       "0        True              False        False         False           True   \n",
       "1        True              False        False         False           True   \n",
       "2        True              False        False         False           True   \n",
       "3        True              False        False         False           True   \n",
       "4       False              False        False         False           True   \n",
       "\n",
       "   Surface_Tacky  \n",
       "0          False  \n",
       "1          False  \n",
       "2          False  \n",
       "3          False  \n",
       "4          False  "
      ]
     },
     "execution_count": 40,
     "metadata": {},
     "output_type": "execute_result"
    }
   ],
   "source": [
    "# select features and target\n",
    "x= data_std.drop(columns=['Product_Condition']) # features\n",
    "y= data_std['Product_Condition'] # target\n",
    "x.head()"
   ]
  },
  {
   "cell_type": "code",
   "execution_count": 41,
   "id": "80bc6620-7ff4-45b0-aea6-6385cf2c248f",
   "metadata": {},
   "outputs": [
    {
     "name": "stdout",
     "output_type": "stream",
     "text": [
      "Variance explained by each component: [6.38795111e-01 1.03631172e-01 8.76683585e-02 4.66064671e-02\n",
      " 2.65675654e-02 2.26828236e-02 2.11844188e-02 1.76974826e-02\n",
      " 1.30283224e-02 1.06646489e-02 6.27363409e-03 5.08520693e-03\n",
      " 1.14788747e-04 1.25052813e-30 4.08057258e-31 1.53806480e-31]\n",
      "Cumulative variance explained: [0.63879511 0.74242628 0.83009464 0.87670111 0.90326867 0.9259515\n",
      " 0.94713592 0.9648334  0.97786172 0.98852637 0.9948     0.99988521\n",
      " 1.         1.         1.         1.        ]\n"
     ]
    }
   ],
   "source": [
    "# PCA for dimensionality reduction \n",
    "\n",
    "import numpy as np\n",
    "from sklearn.decomposition import PCA\n",
    "from sklearn.preprocessing import StandardScaler\n",
    "\n",
    "# Perform PCA\n",
    "pca = PCA()\n",
    "pca.fit(x)\n",
    "\n",
    "# Get variance ratios\n",
    "variance_ratios = pca.explained_variance_ratio_\n",
    "cumulative_variance = np.cumsum(variance_ratios)\n",
    "\n",
    "# Print results\n",
    "print(\"Variance explained by each component:\", variance_ratios)\n",
    "print(\"Cumulative variance explained:\", cumulative_variance)"
   ]
  },
  {
   "cell_type": "code",
   "execution_count": 42,
   "id": "c82944f8-b629-4919-b8cf-6cc69fde1fcb",
   "metadata": {},
   "outputs": [
    {
     "data": {
      "image/png": "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",
      "text/plain": [
       "<Figure size 1000x500 with 1 Axes>"
      ]
     },
     "metadata": {},
     "output_type": "display_data"
    }
   ],
   "source": [
    "\n",
    "# Plot the variance explained by each component\n",
    "plt.figure(figsize=(10, 5))\n",
    "\n",
    "# Bar plot for individual variance ratios\n",
    "plt.bar(range(1, len(variance_ratios) + 1), variance_ratios, alpha=0.6, label='Individual Explained Variance')\n",
    "\n",
    "# Line plot for cumulative variance\n",
    "plt.step(range(1, len(cumulative_variance) + 1), cumulative_variance, where='mid', label='Cumulative Explained Variance')\n",
    "\n",
    "# Add labels and title\n",
    "plt.xlabel('Principal Components')\n",
    "plt.ylabel('Variance Explained')\n",
    "plt.title('PCA Explained Variance')\n",
    "plt.legend()\n",
    "\n",
    "# Show plot\n",
    "plt.show()"
   ]
  },
  {
   "cell_type": "raw",
   "id": "6d4e172a-1f78-41a1-9214-29e58486d6c1",
   "metadata": {},
   "source": [
    "The cumulative variance explained by the principal components shows how much of the total dataset variance is captured as we include more components:\n",
    "With just the first component, 63.88% of the dataset variance is explained.\n",
    "Adding the second component increases this to 74.24%.\n",
    "Including up to the third component reaches 83.01%, and so forth.\n",
    "\n",
    "Interpretation of Cumulative Proportions:\n",
    "By the time we include the first 12 components, virtually all (99.99%) of the dataset's variance is accounted for. This comprehensive coverage suggests that we can achieve nearly full information retention with just 12 out of the 16 components, though practically, focusing on the first few may be sufficient for most analytical purposes due to diminishing returns in explained variance with each additional component."
   ]
  },
  {
   "cell_type": "code",
   "execution_count": 43,
   "id": "36c20f26-de97-42b9-9379-3d050e450494",
   "metadata": {},
   "outputs": [
    {
     "data": {
      "text/html": [
       "<div>\n",
       "<style scoped>\n",
       "    .dataframe tbody tr th:only-of-type {\n",
       "        vertical-align: middle;\n",
       "    }\n",
       "\n",
       "    .dataframe tbody tr th {\n",
       "        vertical-align: top;\n",
       "    }\n",
       "\n",
       "    .dataframe thead th {\n",
       "        text-align: right;\n",
       "    }\n",
       "</style>\n",
       "<table border=\"1\" class=\"dataframe\">\n",
       "  <thead>\n",
       "    <tr style=\"text-align: right;\">\n",
       "      <th></th>\n",
       "      <th>TPC_Value</th>\n",
       "      <th>Age</th>\n",
       "      <th>Odor_Good</th>\n",
       "      <th>Odor_Off Condition</th>\n",
       "      <th>Odor_Putrid</th>\n",
       "      <th>Odor_Rotten Egg</th>\n",
       "      <th>Odor_Sour</th>\n",
       "      <th>Color_Brown</th>\n",
       "      <th>Color_Good</th>\n",
       "      <th>Color_Green</th>\n",
       "      <th>Color_Pale</th>\n",
       "      <th>Color_Red / Brown</th>\n",
       "    </tr>\n",
       "  </thead>\n",
       "  <tbody>\n",
       "    <tr>\n",
       "      <th>0</th>\n",
       "      <td>-0.493434</td>\n",
       "      <td>0.746203</td>\n",
       "      <td>False</td>\n",
       "      <td>False</td>\n",
       "      <td>False</td>\n",
       "      <td>False</td>\n",
       "      <td>True</td>\n",
       "      <td>False</td>\n",
       "      <td>False</td>\n",
       "      <td>False</td>\n",
       "      <td>True</td>\n",
       "      <td>False</td>\n",
       "    </tr>\n",
       "    <tr>\n",
       "      <th>1</th>\n",
       "      <td>1.119780</td>\n",
       "      <td>0.746203</td>\n",
       "      <td>False</td>\n",
       "      <td>False</td>\n",
       "      <td>False</td>\n",
       "      <td>False</td>\n",
       "      <td>True</td>\n",
       "      <td>False</td>\n",
       "      <td>False</td>\n",
       "      <td>False</td>\n",
       "      <td>True</td>\n",
       "      <td>False</td>\n",
       "    </tr>\n",
       "    <tr>\n",
       "      <th>2</th>\n",
       "      <td>1.413092</td>\n",
       "      <td>0.746203</td>\n",
       "      <td>False</td>\n",
       "      <td>False</td>\n",
       "      <td>False</td>\n",
       "      <td>False</td>\n",
       "      <td>True</td>\n",
       "      <td>False</td>\n",
       "      <td>False</td>\n",
       "      <td>False</td>\n",
       "      <td>True</td>\n",
       "      <td>False</td>\n",
       "    </tr>\n",
       "    <tr>\n",
       "      <th>3</th>\n",
       "      <td>1.069367</td>\n",
       "      <td>0.746203</td>\n",
       "      <td>False</td>\n",
       "      <td>False</td>\n",
       "      <td>False</td>\n",
       "      <td>False</td>\n",
       "      <td>True</td>\n",
       "      <td>False</td>\n",
       "      <td>False</td>\n",
       "      <td>False</td>\n",
       "      <td>True</td>\n",
       "      <td>False</td>\n",
       "    </tr>\n",
       "    <tr>\n",
       "      <th>4</th>\n",
       "      <td>-0.388025</td>\n",
       "      <td>0.706223</td>\n",
       "      <td>False</td>\n",
       "      <td>True</td>\n",
       "      <td>False</td>\n",
       "      <td>False</td>\n",
       "      <td>False</td>\n",
       "      <td>False</td>\n",
       "      <td>True</td>\n",
       "      <td>False</td>\n",
       "      <td>False</td>\n",
       "      <td>False</td>\n",
       "    </tr>\n",
       "  </tbody>\n",
       "</table>\n",
       "</div>"
      ],
      "text/plain": [
       "   TPC_Value       Age  Odor_Good  Odor_Off Condition  Odor_Putrid  \\\n",
       "0  -0.493434  0.746203      False               False        False   \n",
       "1   1.119780  0.746203      False               False        False   \n",
       "2   1.413092  0.746203      False               False        False   \n",
       "3   1.069367  0.746203      False               False        False   \n",
       "4  -0.388025  0.706223      False                True        False   \n",
       "\n",
       "   Odor_Rotten Egg  Odor_Sour  Color_Brown  Color_Good  Color_Green  \\\n",
       "0            False       True        False       False        False   \n",
       "1            False       True        False       False        False   \n",
       "2            False       True        False       False        False   \n",
       "3            False       True        False       False        False   \n",
       "4            False      False        False        True        False   \n",
       "\n",
       "   Color_Pale  Color_Red / Brown  \n",
       "0        True              False  \n",
       "1        True              False  \n",
       "2        True              False  \n",
       "3        True              False  \n",
       "4       False              False  "
      ]
     },
     "execution_count": 43,
     "metadata": {},
     "output_type": "execute_result"
    }
   ],
   "source": [
    "# We can therefore reduce features from 16 columns to 12 columns or even further down if desired\n",
    "x= x.iloc[:,0:12]\n",
    "x.head()"
   ]
  },
  {
   "cell_type": "code",
   "execution_count": 44,
   "id": "1cf76366-91d9-48d2-8851-8fce25d0501c",
   "metadata": {},
   "outputs": [
    {
     "name": "stdout",
     "output_type": "stream",
     "text": [
      "Cross val accuracies for LogisticRegression(max_iter=1000) = [0.95730487 0.94529686 0.90927285 0.9646431  0.95263509]\n",
      "Accurracy score of the LogisticRegression(max_iter=1000) = 94.58 %\n",
      "Cross val accuracies for SVC(kernel='linear') = [0.94863242 0.95597065 0.9179453  0.92661775 0.95396931]\n",
      "Accurracy score of the SVC(kernel='linear') = 94.06 %\n",
      "Cross val accuracies for KNeighborsClassifier() = [0.94863242 0.94796531 0.92795197 0.96130754 0.93195464]\n",
      "Accurracy score of the KNeighborsClassifier() = 94.36 %\n",
      "Cross val accuracies for RandomForestClassifier(random_state=0) = [0.94262842 0.94529686 0.91861241 0.94663109 0.94529686]\n",
      "Accurracy score of the RandomForestClassifier(random_state=0) = 93.97 %\n"
     ]
    },
    {
     "data": {
      "text/html": [
       "<div>\n",
       "<style scoped>\n",
       "    .dataframe tbody tr th:only-of-type {\n",
       "        vertical-align: middle;\n",
       "    }\n",
       "\n",
       "    .dataframe tbody tr th {\n",
       "        vertical-align: top;\n",
       "    }\n",
       "\n",
       "    .dataframe thead th {\n",
       "        text-align: right;\n",
       "    }\n",
       "</style>\n",
       "<table border=\"1\" class=\"dataframe\">\n",
       "  <thead>\n",
       "    <tr style=\"text-align: right;\">\n",
       "      <th></th>\n",
       "      <th>Model</th>\n",
       "      <th>Accuracy</th>\n",
       "    </tr>\n",
       "  </thead>\n",
       "  <tbody>\n",
       "    <tr>\n",
       "      <th>0</th>\n",
       "      <td>LogisticRegression(max_iter=1000)</td>\n",
       "      <td>94.58</td>\n",
       "    </tr>\n",
       "    <tr>\n",
       "      <th>1</th>\n",
       "      <td>SVC(kernel='linear')</td>\n",
       "      <td>94.06</td>\n",
       "    </tr>\n",
       "    <tr>\n",
       "      <th>2</th>\n",
       "      <td>KNeighborsClassifier()</td>\n",
       "      <td>94.36</td>\n",
       "    </tr>\n",
       "    <tr>\n",
       "      <th>3</th>\n",
       "      <td>RandomForestClassifier(random_state=0)</td>\n",
       "      <td>93.97</td>\n",
       "    </tr>\n",
       "  </tbody>\n",
       "</table>\n",
       "</div>"
      ],
      "text/plain": [
       "                                    Model  Accuracy\n",
       "0       LogisticRegression(max_iter=1000)     94.58\n",
       "1                    SVC(kernel='linear')     94.06\n",
       "2                  KNeighborsClassifier()     94.36\n",
       "3  RandomForestClassifier(random_state=0)     93.97"
      ]
     },
     "execution_count": 44,
     "metadata": {},
     "output_type": "execute_result"
    }
   ],
   "source": [
    "# function to compare models \n",
    "def compare_models_cross_val():\n",
    "    result =[]\n",
    "    for model in models:\n",
    "        cv_score = cross_val_score(model,x,y, cv=5)\n",
    "        mean_accuracy =sum(cv_score)/len(cv_score)\n",
    "        mean_accuracy = round((mean_accuracy*100),2) # acuracy in percent rounded to 2 decimal places \n",
    "        print(f'Cross val accuracies for {model} = {cv_score}')\n",
    "        print(f'Accurracy score of the {model} = {mean_accuracy} %')\n",
    "              \n",
    "        result.append({\"Model\": model, \"Accuracy\": mean_accuracy})\n",
    "    \n",
    "    # Convert results into a DataFrame\n",
    "    result_df = pd.DataFrame(result)\n",
    "    return result_df\n",
    "\n",
    "# Call the function and print the results DataFrame # for standard scaling \n",
    "result_df = compare_models_cross_val()\n",
    "result_df"
   ]
  },
  {
   "cell_type": "markdown",
   "id": "b50cc438-9da5-47a8-8bb6-9325567de6f0",
   "metadata": {},
   "source": [
    "### Based on these results for the data, Logistic regression has the highest accuracy value with the default hyperparameter values\n",
    "\n",
    "#### We will now utilize GridSearchCV to compare the models with different Hyperparameter values"
   ]
  },
  {
   "cell_type": "code",
   "execution_count": 45,
   "id": "8ad9d5e6-e244-4bac-beec-f70785269d01",
   "metadata": {},
   "outputs": [
    {
     "data": {
      "text/plain": [
       "['log_reg_hyper_params',\n",
       " 'svc_hyper_params',\n",
       " 'knn_hyper_params',\n",
       " 'random_forest_hyper_params']"
      ]
     },
     "execution_count": 45,
     "metadata": {},
     "output_type": "execute_result"
    }
   ],
   "source": [
    "Models = [LogisticRegression(max_iter=10000), SVC(),KNeighborsClassifier(),RandomForestClassifier(random_state=0) ]\n",
    "\n",
    "# I will create a dictionery that contains hyperparamter values for the above models \n",
    "hyper_params = {\n",
    "    'log_reg_hyper_params': {\n",
    "         'C': [1, 5, 10, 20]  # Corrected 'c' to 'C' to match scikit-learn's convention\n",
    "    },\n",
    "    'svc_hyper_params': {\n",
    "        'kernel': ['linear', 'poly', 'rbf', 'sigmoid'],  # Added a missing comma at the end of this line\n",
    "        'C': [1, 5, 10, 20]  # Corrected 'c' to 'C' to match scikit-learn's convention\n",
    "    },\n",
    "    'knn_hyper_params': {\n",
    "        'n_neighbors': [2, 3, 5, 10]\n",
    "    },\n",
    "    'random_forest_hyper_params': {\n",
    "        'n_estimators': [10, 20, 50, 100]\n",
    "    }\n",
    "}\n",
    "# create a list of keys for hyperparameters\n",
    "model_keys = list(hyper_params.keys())\n",
    "model_keys\n"
   ]
  },
  {
   "cell_type": "code",
   "execution_count": 46,
   "id": "5f39e639-d771-4a0d-a46d-d3806a595106",
   "metadata": {},
   "outputs": [],
   "source": [
    "#### Now we will apply GridSearchCV \n",
    "def selectModel(model_list, hyperparam_dict):\n",
    "    results =[]\n",
    "    i = 0\n",
    "    for model in model_list:\n",
    "        key = model_keys[i]\n",
    "        params = hyperparam_dict[key]\n",
    "        i += 1\n",
    "        print(model)\n",
    "        print(params)\n",
    "        print('-------------'*5)\n",
    "        classifier = GridSearchCV(model, params, cv=5)\n",
    "        # Fit the data to the classifier\n",
    "        classifier.fit(x, y)\n",
    "        results.append({\n",
    "            'Model used': model.__class__.__name__, # Use model's class name for a cleaner output\n",
    "            'Highest Score': classifier.best_score_,\n",
    "            'Best hyperparameters': classifier.best_params_\n",
    "        })\n",
    "\n",
    "    results_df = pd.DataFrame(results, columns=['Model used', 'Highest Score', 'Best hyperparameters'])\n",
    "    return results_df"
   ]
  },
  {
   "cell_type": "code",
   "execution_count": 47,
   "id": "287fdba8-4795-4f73-bc85-b9c744f5ea23",
   "metadata": {},
   "outputs": [],
   "source": [
    "# We can now apply hyper tunning "
   ]
  },
  {
   "cell_type": "code",
   "execution_count": 48,
   "id": "d479d1b4-73b3-4919-9d18-a7d1d470e862",
   "metadata": {},
   "outputs": [
    {
     "name": "stdout",
     "output_type": "stream",
     "text": [
      "LogisticRegression(max_iter=10000)\n",
      "{'C': [1, 5, 10, 20]}\n",
      "-----------------------------------------------------------------\n",
      "SVC()\n",
      "{'kernel': ['linear', 'poly', 'rbf', 'sigmoid'], 'C': [1, 5, 10, 20]}\n",
      "-----------------------------------------------------------------\n",
      "KNeighborsClassifier()\n",
      "{'n_neighbors': [2, 3, 5, 10]}\n",
      "-----------------------------------------------------------------\n",
      "RandomForestClassifier(random_state=0)\n",
      "{'n_estimators': [10, 20, 50, 100]}\n",
      "-----------------------------------------------------------------\n"
     ]
    },
    {
     "data": {
      "text/html": [
       "<div>\n",
       "<style scoped>\n",
       "    .dataframe tbody tr th:only-of-type {\n",
       "        vertical-align: middle;\n",
       "    }\n",
       "\n",
       "    .dataframe tbody tr th {\n",
       "        vertical-align: top;\n",
       "    }\n",
       "\n",
       "    .dataframe thead th {\n",
       "        text-align: right;\n",
       "    }\n",
       "</style>\n",
       "<table border=\"1\" class=\"dataframe\">\n",
       "  <thead>\n",
       "    <tr style=\"text-align: right;\">\n",
       "      <th></th>\n",
       "      <th>Model used</th>\n",
       "      <th>Highest Score</th>\n",
       "      <th>Best hyperparameters</th>\n",
       "    </tr>\n",
       "  </thead>\n",
       "  <tbody>\n",
       "    <tr>\n",
       "      <th>0</th>\n",
       "      <td>LogisticRegression</td>\n",
       "      <td>0.946231</td>\n",
       "      <td>{'C': 5}</td>\n",
       "    </tr>\n",
       "    <tr>\n",
       "      <th>1</th>\n",
       "      <td>SVC</td>\n",
       "      <td>0.955170</td>\n",
       "      <td>{'C': 20, 'kernel': 'rbf'}</td>\n",
       "    </tr>\n",
       "    <tr>\n",
       "      <th>2</th>\n",
       "      <td>KNeighborsClassifier</td>\n",
       "      <td>0.944763</td>\n",
       "      <td>{'n_neighbors': 10}</td>\n",
       "    </tr>\n",
       "    <tr>\n",
       "      <th>3</th>\n",
       "      <td>RandomForestClassifier</td>\n",
       "      <td>0.941561</td>\n",
       "      <td>{'n_estimators': 20}</td>\n",
       "    </tr>\n",
       "  </tbody>\n",
       "</table>\n",
       "</div>"
      ],
      "text/plain": [
       "               Model used  Highest Score        Best hyperparameters\n",
       "0      LogisticRegression       0.946231                    {'C': 5}\n",
       "1                     SVC       0.955170  {'C': 20, 'kernel': 'rbf'}\n",
       "2    KNeighborsClassifier       0.944763         {'n_neighbors': 10}\n",
       "3  RandomForestClassifier       0.941561        {'n_estimators': 20}"
      ]
     },
     "execution_count": 48,
     "metadata": {},
     "output_type": "execute_result"
    }
   ],
   "source": [
    "selectModel(Models, hyper_params)"
   ]
  },
  {
   "cell_type": "markdown",
   "id": "f29b23b9-a309-4ae8-8efd-370a4900b0f7",
   "metadata": {},
   "source": [
    "##### After hyper tunning , SVC becomes the model with the highest accuracy score. We will therefore use svc to train the data to perform the prediction "
   ]
  },
  {
   "cell_type": "code",
   "execution_count": 49,
   "id": "4b360e0d-8843-45f1-ade7-110f2c7bd10b",
   "metadata": {},
   "outputs": [],
   "source": [
    "x_train, x_test, y_train, y_test = train_test_split(x,y, test_size=0.2, random_state=42)"
   ]
  },
  {
   "cell_type": "code",
   "execution_count": 50,
   "id": "15363a77-f3de-4332-988d-4d956e6c73f7",
   "metadata": {},
   "outputs": [
    {
     "name": "stdout",
     "output_type": "stream",
     "text": [
      "x Train: 5996, x test: 1499, y train:5996, y test: 1499\n"
     ]
    }
   ],
   "source": [
    "# View sample sizes\n",
    "print(f'x Train: {x_train.shape[0]}, x test: {x_test.shape[0]}, y train:{y_train.shape[0]}, y test: {y_test.shape[0]}')"
   ]
  },
  {
   "cell_type": "code",
   "execution_count": 51,
   "id": "17aca435-b808-4ad5-ba45-6539c6db7ec7",
   "metadata": {},
   "outputs": [],
   "source": [
    "modelProduct = SVC(random_state=0)\n",
    "\n",
    "#parameter dictionary for model tunning\n",
    "param_grid ={'n_estimators': [10, 20, 50, 100]}"
   ]
  },
  {
   "cell_type": "code",
   "execution_count": 52,
   "id": "9d556bbc-5318-4670-87e9-a2c84bd05875",
   "metadata": {},
   "outputs": [],
   "source": [
    "model_svc = modelProduct.fit(x_train,y_train)"
   ]
  },
  {
   "cell_type": "code",
   "execution_count": 53,
   "id": "517c4981-d639-4742-808c-74eea2041675",
   "metadata": {},
   "outputs": [],
   "source": [
    "# predict y test values using x test input"
   ]
  },
  {
   "cell_type": "code",
   "execution_count": 54,
   "id": "c32b6e2a-ed82-4101-a05c-7bcaee8f04d0",
   "metadata": {},
   "outputs": [],
   "source": [
    "y_pred = model_svc.predict(x_test)"
   ]
  },
  {
   "cell_type": "code",
   "execution_count": 55,
   "id": "9da0a8f9-f3ea-4991-9527-3460ad333956",
   "metadata": {},
   "outputs": [
    {
     "name": "stdout",
     "output_type": "stream",
     "text": [
      "              precision    recall  f1-score   support\n",
      "\n",
      "           0       0.95      0.98      0.97      1108\n",
      "           1       0.95      0.86      0.90       391\n",
      "\n",
      "    accuracy                           0.95      1499\n",
      "   macro avg       0.95      0.92      0.93      1499\n",
      "weighted avg       0.95      0.95      0.95      1499\n",
      "\n"
     ]
    }
   ],
   "source": [
    "# Print classification report \n",
    "classification_report = classification_report(y_test, y_pred)\n",
    "print(classification_report)"
   ]
  },
  {
   "cell_type": "code",
   "execution_count": 56,
   "id": "3e1878c1-bc78-4182-bc1c-e654d56d7d31",
   "metadata": {},
   "outputs": [
    {
     "data": {
      "image/png": "iVBORw0KGgoAAAANSUhEUgAAAgMAAAHHCAYAAAAiSltoAAAAOXRFWHRTb2Z0d2FyZQBNYXRwbG90bGliIHZlcnNpb24zLjguMiwgaHR0cHM6Ly9tYXRwbG90bGliLm9yZy8g+/7EAAAACXBIWXMAAA9hAAAPYQGoP6dpAABD3ElEQVR4nO3de5xN9f7H8ffaM+ZizMVtZkzGuIZBhNJELsdEooh+pVRDqFNUiOKUa2nOoVwTXZE4qlMUXV2KZJLblJDcijBDxsyY0VzMrN8f0+zTbuxjxt5zsdfreR7r8Wt/13et9Vnzw/7M5/v9rmWYpmkKAABYlq28AwAAAOWLZAAAAIsjGQAAwOJIBgAAsDiSAQAALI5kAAAAiyMZAADA4kgGAACwOJIBAAAsjmQA+Iv9+/erW7duCg4OlmEYWrlypVvP//PPP8swDC1atMit572cde7cWZ07dy7vMADLIhlAhXTw4EE9+OCDql+/vvz8/BQUFKT27dtr9uzZ+v3330v12nFxcdq1a5emTp2qJUuWqG3btqV6vbI0cOBAGYahoKCgC/4c9+/fL8MwZBiGnn/++RKf//jx45o0aZISExPdEC2AsuJd3gEAf/XRRx/p//7v/+Tr66v77rtPzZs3V05OjjZt2qQxY8Zo9+7deuWVV0rl2r///rsSEhL01FNPafjw4aVyjaioKP3++++qVKlSqZz/Yry9vXXu3DmtWrVKd9xxh8O+pUuXys/PT1lZWZd07uPHj2vy5MmqW7euWrVqVezjPv/880u6HgD3IBlAhXL48GH1799fUVFRWr9+vWrVqmXfN2zYMB04cEAfffRRqV3/1KlTkqSQkJBSu4ZhGPLz8yu181+Mr6+v2rdvr3//+99FkoFly5apZ8+eeu+998oklnPnzqly5cry8fEpk+sBuDCGCVChTJs2TRkZGXr99dcdEoFCDRs21GOPPWb/fP78eT3zzDNq0KCBfH19VbduXf3jH/9Qdna2w3F169ZVr169tGnTJl177bXy8/NT/fr19eabb9r7TJo0SVFRUZKkMWPGyDAM1a1bV1JBeb3wv/9s0qRJMgzDoW3NmjXq0KGDQkJCVKVKFTVu3Fj/+Mc/7PudzRlYv369brjhBgUEBCgkJES9e/fW3r17L3i9AwcOaODAgQoJCVFwcLAGDRqkc+fOOf/B/sXdd9+tTz75RKmpqfa2rVu3av/+/br77ruL9E9JSdHo0aPVokULValSRUFBQerRo4e+++47e58vv/xS11xzjSRp0KBB9uGGwvvs3Lmzmjdvru3bt6tjx46qXLmy/efy1zkDcXFx8vPzK3L/3bt3V9WqVXX8+PFi3yuAiyMZQIWyatUq1a9fX9dff32x+g8ZMkQTJkxQ69atNXPmTHXq1Enx8fHq379/kb4HDhzQ7bffrhtvvFEvvPCCqlatqoEDB2r37t2SpL59+2rmzJmSpLvuuktLlizRrFmzShT/7t271atXL2VnZ2vKlCl64YUXdOutt+rrr7/+n8etXbtW3bt318mTJzVp0iSNGjVKmzdvVvv27fXzzz8X6X/HHXfo7Nmzio+P1x133KFFixZp8uTJxY6zb9++MgxD77//vr1t2bJlatKkiVq3bl2k/6FDh7Ry5Ur16tVLM2bM0JgxY7Rr1y516tTJ/sXctGlTTZkyRZL0wAMPaMmSJVqyZIk6duxoP8/p06fVo0cPtWrVSrNmzVKXLl0uGN/s2bNVs2ZNxcXFKS8vT5L08ssv6/PPP9fcuXMVERFR7HsFUAwmUEGkpaWZkszevXsXq39iYqIpyRwyZIhD++jRo01J5vr16+1tUVFRpiRz48aN9raTJ0+avr6+5uOPP25vO3z4sCnJnD59usM54+LizKioqCIxTJw40fzzX6OZM2eaksxTp045jbvwGgsXLrS3tWrVygwNDTVPnz5tb/vuu+9Mm81m3nfffUWud//99zuc87bbbjOrV6/u9Jp/vo+AgADTNE3z9ttvN7t27Wqapmnm5eWZ4eHh5uTJky/4M8jKyjLz8vKK3Ievr685ZcoUe9vWrVuL3FuhTp06mZLMBQsWXHBfp06dHNo+++wzU5L57LPPmocOHTKrVKli9unT56L3CKDkqAygwkhPT5ckBQYGFqv/xx9/LEkaNWqUQ/vjjz8uSUXmFkRHR+uGG26wf65Zs6YaN26sQ4cOXXLMf1U41+CDDz5Qfn5+sY45ceKEEhMTNXDgQFWrVs3eftVVV+nGG2+03+ef/f3vf3f4fMMNN+j06dP2n2Fx3H333fryyy+VlJSk9evXKykp6YJDBFLBPAObreCfi7y8PJ0+fdo+BLJjx45iX9PX11eDBg0qVt9u3brpwQcf1JQpU9S3b1/5+fnp5ZdfLva1ABQfyQAqjKCgIEnS2bNni9X/l19+kc1mU8OGDR3aw8PDFRISol9++cWhvU6dOkXOUbVqVZ05c+YSIy7qzjvvVPv27TVkyBCFhYWpf//+euedd/5nYlAYZ+PGjYvsa9q0qX777TdlZmY6tP/1XqpWrSpJJbqXm2++WYGBgXr77be1dOlSXXPNNUV+loXy8/M1c+ZMNWrUSL6+vqpRo4Zq1qyp77//XmlpacW+5hVXXFGiyYLPP/+8qlWrpsTERM2ZM0ehoaHFPhZA8ZEMoMIICgpSRESEfvjhhxId99cJfM54eXldsN00zUu+RuF4diF/f39t3LhRa9eu1b333qvvv/9ed955p2688cYifV3hyr0U8vX1Vd++fbV48WKtWLHCaVVAkp577jmNGjVKHTt21FtvvaXPPvtMa9asUbNmzYpdAZEKfj4lsXPnTp08eVKStGvXrhIdC6D4SAZQofTq1UsHDx5UQkLCRftGRUUpPz9f+/fvd2hPTk5WamqqfWWAO1StWtVh5n2hv1YfJMlms6lr166aMWOG9uzZo6lTp2r9+vX64osvLnjuwjj37dtXZN+PP/6oGjVqKCAgwLUbcOLuu+/Wzp07dfbs2QtOuiz0n//8R126dNHrr7+u/v37q1u3boqNjS3yMyluYlYcmZmZGjRokKKjo/XAAw9o2rRp2rp1q9vOD+C/SAZQoTzxxBMKCAjQkCFDlJycXGT/wYMHNXv2bEkFZW5JRWb8z5gxQ5LUs2dPt8XVoEEDpaWl6fvvv7e3nThxQitWrHDol5KSUuTYwofv/HW5Y6FatWqpVatWWrx4scOX6w8//KDPP//cfp+loUuXLnrmmWf04osvKjw83Gk/Ly+vIlWHd999V8eOHXNoK0xaLpQ4ldSTTz6pI0eOaPHixZoxY4bq1q2ruLg4pz9HAJeOhw6hQmnQoIGWLVumO++8U02bNnV4AuHmzZv17rvvauDAgZKkli1bKi4uTq+88opSU1PVqVMnffvtt1q8eLH69OnjdNnapejfv7+efPJJ3XbbbXr00Ud17tw5zZ8/X1deeaXDBLopU6Zo48aN6tmzp6KionTy5Em99NJLql27tjp06OD0/NOnT1ePHj0UExOjwYMH6/fff9fcuXMVHBysSZMmue0+/spms+npp5++aL9evXppypQpGjRokK6//nrt2rVLS5cuVf369R36NWjQQCEhIVqwYIECAwMVEBCgdu3aqV69eiWKa/369XrppZc0ceJE+1LHhQsXqnPnzho/frymTZtWovMBuIhyXs0AXNBPP/1kDh061Kxbt67p4+NjBgYGmu3btzfnzp1rZmVl2fvl5uaakydPNuvVq2dWqlTJjIyMNMeNG+fQxzQLlhb27NmzyHX+uqTN2dJC0zTNzz//3GzevLnp4+NjNm7c2HzrrbeKLC1ct26d2bt3bzMiIsL08fExIyIizLvuusv86aefilzjr8vv1q5da7Zv39709/c3g4KCzFtuucXcs2ePQ5/C6/116eLChQtNSebhw4ed/kxN03FpoTPOlhY+/vjjZq1atUx/f3+zffv2ZkJCwgWXBH7wwQdmdHS06e3t7XCfnTp1Mps1a3bBa/75POnp6WZUVJTZunVrMzc316HfyJEjTZvNZiYkJPzPewBQMoZplmDGEQAA8DjMGQAAwOJIBgAAsDiSAQAALI5kAAAAiyMZAADA4kgGAACwuMv6oUP5+fk6fvy4AgMD3foYVABA2TBNU2fPnlVERIT9zZilISsrSzk5OS6fx8fHR35+fm6IqGK5rJOB48ePKzIysrzDAAC46OjRo6pdu3apnDsrK0v+wTWlnAyXzxUeHq7Dhw97XEJwWScDhe+997lulAxv33KOBigdRz58qLxDAErN2fSzali3mf3f89KQk5Mj5WTI97pRkivfFeezlfTNDOXk5JAMVCSFQwOGt68Mb8/6fwxQKCgoqLxDAEpdmQz1VvJz6bvC9ODh6Ms6GQAAoNhstoLNleM9FMkAAMAaDKNgc+V4D+W5aQ4AACgWKgMAAGugMuAUyQAAwBoMW8HmyvEeynPvDAAAFAuVAQCANdiMgs2V4z0UyQAAwCJcnDMgz00GGCYAAMDiqAwAAKyBCYROkQwAAKyBpYVOeW6aAwAAioXKAADAGlhN4BTJAADAGpgz4BTJAADAGpgz4JTnpjkAAKBYqAwAAKzBMFwcJvDcygDJAADAGphA6BTDBAAAWByVAQCANTCB0CmSAQCANbC00CnPvTMAAFAsVAYAANbAMIFTJAMAAGtgNYFTDBMAAFAKNm7cqFtuuUUREREyDEMrV6502G+apiZMmKBatWrJ399fsbGx2r9/v0OflJQUDRgwQEFBQQoJCdHgwYOVkZHh0Of777/XDTfcID8/P0VGRmratGkljpVkAABgDYUTCF3ZSiAzM1MtW7bUvHnzLrh/2rRpmjNnjhYsWKAtW7YoICBA3bt3V1ZWlr3PgAEDtHv3bq1Zs0arV6/Wxo0b9cADD9j3p6enq1u3boqKitL27ds1ffp0TZo0Sa+88kqJYmWYAABgDWU8Z6BHjx7q0aPHBfeZpqlZs2bp6aefVu/evSVJb775psLCwrRy5Ur1799fe/fu1aeffqqtW7eqbdu2kqS5c+fq5ptv1vPPP6+IiAgtXbpUOTk5euONN+Tj46NmzZopMTFRM2bMcEgaLobKAADAGgqTAVc2Ffw2/uctOzu7xKEcPnxYSUlJio2NtbcFBwerXbt2SkhIkCQlJCQoJCTEnghIUmxsrGw2m7Zs2WLv07FjR/n4+Nj7dO/eXfv27dOZM2eKHQ/JAAAAJRAZGang4GD7Fh8fX+JzJCUlSZLCwsIc2sPCwuz7kpKSFBoa6rDf29tb1apVc+hzoXP8+RrFwTABAMAaDJtkc/2hQ0ePHlVQUJC92dfX19XIyh2VAQCANbhpmCAoKMhhu5RkIDw8XJKUnJzs0J6cnGzfFx4erpMnTzrsP3/+vFJSUhz6XOgcf75GcZAMAABQxurVq6fw8HCtW7fO3paenq4tW7YoJiZGkhQTE6PU1FRt377d3mf9+vXKz89Xu3bt7H02btyo3Nxce581a9aocePGqlq1arHjIRkAAFiDmyoDxZWRkaHExEQlJiZKKpg0mJiYqCNHjsgwDI0YMULPPvusPvzwQ+3atUv33XefIiIi1KdPH0lS06ZNddNNN2no0KH69ttv9fXXX2v48OHq37+/IiIiJEl33323fHx8NHjwYO3evVtvv/22Zs+erVGjRpUoVuYMAACsoYxfVLRt2zZ16dLF/rnwCzouLk6LFi3SE088oczMTD3wwANKTU1Vhw4d9Omnn8rPz89+zNKlSzV8+HB17dpVNptN/fr105w5c+z7g4OD9fnnn2vYsGFq06aNatSooQkTJpRoWaEkGaZpmiU6ogJJT09XcHCwfDuMk+Htd/EDgMvQmbWPlXcIQKlJT09XWLU6SktLc5iU5+5rBAcHy/euV2T4+F/yecyc35X97wdKNdbyQmUAAGANNrn4bgK3RVLhkAwAAKyBtxY65cF5DgAAKA4qAwAAayjjCYSXE5IBAIA1MEzgFMkAAMAabIaLEwg9Nxnw3JoHAAAoFioDAABrYM6AUyQDAABrYM6AU56b5gAAgGKhMgAAsATDMGRQGbggkgEAgCW4Okogz80FGCYAAMDqqAwAACzBsBkyeM7ABZEMAAAswebiMIHpubkAwwQAAFgdlQEAgCUYcnE1gQfPICQZAABYAqsJnCMZAABYAs8ZcI45AwAAWByVAQCAJVAZcI5kAABgCcwZcI5hAgAALI7KAADAGlwcJjAZJgAA4PJm2Ao2V473VB58awAAoDioDAAALMHV1QSuPb2wYiMZAABYgqurCTw4F2CYAAAAq6MyAACwBJthyEZp4IJIBgAAlsCcAedIBgAAlsCcAeeYMwAAgMVRGQAAWALDBM6RDAAALIFhAucYJgAAwOKoDAAALKHg3QQuDBN48K/PJAMAAEtgmMA5D85zAABAcVAZAABYgiEXVxPIc0sDJAMAAEtgmMA5hgkAALA4KgMAAEvgoUPOkQwAACyBZMA5kgEAgCXYjILtknluLsCcAQAArI7KAADAGmyGS08gdK2sULGRDAAALIGlhc4xTAAAgMVRGbCY61tE6JE72qhlo1DVqlFFAyas0sebDzn0GRd3ne67ubmCq/hqy+7jenz2Fzp0LNW+v8EVIZryYAe1axahSt427Tl8WlMXJmjTd7/a+3S8OlJPDbxOTevV0LmsXC3/fK+eeWOz8vLNsrpVwKmvvz+mue9s13f7TyrpdKbemtxLPds3sO8/eSZTk179Wl9sP6K0jGxd3+IK/Wt4JzWoXbUco4arWE3gXIWoDMybN09169aVn5+f2rVrp2+//ba8Q/JYlf0q6YdDv2nM3C8vuP+xO9vowdtaadTs9bpx+Ns6l5Wr9/7ZR76VvOx9lk+9Vd5eNvUe/b66PLxcPxw8peXP3qrQqpUlSc3r19A7U2/V2q2/qNPfl+n+Zz/RTTH1NXFI+zK4Q+DizmXlqnn9Gpr+SOci+0zT1D0TVuvnE2laOrmXNiy4W7XDAtXniRXK/D237IOF2xQOE7iyeapyTwbefvttjRo1ShMnTtSOHTvUsmVLde/eXSdPnizv0DzS2q2/aOrCBH309cEL7v9736v1/NJv9cnmQ9p9+Dc99K/PFV49wP5bU7UgPzWsXVWz/r1Nuw//pkPHUjX5ta8V4F9JTetVlyTd1vlK7T58WtPf+laHj6dp8/fHNOnVTRrSu6Wq+Fcqs3sFnLnx2rp6+v7r1atDwyL7Dh5L1da9SXrhsb+pdZNwNYqsqhmP/U1ZOef13hf7yiFaoPSVezIwY8YMDR06VIMGDVJ0dLQWLFigypUr64033ijv0CwnqlaQwqsH6MsdR+xt6Zk52r43SddEh0uSUtKz9NORFN3Zrakq+3nLy2ZoYK8WOnnmnBJ/KkjgfCp5KTvnvMO5f885L39fb7W8MrTsbgi4BNk5eZIkP5//VsNsNkM+lbz0zQ/HyyssuEHhMIErm6cq12QgJydH27dvV2xsrL3NZrMpNjZWCQkJ5RiZNYVVDZAknTpzzqH9ZOo5hVYLsH++7YkVuqpBTR398GElfTJcD/e7WrePW6m0jGxJ0vptv+ja6Frq1+VK2WyGalUP0BP3tJMkhf/pPEBFdGWdqqodGqgpr21W6tks5eTmadbybTp+KkPJpzPLOzy4gGTAuXJNBn777Tfl5eUpLCzMoT0sLExJSUlF+mdnZys9Pd1hQ9mb/mhn/Zb6u24e+a66Dluujzcf0r+fuUVh1QrmDHyx/YgmvLJJM0b8TcmfDNfWRXFa8+3PkqR8kwmEqNgqeXtpyaSeOnDsjOrd9rIies7TpsRfFXttlGtr1IEK7LJaTRAfH6/JkyeXdxgeK/lMwW89NatWVnLKf6sDoSGVtevgKUkFqwS6t6unere9rLPnciRJo+d8oc6t6+iubtGatXybJOml93bqpfd2Krx6gFLPZqlOeJAmDmmvn0+QwKHia3VlmL56eYDSMrKVez5PNUIqK3b4crW6MuziB6PC4jkDzpVrZaBGjRry8vJScnKyQ3tycrLCw8OL9B83bpzS0tLs29GjR8sqVEv45US6kk5nqtPVkfa2wMo+atM0XFv3FFRqKvsW5I/5f1kimG+asl3gb0rS6Uxl5eSpX5fG+vXkWX23n4mhuHwEV/FVjZDKOvjrGe386aRuvr5+eYcEFxh/PIHQlc1TlWtlwMfHR23atNG6devUp08fSVJ+fr7WrVun4cOHF+nv6+srX1/fMo7SswT4VVK9K4Ltn6NqBat5gxpKPZutX0+e1YL3d2r0gGt16FiqfklK1z8GxijpdKZ99cG3e04oNSNbLz3ZTdOXbNHv2ecV17O5osKD9PmWw/bzPnJHa63b+ovy80316tBQI/q31aBnPi6SRADlIeP3HB0+lmb//MuJNO06cEohgb6KDAvSyg37VSPYX7VDA7Xn8G8a+9IG9by+vv7WNqoco4arqAw4V+7DBKNGjVJcXJzatm2ra6+9VrNmzVJmZqYGDRpU3qF5pFaNQ7X6hdvtn597qKMkadlnezRs+hrNfnu7KvtV0syRXRVcxVff/HBct49dqezcghnWKelZun3cSj19//X64Pm+8vay6cdfUjRgwir9cOg3+3ljr6mrx+++Vj6VvPTDoVMaMGGV1m79pWxvFnAicd9J3TL6PfvnpxZ8JUm6q1tTvfRENyWnZOqpBRt16sw5hVULUP8bm2rMPdeWV7i4TOXl5WnSpEl66623lJSUpIiICA0cOFBPP/20fTKiaZqaOHGiXn31VaWmpqp9+/aaP3++GjVqZD9PSkqKHnnkEa1atUo2m039+vXT7NmzVaVKFbfFaphm+c/oevHFFzV9+nQlJSWpVatWmjNnjtq1a3fR49LT0xUcHCzfDuNkePuVQaRA2Tuz9rHyDgEoNenp6QqrVkdpaWkKCgoqtWsEBwer+T8/kpffpa9oysvK1A9jexY71ueee04zZszQ4sWL1axZM23btk2DBg3S1KlT9eijj0qS/vWvfyk+Pl6LFy9WvXr1NH78eO3atUt79uyRn1/B91qPHj104sQJvfzyy8rNzdWgQYN0zTXXaNmyZZd8L39VIZKBS0UyACsgGYAnK8tkoMW/PnY5Gdj15M3FjrVXr14KCwvT66+/bm/r16+f/P399dZbb8k0TUVEROjxxx/X6NGjJUlpaWkKCwvTokWL1L9/f+3du1fR0dHaunWr2rZtK0n69NNPdfPNN+vXX39VRETEJd/Pn5X7Q4cAALic/HWJe3Z29gX7XX/99Vq3bp1++uknSdJ3332nTZs2qUePHpKkw4cPKykpyeFZO8HBwWrXrp39WTsJCQkKCQmxJwKSFBsbK5vNpi1btrjtnsp9zgAAAGXBkIsTCP/4v5GRkQ7tEydO1KRJk4r0Hzt2rNLT09WkSRN5eXkpLy9PU6dO1YABAyTJ/jyd//WsnaSkJIWGOj651dvbW9WqVbvg83guFckAAMASXF0eWHjs0aNHHYYJnK1ye+edd7R06VItW7ZMzZo1U2JiokaMGKGIiAjFxcVdchylgWQAAIASCAoKKtacgTFjxmjs2LHq37+/JKlFixb65ZdfFB8fr7i4OPvzdJKTk1WrVi37ccnJyWrVqpUkKTw8vMiL+86fP6+UlJQLPo/nUjFnAABgCWX9boJz587JZnP8mvXy8lJ+fr4kqV69egoPD9e6devs+9PT07VlyxbFxMRIkmJiYpSamqrt27fb+6xfv175+fnFWnVXXFQGAACWUNYPHbrllls0depU1alTR82aNdPOnTs1Y8YM3X///X+cz9CIESP07LPPqlGjRvalhREREfYH8TVt2lQ33XSThg4dqgULFig3N1fDhw9X//793baSQCIZAACgVMydO1fjx4/Xww8/rJMnTyoiIkIPPvigJkyYYO/zxBNPKDMzUw888IBSU1PVoUMHffrpp/ZnDEjS0qVLNXz4cHXt2tX+0KE5c+a4NVaeMwBUcDxnAJ6sLJ8z0HrGZ/Lyd+E5A79naseo7qUaa3mhMgAAsAR3rSbwRCQDAABrcHHOgDw3F2A1AQAAVkdlAABgCZeyPPCvx3sqkgEAgCXYDEM2F77QXTm2omOYAAAAi6MyAACwhLJ+6NDlhGQAAGAJLC10jmECAAAsjsoAAMASCoYJXFlN4MZgKhiSAQCAJTBnwDmGCQAAsDgqAwAAS+ChQ86RDAAALMEwXFxNQDIAAMDljTkDzjFnAAAAi6MyAACwBOYMOEcyAACwBJIB5xgmAADA4qgMAAAswWYUbK4c76lIBgAAlsCLipxjmAAAAIujMgAAsAQmEDpHMgAAsAQeOuQcwwQAAFgclQEAgDW4OEzgyaUBkgEAgCWwmsA5kgEAgCUwZ8A55gwAAGBxVAYAAJbA0kLnSAYAAJZAMuAcwwQAAFgclQEAgCXwoiLnSAYAAJZgGKYMw3TpeE/FMAEAABZHZQAAYAk8Z8A5kgEAgCXYDFM2F0r9rhxb0ZEMAAAswfhjc+V4T8WcAQAALI7KAADAEmxycZhADBMAAHBZYwKhcwwTAABgcVQGAACWQGXAOZIBAIAlsLTQOYYJAACwOCoDAABL4DkDzhUrGfjwww+LfcJbb731koMBAKC0GC4OE3jyi4qKlQz06dOnWCczDEN5eXmuxAMAAMpYsZKB/Pz80o4DAIBSxWoC51yaM5CVlSU/Pz93xQIAQKkxDNOlUr8nDxOUeDVBXl6ennnmGV1xxRWqUqWKDh06JEkaP368Xn/9dbcHCACAO9jcsHmqEt/b1KlTtWjRIk2bNk0+Pj729ubNm+u1115za3AAAKD0lTgZePPNN/XKK69owIAB8vLysre3bNlSP/74o1uDAwDAXQqHCVzZPFWJ5wwcO3ZMDRs2LNKen5+v3NxctwQFAIC72YyCzZXjPVWJKwPR0dH66quvirT/5z//0dVXX+2WoAAAQNkpcWVgwoQJiouL07Fjx5Sfn6/3339f+/bt05tvvqnVq1eXRowAALiM1QTOlbgy0Lt3b61atUpr165VQECAJkyYoL1792rVqlW68cYbSyNGAABcVjhM4MrmqS7pOQM33HCD1qxZ4+5YAABAObjkZZPbtm3TkiVLtGTJEm3fvt2dMQEA4HaGTJe3kjp27JjuueceVa9eXf7+/mrRooW2bdtm32+apiZMmKBatWrJ399fsbGx2r9/v8M5UlJSNGDAAAUFBSkkJESDBw9WRkaGyz+PPytxZeDXX3/VXXfdpa+//lohISGSpNTUVF1//fVavny5ateu7dYAAQBwh7J+HPGZM2fUvn17denSRZ988olq1qyp/fv3q2rVqvY+06ZN05w5c7R48WLVq1dP48ePV/fu3bVnzx77E34HDBigEydOaM2aNcrNzdWgQYP0wAMPaNmyZZd+M39R4srAkCFDlJubq7179yolJUUpKSnau3ev8vPzNWTIELcFBgDA5exf//qXIiMjtXDhQl177bWqV6+eunXrpgYNGkgqqArMmjVLTz/9tHr37q2rrrpKb775po4fP66VK1dKkvbu3atPP/1Ur732mtq1a6cOHTpo7ty5Wr58uY4fP+62WEucDGzYsEHz589X48aN7W2NGzfW3LlztXHjRrcFBgCAO9n+eIWxK5skpaenO2zZ2dkXvN6HH36otm3b6v/+7/8UGhqqq6++Wq+++qp9/+HDh5WUlKTY2Fh7W3BwsNq1a6eEhARJUkJCgkJCQtS2bVt7n9jYWNlsNm3ZssV9P5uSHhAZGXnBhwvl5eUpIiLCLUEBAOBuhcMErmxSwfdgcHCwfYuPj7/g9Q4dOqT58+erUaNG+uyzz/TQQw/p0Ucf1eLFiyVJSUlJkqSwsDCH48LCwuz7kpKSFBoa6rDf29tb1apVs/dxhxLPGZg+fboeeeQRzZs3z56pbNu2TY899pief/55twUGAIA7GYbsv91f6vGSdPToUQUFBdnbfX19L9g/Pz9fbdu21XPPPSdJuvrqq/XDDz9owYIFiouLu+Q4SkOxkoGqVavK+NPMiczMTLVr107e3gWHnz9/Xt7e3rr//vvVp0+fUgkUAICKICgoyCEZcKZWrVqKjo52aGvatKnee+89SVJ4eLgkKTk5WbVq1bL3SU5OVqtWrex9Tp486XCO8+fPKyUlxX68OxQrGZg1a5bbLggAQHkw/thcOb4k2rdvr3379jm0/fTTT4qKipIk1atXT+Hh4Vq3bp39yz89PV1btmzRQw89JEmKiYlRamqqtm/frjZt2kiS1q9fr/z8fLVr186Fu3FUrGSgopUzAAAoqbJeWjhy5Ehdf/31eu6553THHXfo22+/1SuvvKJXXnnlj/MZGjFihJ599lk1atTIvrQwIiLCXmVv2rSpbrrpJg0dOlQLFixQbm6uhg8frv79+7t1nt4lPYGwUFZWlnJychzailM6AQDA011zzTVasWKFxo0bpylTpqhevXqaNWuWBgwYYO/zxBNPKDMzUw888IBSU1PVoUMHffrpp/ZnDEjS0qVLNXz4cHXt2lU2m039+vXTnDlz3BqrYZpmiWZTZGZm6sknn9Q777yj06dPF9mfl5fntuAuJj09XcHBwfLtME6Gt9/FDwAuQ2fWPlbeIQClJj09XWHV6igtLa3Ufpks/K4YtnatfAMCLvk82ZmZmhcbW6qxlpcSLy184okntH79es2fP1++vr567bXXNHnyZEVEROjNN98sjRgBAHCZu5YWeqISDxOsWrVKb775pjp37qxBgwbphhtuUMOGDRUVFaWlS5c6lD8AAEDFV+LKQEpKiurXry+pYH5ASkqKJKlDhw48gRAAUGHZZLq8eaoSJwP169fX4cOHJUlNmjTRO++8I6mgYlD44iIAACoaQy4OE5T3DZSiEicDgwYN0nfffSdJGjt2rObNmyc/Pz+NHDlSY8aMcXuAAACgdJV4zsDIkSPt/x0bG6sff/xR27dvV8OGDXXVVVe5NTgAANzFMEwZLj2O2HOHCVx6zoAkRUVF2Z+mBABARWUzCjZXjvdUxUoGSvJwg0cfffSSgwEAoLRQGXCuWMnAzJkzi3UywzBIBgAAuMwUKxkoXD1QUR1YMURBQYHlHQZQKr45ubO8QwBKTebZzDK7lk2XMGv+L8d7KpfnDAAAcDlgmMA5T050AABAMVAZAABYAsMEzpEMAACswcVhAjFMAAAAPNUlJQNfffWV7rnnHsXExOjYsWOSpCVLlmjTpk1uDQ4AAHcx3LB5qhInA++99566d+8uf39/7dy5U9nZ2ZKktLQ0Pffcc24PEAAAd7AZpsubpypxMvDss89qwYIFevXVV1WpUiV7e/v27bVjxw63BgcAAEpfiScQ7tu3Tx07dizSHhwcrNTUVHfEBACA27la6meY4E/Cw8N14MCBIu2bNm1S/fr13RIUAADuxjCBcyVOBoYOHarHHntMW7ZskWEYOn78uJYuXarRo0froYceKo0YAQBwmWG4vnmqEg8TjB07Vvn5+eratavOnTunjh07ytfXV6NHj9YjjzxSGjECAIBSVOJkwDAMPfXUUxozZowOHDigjIwMRUdHq0qVKqURHwAAbsGcAecu+QmEPj4+io6OdmcsAACUGlfH/T15zkCJk4EuXbrI+B8DJ+vXr3cpIAAAULZKnAy0atXK4XNubq4SExP1ww8/KC4uzl1xAQDgVgwTOFfiZGDmzJkXbJ80aZIyMjJcDggAgNLAMIFzbntR0T333KM33njDXacDAABlxG2vME5ISJCfn5+7TgcAgFsxTOBciZOBvn37Onw2TVMnTpzQtm3bNH78eLcFBgCAOxmGKcOFUr8rx1Z0JU4GgoODHT7bbDY1btxYU6ZMUbdu3dwWGAAAKBslSgby8vI0aNAgtWjRQlWrVi2tmAAAcDubXJso57ZJdhVQie7Ny8tL3bp14+2EAIDLzx/DBJe6yYOHCUqc6DRv3lyHDh0qjVgAACg1NjdsnqrE9/bss89q9OjRWr16tU6cOKH09HSHDQAAXF6KPWdgypQpevzxx3XzzTdLkm699VaHxxKbpinDMJSXl+f+KAEAcBGrCZwrdjIwefJk/f3vf9cXX3xRmvEAAFAqmEDoXLGTAdMsyIg6depUasEAAICyV6Klhf/rbYUAAFRkDBM4V6Jk4Morr7xoQpCSkuJSQAAAlAYeR+xciZKByZMnF3kCIQAAuLyVKBno37+/QkNDSysWAABKDa8wdq7YyQDzBQAAlzPDKNhcOd5TFXulROFqAgAA4FmKXRnIz88vzTgAAChVNpmyyYVhAheOrehK/ApjAAAuRwwTOEcyAACwBJYWOufJT1cEAADFQGUAAGAJNrm4tJA5AwAAXN4YJnCOYQIAACyOygAAwBIMw7WnCLKaAACAyxzDBM4xTAAAgMVRGQAAWIJhmDJcGiZgNQEAAJc1m1wrh3tyKd2T7w0AABQDlQEAgCUYhiHDhSUBrhxb0VEZAABYguGG7VL985//lGEYGjFihL0tKytLw4YNU/Xq1VWlShX169dPycnJDscdOXJEPXv2VOXKlRUaGqoxY8bo/PnzLkRyYSQDAABLKHhroeHCdmnX3bp1q15++WVdddVVDu0jR47UqlWr9O6772rDhg06fvy4+vbta9+fl5ennj17KicnR5s3b9bixYu1aNEiTZgwwZUfwwWRDAAAUEoyMjI0YMAAvfrqq6pataq9PS0tTa+//rpmzJihv/3tb2rTpo0WLlyozZs365tvvpEkff7559qzZ4/eeusttWrVSj169NAzzzyjefPmKScnx61xkgwAACzBXcME6enpDlt2drbTaw4bNkw9e/ZUbGysQ/v27duVm5vr0N6kSRPVqVNHCQkJkqSEhAS1aNFCYWFh9j7du3dXenq6du/efek/iAsgGQAAWILhhv9JUmRkpIKDg+1bfHz8Ba+3fPly7dix44L7k5KS5OPjo5CQEIf2sLAwJSUl2fv8OREo3F+4z51YTQAAQAkcPXpUQUFB9s++vr4X7PPYY49pzZo18vPzK8vwLgmVAQCAJRRMIHRtk6SgoCCH7ULJwPbt23Xy5Em1bt1a3t7e8vb21oYNGzRnzhx5e3srLCxMOTk5Sk1NdTguOTlZ4eHhkqTw8PAiqwsKPxf2cReSAQCAJdhkuLwVV9euXbVr1y4lJibat7Zt22rAgAH2/65UqZLWrVtnP2bfvn06cuSIYmJiJEkxMTHatWuXTp48ae+zZs0aBQUFKTo62n0/GDFMAACA2wUGBqp58+YObQEBAapevbq9ffDgwRo1apSqVaumoKAgPfLII4qJidF1110nSerWrZuio6N17733atq0aUpKStLTTz+tYcOGXbAa4QqSAQCAJfy51H+px7vTzJkzZbPZ1K9fP2VnZ6t79+566aWX7Pu9vLy0evVqPfTQQ4qJiVFAQIDi4uI0ZcoU9wYikgEAgEX8eUXApR7vii+//NLhs5+fn+bNm6d58+Y5PSYqKkoff/yxS9ctDuYMAABgcVQGAACWUNGGCSoSkgEAgCWU9zBBRUYyAACwBCoDzjFnAAAAi6MyAACwCNeGCcQwAQAAlzebXCuHe3Ip3ZPvDQAAFAOVAQCAJRiGIcOFWYCuHFvRkQwAACzBkGuj/p6bCjBMAACA5VEZAABYAsMEzpEMAAAsgWEC5xgmAADA4qgMAAAsgWEC50gGAACWwDCBcyQDAABL4K2FzjFnAAAAi6MyAACwBJtRsLlyvKciGQAAWALDBM4xTAAAgMVRGQAAWIJhFGyuHO+pSAYAAJbAMIFzDBMAAGBxVAYAAJbAMIFzJAMAAEtgmMA5hgkAALA4KgMoYvqSrXr+rW0ObQ1rh+jr1++yf966J0nxi7Zox48n5eVlqHn9Glr+XC/5+/JHChXL6jXH9dHaE0r+LUuSFHVFZd3dN0rXtKomSZrz2k/a+UOqUs7kyM/PS9FXBun+/vUUeUVl+zl63L2xyHmfHN5Ena8PLZubgFswTOBcuf7LvXHjRk2fPl3bt2/XiRMntGLFCvXp06c8Q8IfGkdV1X/+eav9s5fXf/8WbN2TpLue+kiP9r9azz18g7y9DO0+dFo2T/6bgstWjWq+GtS/nq4I95cpU2s3JmvKC7v1YnxrRdUOUMN6gerSPlShNfx0NiNXb733i5765y4tnH2tvP70yLlRD16pNi2r2T9XqUzie/lxbZjAk19VVK5/mjMzM9WyZUvdf//96tu3b3mGgr/w9rIptFrlC+6b8PLXGtKnhR69s7W9rWFk1bIKDSiR69pUd/g88M56+mjtCf24P11RtQN0c9da9n1hNf0Ud0ddPTx2h5JPZSkizN++L6Cyt6qF+JRZ3HA/m1wbG/fkcfVyTQZ69OihHj16lGcIcOLQsTRddddi+fp4qW3TcD11fzvVDg3UqdRz2vHjSfX725XqOeJ9/XwiXY0iQzRuYDu1a17r4icGylFevqmvvjmlrOw8NWkUVGR/VlaePt+QrPCafqpZ3ddh30uLDmj2qz8pPNRfN8fWUrdOYR79fntYy2VV58rOzlZ2drb9c3p6ejlG47laNwnVnNF/U4PaITqZkqnn39qm3o+v1IaX79QvJwp+5s8v2aqJQ69X8wbV9c7an3T72A+14eU7Vf+KkPINHriAw0cyNWriTuXk5svfz0vjRzZTVO0A+/7Va47r9WWHlJWdr9q1/DX1Hy1Uyfu/vwfee3uUWjYLka+vl3Z8f0bzFu5XVlaeet90RXncDi6RYRguJXCenPxdVslAfHy8Jk+eXN5heLyu10TZ/7tZ/epq3SRMbe59Sx9sPKgr/xgOuPfmaN3VvYkkqUXDmvoq8Vct++xHPX3/deUSM/C/1I7w17z4Nso8d16bvv1NLyzYp2njr7InBF3ah+rq5lWVkpqt9z76VfGz9+qFSa3k41OQENzd979/JxrWraKs7Dz9Z/VRkoHLjiHXxv09Nxm4rIZAxo0bp7S0NPt29OjR8g7JEoKr+KpB7WAdPp6m0OoF8wgaR1Vz6NMosqqOncwoj/CAi6rkbVNEuL8a1Q/UoP71VL9OgD749Jh9f0Blb11Ry18tmoboqRHROnrinDZv+83p+Zo0DNRvKTnKyc0vi/CBUndZJQO+vr4KCgpy2FD6Mn/P1c/H0xVWrbLqhAUqvHqADvya6tDn0LE01Q6tUj4BAiVkmqZyz5tO9kkypdz/8UV/8JdMVQnwlk+ly+qfUMsz3LB5qstqmABlY9Irm9XturqqHVpFyafPadqSrfLyMnRb50YyDEMP395S05dsU7P61dW8fg29vXafDhw9o9ef7lbeoQNFLFx+WG1bVlVoDT+d+z1PX24+qe/3punZsXV0Ivl3bfzmlFq3qKrgoEr6LSVb73x4VD4+NvtzCL7Zflqp6Tlq0jBIPpVs2rHrjN7+4Ij69axdzneGkmLOgHPlmgxkZGTowIED9s+HDx9WYmKiqlWrpjp16pRjZNZ2/LdM/T1+jc6czVL1YH9d26yWPp7VVzVCCpZZPdi3pbJz8zRhwdc6czZbzepX1zvxt6huRHA5Rw4UlZqeo+fn71NKao4CKnurXmSAnh3bQq1bVNXpM9n64cc0rfzkmDIyzyskuJKaNwnWjEmtFBJcsIzQ29vQqs+P65Ulh2SapiLC/fXAPfV1UxdWz8BzGKZpXrhWVga+/PJLdenSpUh7XFycFi1adNHj09PTFRwcrKOnDiooKLAUIgTK347Tu8s7BKDUZJ7NVK/GvZSWllZqQ7+F3xUbD69TlcCAix/gRMbZTHWs17VUYy0v5VoZ6Ny5s8oxFwEAWAhrCZxj9gsAABbHBEIAgCUUVAZceYWx5yIZAABYhIuvLfTgdIBkAABgCcwZcI45AwAAWByVAQCARVAbcIZkAABgCcYf/3PleE/FMAEAABZHZQAAYAmGi4sJPPjVBCQDAACrYM6AMwwTAABgcVQGAACWwARC50gGAACWwCCBcwwTAABgcVQGAADWwHICp0gGAACWwJwB50gGAACWQDLgHHMGAACwOJIBAAAsjmQAAGAJhmG4vJVEfHy8rrnmGgUGBio0NFR9+vTRvn37HPpkZWVp2LBhql69uqpUqaJ+/fopOTnZoc+RI0fUs2dPVa5cWaGhoRozZozOnz/v8s/jz0gGAAAoBRs2bNCwYcP0zTffaM2aNcrNzVW3bt2UmZlp7zNy5EitWrVK7777rjZs2KDjx4+rb9++9v15eXnq2bOncnJytHnzZi1evFiLFi3ShAkT3BqrYZqm6dYzlqH09HQFBwfr6KmDCgoKLO9wgFKx4/Tu8g4BKDWZZzPVq3EvpaWlKSgoqFSuUfhdse1IgqoEVbnk82SkZ6htnZhLjvXUqVMKDQ3Vhg0b1LFjR6WlpalmzZpatmyZbr/9dknSjz/+qKZNmyohIUHXXXedPvnkE/Xq1UvHjx9XWFiYJGnBggV68sknderUKfn4+Fzy/fwZlQEAgCUYbtikguTiz1t2dnaxrp+WliZJqlatmiRp+/btys3NVWxsrL1PkyZNVKdOHSUkJEiSEhIS1KJFC3siIEndu3dXenq6du923y8KJAMAAJRAZGSkgoOD7Vt8fPxFj8nPz9eIESPUvn17NW/eXJKUlJQkHx8fhYSEOPQNCwtTUlKSvc+fE4HC/YX73IXnDAAALMFdzxk4evSowzCBr6/vRY8dNmyYfvjhB23atOmSr1+aSAYAANbgpscRBwUFlWjOwPDhw7V69Wpt3LhRtWvXtreHh4crJydHqampDtWB5ORkhYeH2/t8++23DucrXG1Q2McdGCYAAKAUmKap4cOHa8WKFVq/fr3q1avnsL9NmzaqVKmS1q1bZ2/bt2+fjhw5opiYGElSTEyMdu3apZMnT9r7rFmzRkFBQYqOjnZbrFQGAACWUZYPFB42bJiWLVumDz74QIGBgfYx/uDgYPn7+ys4OFiDBw/WqFGjVK1aNQUFBemRRx5RTEyMrrvuOklSt27dFB0drXvvvVfTpk1TUlKSnn76aQ0bNqxYwxPFRTIAALCEsn43wfz58yVJnTt3dmhfuHChBg4cKEmaOXOmbDab+vXrp+zsbHXv3l0vvfSSva+Xl5dWr16thx56SDExMQoICFBcXJymTJlyyfdxISQDAACL+PMCwUs9vviK8xgfPz8/zZs3T/PmzXPaJyoqSh9//HGJrl1SzBkAAMDiqAwAACzBTYsJPBLJAADAIsp2mOBywjABAAAWR2UAAGAJZb2a4HJCMgAAsASSAecYJgAAwOKoDAAArIH5g06RDAAALKEgF3BlmMBzMUwAAIDFURkAAFgCEwidIxkAAFgDcwacIhkAAFgClQHnmDMAAIDFURkAAFgClQHnSAYAAJbAlAHnGCYAAMDiqAwAAKzBMAo2V473UCQDAABLYM6AcwwTAABgcVQGAACWwARC50gGAADWwJwBpxgmAADA4qgMAAAsgQmEzpEMAAAsgTkDzpEMAAAsgcqAc8wZAADA4qgMAACsgXECp0gGAACWwDCBcwwTAABgcVQGAACWQGXAOSoDAABYHMkAAAAWxzABAMASDMOQ4cL7BVw5tqIjGQAAWIRrcwY8eW0hwwQAAFgclQEAgCXwzCHnSAYAANZgGAWbK8d7KJIBAIAl8JwB55gzAACAxVEZAABYAnMGnCMZAABYAsMEzjFMAACAxVEZAABYA6sJnCIZAABYAnMGnGOYAAAAi6MyAACwBCYQOkcyAACwBkMuzhlwWyQVDsMEAABYHJUBAIAlMIHQOZIBAIAlMGfAOZIBAIAlkAw4x5wBAAAsjsoAAMAamDTgFMkAAMASGCZw7rJOBkzTlCSdPXu2nCMBSk/m2czyDgEoNecyzkn677/npSk93bXvClePr8gu62SgMAmIrt+qfAMBALjk7NmzCg4OLpVz+/j4KDw8XI3qNnP5XOHh4fLx8XFDVBWLYZZFOlZK8vPzdfz4cQUGBsrw4LdJVSTp6emKjIzU0aNHFRQUVN7hAG7Fn++yZ5qmzp49q4iICNlspTenPSsrSzk5OS6fx8fHR35+fm6IqGK5rCsDNptNtWvXLu8wLCkoKIh/LOGx+PNdtkqrIvBnfn5+Hvkl7i4sLQQAwOJIBgAAsDiSAZSIr6+vJk6cKF9f3/IOBXA7/nzDqi7rCYQAAMB1VAYAALA4kgEAACyOZAAAAIsjGQAAwOJIBlBs8+bNU926deXn56d27drp22+/Le+QALfYuHGjbrnlFkVERMgwDK1cubK8QwLKFMkAiuXtt9/WqFGjNHHiRO3YsUMtW7ZU9+7ddfLkyfIODXBZZmamWrZsqXnz5pV3KEC5YGkhiqVdu3a65ppr9OKLL0oqeC9EZGSkHnnkEY0dO7acowPcxzAMrVixQn369CnvUIAyQ2UAF5WTk6Pt27crNjbW3maz2RQbG6uEhIRyjAwA4A4kA7io3377TXl5eQoLC3NoDwsLU1JSUjlFBQBwF5IBAAAsjmQAF1WjRg15eXkpOTnZoT05OVnh4eHlFBUAwF1IBnBRPj4+atOmjdatW2dvy8/P17p16xQTE1OOkQEA3MG7vAPA5WHUqFGKi4tT27Ztde2112rWrFnKzMzUoEGDyjs0wGUZGRk6cOCA/fPhw4eVmJioatWqqU6dOuUYGVA2WFqIYnvxxRc1ffp0JSUlqVWrVpozZ47atWtX3mEBLvvyyy/VpUuXIu1xcXFatGhR2QcElDGSAQAALI45AwAAWBzJAAAAFkcyAACAxZEMAABgcSQDAABYHMkAAAAWRzIAAIDFkQwALho4cKD69Olj/9y5c2eNGDGizOP48ssvZRiGUlNTnfYxDEMrV64s9jknTZqkVq1auRTXzz//LMMwlJiY6NJ5AJQekgF4pIEDB8owDBmGIR8fHzVs2FBTpkzR+fPnS/3a77//vp555pli9S3OFzgAlDbeTQCPddNNN2nhwoXKzs7Wxx9/rGHDhqlSpUoaN25ckb45OTny8fFxy3WrVavmlvMAQFmhMgCP5evrq/DwcEVFRemhhx5SbGysPvzwQ0n/Le1PnTpVERERaty4sSTp6NGjuuOOOxQSEqJq1aqpd+/e+vnnn+3nzMvL06hRoxQSEqLq1avriSee0F+f6P3XYYLs7Gw9+eSTioyMlK+vrxo2bKjXX39dP//8s/15+FWrVpVhGBo4cKCkgrdCxsfHq169evL391fLli31n//8x+E6H3/8sa688kr5+/urS5cuDnEW15NPPqkrr7xSlStXVv369TV+/Hjl5uYW6ffyyy8rMjJSlStX1h133KG0tDSH/a+99pqaNm0qPz8/NWnSRC+99FKJYwFQfkgGYBn+/v7Kycmxf163bp327dunNWvWaPXq1crNzVX37t0VGBior776Sl9//bWqVKmim266yX7cCy+8oEWLFumNN97Qpk2blJKSohUrVvzP6953333697//rTlz5mjv3r16+eWXVaVKFUVGRuq9996TJO3bt08nTpzQ7NmzJUnx8fF68803tWDBAu3evVsjR47UPffcow0bNkgqSFr69u2rW265RYmJiRoyZIjGjh1b4p9JYGCgFi1apD179mj27Nl69dVXNXPmTIc+Bw4c0DvvvKNVq1bp008/1c6dO/Xwww/b9y9dulQTJkzQ1KlTtXfvXj333HMaP368Fi9eXOJ4AJQTE/BAcXFxZu/evU3TNM38/HxzzZo1pq+vrzl69Gj7/rCwMDM7O9t+zJIlS8zGjRub+fn59rbs7GzT39/f/Oyzz0zTNM1atWqZ06ZNs+/Pzc01a9eubb+WaZpmp06dzMcee8w0TdPct2+fKclcs2bNBeP84osvTEnmmTNn7G1ZWVlm5cqVzc2bNzv0HTx4sHnXXXeZpmma48aNM6Ojox32P/nkk0XO9VeSzBUrVjjdP336dLNNmzb2zxMnTjS9vLzMX3/91d72ySefmDabzTxx4oRpmqbZoEEDc9myZQ7neeaZZ8yYmBjTNE3z8OHDpiRz586dTq8LoHwxZwAea/Xq1apSpYpyc3OVn5+vu+++W5MmTbLvb9GihcM8ge+++04HDhxQYGCgw3mysrJ08OBBpaWl6cSJEw6vbfb29lbbtm2LDBUUSkxMlJeXlzp16lTsuA8cOKBz587pxhtvdGjPycnR1VdfLUnau3dvkddHx8TEFPsahd5++23NmTNHBw8eVEZGhs6fP6+goCCHPnXq1NEVV1zhcJ38/Hzt27dPgYGBOnjwoAYPHqyhQ4fa+5w/f17BwcEljgdA+SAZgMfq0qWL5s+fLx8fH0VERMjb2/GPe0BAgMPnjIwMtWnTRkuXLi1yrpo1a15SDP7+/iU+JiMjQ5L00UcfOXwJSwXzINwlISFBAwYM0OTJk9W9e3cFBwdr+fLleuGFF0oc66uvvlokOfHy8nJbrABKF8kAPFZAQIAaNmxY7P6tW7fW22+/rdDQ0CK/HReqVauWtmzZoo4dO0oq+A14+/btat269QX7t2jRQvn5+dqwYYNiY2OL7C+sTOTl5dnboqOj5evrqyNHjjitKDRt2tQ+GbLQN998c/Gb/JPNmzcrKipKTz31lL3tl19+KdLvyJEjOn78uCIiIuzXsdlsaty4scLCwhQREaFDhw5pwIABJbo+gIqDCYTAHwYMGKAaNWqod+/e+uqrr3T48GF9+eWXevTRR/Xrr79Kkh577DH985//1MqVK/Xjjz/q4Ycf/p/PCKhbt67i4uJ0//33a+XKlfZzvvPOO5KkqKgoGYah1atX69SpU8rIyFBgYKBGjx6tkSNHavHixTp48KB27NihuXPn2ifl/f3vf9f+/fs1ZswY7du3T8uWLdOiRYtKdL+NGjXSkSNHtHz5ch08eFBz5sy54GRIPz8/xcXF6bvvvtNXX32lRx99VHfccYfCw8MlSZMnT1Z8fLzmzJmjn376Sbt27dLChQs1Y8aMEsUDoPyQDAB/qFy5sjZu3Kg6deqob9++atq0qQYPHqysrCx7peDxxx/Xvffeq7i4OMXExCgwMFC33Xbb/zzv/Pnzdfvtt+vhhx9WkyZNNHToUGVmZkqSrrjiCk2ePFljx45VWFiYhg8fLkl65plnNH78eMXHx6tp06a66aab9NFHH6levXqSCsbx33vvPa1cuVItW7bUggUL9Nxzz5Xofm+99VaNHDlSw4cPV6tWrbR582aNHz++SL+GDRuqb9++uvnmm9WtWzddddVVDksHhwwZotdee00LFy5UixYt1KlTJy1atMgeK4CKzzCdzXwCAACWQGUAAACLIxkAAMDiSAYAALA4kgEAACyOZAAAAIsjGQAAwOJIBgAAsDiSAQAALI5kAAAAiyMZAADA4kgGAACwOJIBAAAs7v8BaJcmoxp0hdIAAAAASUVORK5CYII=",
      "text/plain": [
       "<Figure size 640x480 with 2 Axes>"
      ]
     },
     "metadata": {},
     "output_type": "display_data"
    }
   ],
   "source": [
    "# confusion matrix\n",
    "from sklearn.metrics import ConfusionMatrixDisplay\n",
    "ConfusionMatrixDisplay.from_predictions(y_test,y_pred, cmap='GnBu')\n",
    "plt.title('Confusion Matrix')\n",
    "plt.show()"
   ]
  },
  {
   "cell_type": "markdown",
   "id": "7930f724-4594-47d0-8511-62312c222824",
   "metadata": {},
   "source": [
    "#### Logistic Regression \n",
    "\n",
    "1. Classification report \n",
    "2. Confison matrix\n",
    "3. ROC Cure \n"
   ]
  },
  {
   "cell_type": "code",
   "execution_count": 57,
   "id": "f0afdd0c-3895-4986-8d51-c78b085f0d5f",
   "metadata": {},
   "outputs": [],
   "source": [
    "log_regression = LogisticRegression(C=20)\n",
    "log_regression.fit(x_train,y_train)\n",
    "y_predict=log_regression.predict(x_test)"
   ]
  },
  {
   "cell_type": "code",
   "execution_count": 61,
   "id": "1d524deb-1787-434d-bf08-047017bbc937",
   "metadata": {},
   "outputs": [
    {
     "name": "stdout",
     "output_type": "stream",
     "text": [
      "Accuracy: 0.9466310873915944\n",
      "\n",
      "Classification report:\n",
      "               precision    recall  f1-score   support\n",
      "\n",
      "           0       0.95      0.98      0.96      1108\n",
      "           1       0.95      0.84      0.89       391\n",
      "\n",
      "    accuracy                           0.95      1499\n",
      "   macro avg       0.95      0.91      0.93      1499\n",
      "weighted avg       0.95      0.95      0.95      1499\n",
      "\n"
     ]
    }
   ],
   "source": [
    "# 1. Classication report for logistic regression \n",
    "\n",
    "print('Accuracy:', metrics.accuracy_score(y_test,y_predict))\n",
    "print('\\nClassification report:\\n', classification_report(y_test,y_predict))"
   ]
  },
  {
   "cell_type": "code",
   "execution_count": null,
   "id": "6058956c-92c2-49f1-bb1a-bf762b7c5b48",
   "metadata": {},
   "outputs": [],
   "source": [
    "# Confusion Matrix for Logistic regression \n",
    "\n",
    "cmatrix=confusion_matrix(y_test,y_predict)\n",
    "display = ConfusionMatrixDisplay(confusion_matrix=cmatrix)\n",
    "display.plot(cmap=plt.cm.Blues)\n",
    "plt.show()"
   ]
  },
  {
   "cell_type": "code",
   "execution_count": null,
   "id": "57eaa66e-767d-42a9-9191-291145305d41",
   "metadata": {},
   "outputs": [],
   "source": [
    "# 3. ROC Cure \n",
    "log_accuracy = accuracy_score(y_test, y_predict)\n",
    "y_prob = log_regression.predict_log_proba(x_test)[:,1]\n",
    "fpr,tpr,thresholds=roc_curve(y_test,y_prob)\n",
    "roc_auc= auc(fpr,tpr)\n",
    "\n",
    "plt.figure(figsize=(8,6))\n",
    "plt.plot(fpr,tpr,color='darkorange',lw=2,label=f'ROC Curve (AUC = {roc_auc:.2f})')\n",
    "plt.plot([0,1],[0,1], color ='navy', lw=2, linestyle='--',label='Random')\n",
    "plt.xlabel('False positive rate')\n",
    "plt.ylabel('True positive rate')\n",
    "plt.title('Receiver Operating Characteristics (ROC) Curve\\nAccuracy:{:.2f}\\\n",
    "%'.format(log_accuracy*100))\n",
    "plt.legend(loc='lower right')\n",
    "plt.show()"
   ]
  },
  {
   "cell_type": "raw",
   "id": "940e9b15-801e-4e15-95f7-00a98c1f2115",
   "metadata": {},
   "source": [
    "Analysis of classification Model (SVC) metrics.\n",
    "\n",
    "The model performs exceptionally well overall, with a high accuracy of 97%.\n",
    "\n",
    "For class 0 (good/acceptable product), the model is almost perfect, achieving a recall of 99%, which indicates very few false negatives.\n",
    "\n",
    "For class 1 (bad/unacceptable product), the model performs slightly less well, with a recall of 90%, indicating more false negatives compared to class 0.\n",
    "\n",
    "The precision for both classes is very high, with 97% for class 0 and 98% for class 1, indicating few false positives.\n",
    "\n",
    "The high F1-scores for both classes, especially for class 0 with a score of 0.98, suggest a strong balance between precision and recall. Class 1 also has a high F1-score of 0.94, reflecting good performance despite the lower recall.\n",
    "\n",
    "The macro average metrics (precision: 0.97, recall: 0.95, F1-score: 0.96) are slightly lower than the weighted average metrics (all at 0.97). This reflects the imbalanced nature of the dataset, with more instances of class 0 than class 1.\n",
    "\n",
    "Overall, the model shows excellent performance, especially in correctly identifying acceptable products, with slightly lower performance in identifying unacceptable products. Further improvements could focus on reducing false negatives for class 1.\n",
    "\n",
    "\n",
    "Overall, the model is highly effective, particularly for class 0. For class 1, while still performing well, there is a slightly higher incidence of false negatives. Further tuning might be necessary to improve recall for class 1, considering the high cost of missing instances of class 1(Bad product).\n",
    "\n",
    "\n",
    "Analysis of Logistic Model\n",
    "\n",
    "The logistic regression model demonstrates excellent overall performance:\n",
    "\n",
    "High Accuracy: 96.46%, indicating the model makes correct predictions most of the time.\n",
    "Excellent Precision and Recall: High values for both precision and recall across both classes suggest the model is effective at correctly identifying both acceptable and unacceptable products with few false positives and false negatives.\n",
    "Strong F1-Scores: High F1-scores, especially for class 0, indicate a good balance between precision and recall.\n",
    "AUC of 0.99: Reflects the model’s outstanding ability to discriminate between the two classes.\n",
    "\n",
    "The logistic regression model demonstrates excellent overall performance:\n",
    "\n",
    "High Accuracy: 96.46%, indicating the model makes correct predictions most of the time.\n",
    "Excellent Precision and Recall: High values for both precision and recall across both classes suggest the model is effective at correctly identifying both acceptable and unacceptable products with few false positives and false negatives.\n",
    "Strong F1-Scores: High F1-scores, especially for class 0, indicate a good balance between precision and recall.\n",
    "AUC of 0.99: Reflects the model’s outstanding ability to discriminate between the two classes.\n",
    "\n",
    "Conclusion and Recommendations\n",
    "The analysis indicates that certain features significantly influence the outcome and that the SVM and logistic models can effectively predict the target variable using these features. The TPC values and age significantly influence the outcome of the model.\n",
    "The classification report suggests that the SVC and logistic models perform exceptionally well on this dataset, with high scores across all metrics for both classes. The high accuracies and F1-scores indicate that the models are effective at balancing the rate of true positives and the rates of false positives and negatives, making them reliable for predictions on unseen data, assuming the data distribution is like that of the dataset used for training and evaluation.\n",
    "\n",
    "Recommendations: It is recommended to further explore the dataset with additional feature engineering, perhaps incorporating new data sources or derived variables. Future models could also explore ensemble methods that might leverage the strengths of multiple learning algorithms.\n"
   ]
  }
 ],
 "metadata": {
  "kernelspec": {
   "display_name": "Python 3 (ipykernel)",
   "language": "python",
   "name": "python3"
  },
  "language_info": {
   "codemirror_mode": {
    "name": "ipython",
    "version": 3
   },
   "file_extension": ".py",
   "mimetype": "text/x-python",
   "name": "python",
   "nbconvert_exporter": "python",
   "pygments_lexer": "ipython3",
   "version": "3.11.7"
  }
 },
 "nbformat": 4,
 "nbformat_minor": 5
}

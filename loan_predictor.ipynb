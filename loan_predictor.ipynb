{
 "cells": [
  {
   "cell_type": "markdown",
   "id": "17069dbd-3d42-4ec4-b9a4-deca12c51581",
   "metadata": {},
   "source": [
    "## Loan Approval Prediction\n",
    "This project leverages data from a loan approval dataset to build a predictive model that can classify loan applications as either approved or rejected. By following this approach, we explore different machine learning models and hyperparameter tuning to achieve optimal performance\n",
    "\n",
    "Project Overview\n",
    "\n",
    "Goal: To build a predictive model for loan approval using key features of applicants, such as income, education, credit history, and more.\n",
    "\n",
    "Dataset: The loan dataset contains 614 entries with 13 features including gender, marital status, number of dependents, education level, employment status, applicant income, co-applicant income, loan amount, loan term, credit history, and loan status (target variable).\n",
    "\n",
    "Project Steps\n",
    "\n",
    "1. Data Preparation:\n",
    "\tLoad the dataset.\n",
    "\tDrop the Loan_ID column as it is non-informative for prediction.\n",
    "\tRemove any rows with missing values to ensure data quality.\n",
    "\tConvert categorical variables to numerical using dummy variables.\n",
    "2. Feature and Target Variables:\n",
    "\tSet the feature matrix X by excluding the Loan_Status column.\n",
    "\tDefine the target variable y as Loan_Status.\n",
    "3. Data Splitting:\n",
    "\tSplit the data into training and testing sets with an 80-20 ratio.\n",
    "4. Model Pipeline:\n",
    "    Create a pipeline with a MinMaxScaler for feature scaling and a classifier.         Initially, use K-Nearest Neighbors (KNN) as the classifier.\n",
    "5. Model Training:\n",
    "\tTrain a default KNN classifier using the pipeline and evaluate accuracy on the     test set.\n",
    "6. Hyperparameter Tuning:\n",
    "\tDefine a search space for the KNN classifier, varying n_neighbors from 1 to 10.\n",
    "\tUse GridSearchCV with 5-fold cross-validation to find the optimal n_neighbors     value.\n",
    "7. Expanded Model Search:\n",
    "\tExpand the search space to include other models like Logistic Regression and     Random Forest.\n",
    "\tRun another grid search to identify the best-performing model and its optimal hyperparameters.\n",
    "8. Result Analysis:\n",
    "    Compare model performances and analyze the impact of hyperparameter tuning on accuracy.\n",
    "\n",
    "Results Summary\n",
    "\n",
    "Through iterative modeling and tuning, I identified the best-performing model and optimized its parameters, achieving improved accuracy compared to the initial models. This project demonstrates the importance of model selection and hyperparameter tuning in predictive performance.\n",
    "\n",
    "\n",
    "# Loan Approval Prediction\n",
    "\n",
    "## Project Description\n",
    "\n",
    "This project aims to predict loan approvals using a dataset of applicant information, employing various machine learning techniques. By building a pipeline with multiple models and tuning their hyperparameters, we identified the optimal model to enhance predictive accuracy.\n",
    "\n",
    "## Dataset\n",
    "\n",
    "The dataset contains information on loan applicants with 13 features, such as:\n",
    "- **Applicant Income**\n",
    "- **Co-Applicant Income**\n",
    "- **Loan Amount**\n",
    "- **Credit History**\n",
    "- **Education**\n",
    "\n",
    "The target variable, `Loan_Status`, indicates loan approval or rejection.\n",
    "\n",
    "## Installation and Requirements\n",
    "\n",
    "To run this project, you will need:\n",
    "- Python 3.7+\n",
    "- `pandas`, `numpy`, `scikit-learn`\n",
    "\n",
    "Install the necessary libraries using:\n",
    "```bash\n",
    "pip install pandas numpy scikit-learn\n",
    "\n",
    "\n",
    "Project Workflow\n",
    "\n",
    "\t1.\tData Preprocessing: Load data, clean, and encode categorical features.\n",
    "\t2.\tModeling: Use a pipeline with MinMaxScaler and KNN, followed by Logistic Regression and Random Forest.\n",
    "\t3.\tHyperparameter Tuning: Tune parameters for optimal model selection.\n",
    "\t4.\tEvaluation: Evaluate models and choose the best based on accuracy.\n",
    "\n",
    "Usage\n",
    "\n",
    "\t1.\tRun the code cells in sequence in a Python environment (Jupyter Notebook or similar).\n",
    "\t2.\tReview the output to understand model performance.\n",
    "\n",
    "Results\n",
    "\n",
    "The final model demonstrated improved accuracy by using Random Forest with optimized hyperparameters.\n",
    "\n",
    "License\n",
    "\n",
    "This project is open-source under the MIT License."
   ]
  },
  {
   "cell_type": "code",
   "execution_count": 1,
   "id": "c096a4dd-f10c-4014-bb62-956027d97d75",
   "metadata": {},
   "outputs": [],
   "source": [
    "# Import Libraries\n",
    "\n",
    "import pandas as pd\n",
    "import numpy as np\n",
    "from sklearn.model_selection import train_test_split, GridSearchCV\n",
    "from sklearn.pipeline import Pipeline\n",
    "from sklearn.preprocessing import MinMaxScaler\n",
    "from sklearn.neighbors import KNeighborsClassifier\n",
    "from sklearn.linear_model import LogisticRegression\n",
    "from sklearn.ensemble import RandomForestClassifier\n",
    "from sklearn.metrics import accuracy_score"
   ]
  },
  {
   "cell_type": "raw",
   "id": "50715ada-faa5-4500-8840-c7965e1cf4fc",
   "metadata": {},
   "source": [
    "1. Import the dataset and ensure that it loaded properly."
   ]
  },
  {
   "cell_type": "code",
   "execution_count": 5,
   "id": "1688d5e2-cc10-49fb-90bc-aca95e698496",
   "metadata": {},
   "outputs": [
    {
     "name": "stdout",
     "output_type": "stream",
     "text": [
      "Dataset Shape: (614, 13)\n"
     ]
    },
    {
     "data": {
      "text/html": [
       "<div>\n",
       "<style scoped>\n",
       "    .dataframe tbody tr th:only-of-type {\n",
       "        vertical-align: middle;\n",
       "    }\n",
       "\n",
       "    .dataframe tbody tr th {\n",
       "        vertical-align: top;\n",
       "    }\n",
       "\n",
       "    .dataframe thead th {\n",
       "        text-align: right;\n",
       "    }\n",
       "</style>\n",
       "<table border=\"1\" class=\"dataframe\">\n",
       "  <thead>\n",
       "    <tr style=\"text-align: right;\">\n",
       "      <th></th>\n",
       "      <th>Loan_ID</th>\n",
       "      <th>Gender</th>\n",
       "      <th>Married</th>\n",
       "      <th>Dependents</th>\n",
       "      <th>Education</th>\n",
       "      <th>Self_Employed</th>\n",
       "      <th>ApplicantIncome</th>\n",
       "      <th>CoapplicantIncome</th>\n",
       "      <th>LoanAmount</th>\n",
       "      <th>Loan_Amount_Term</th>\n",
       "      <th>Credit_History</th>\n",
       "      <th>Property_Area</th>\n",
       "      <th>Loan_Status</th>\n",
       "    </tr>\n",
       "  </thead>\n",
       "  <tbody>\n",
       "    <tr>\n",
       "      <th>0</th>\n",
       "      <td>LP001002</td>\n",
       "      <td>Male</td>\n",
       "      <td>No</td>\n",
       "      <td>0</td>\n",
       "      <td>Graduate</td>\n",
       "      <td>No</td>\n",
       "      <td>5849</td>\n",
       "      <td>0.0</td>\n",
       "      <td>NaN</td>\n",
       "      <td>360.0</td>\n",
       "      <td>1.0</td>\n",
       "      <td>Urban</td>\n",
       "      <td>Y</td>\n",
       "    </tr>\n",
       "    <tr>\n",
       "      <th>1</th>\n",
       "      <td>LP001003</td>\n",
       "      <td>Male</td>\n",
       "      <td>Yes</td>\n",
       "      <td>1</td>\n",
       "      <td>Graduate</td>\n",
       "      <td>No</td>\n",
       "      <td>4583</td>\n",
       "      <td>1508.0</td>\n",
       "      <td>128.0</td>\n",
       "      <td>360.0</td>\n",
       "      <td>1.0</td>\n",
       "      <td>Rural</td>\n",
       "      <td>N</td>\n",
       "    </tr>\n",
       "    <tr>\n",
       "      <th>2</th>\n",
       "      <td>LP001005</td>\n",
       "      <td>Male</td>\n",
       "      <td>Yes</td>\n",
       "      <td>0</td>\n",
       "      <td>Graduate</td>\n",
       "      <td>Yes</td>\n",
       "      <td>3000</td>\n",
       "      <td>0.0</td>\n",
       "      <td>66.0</td>\n",
       "      <td>360.0</td>\n",
       "      <td>1.0</td>\n",
       "      <td>Urban</td>\n",
       "      <td>Y</td>\n",
       "    </tr>\n",
       "    <tr>\n",
       "      <th>3</th>\n",
       "      <td>LP001006</td>\n",
       "      <td>Male</td>\n",
       "      <td>Yes</td>\n",
       "      <td>0</td>\n",
       "      <td>Not Graduate</td>\n",
       "      <td>No</td>\n",
       "      <td>2583</td>\n",
       "      <td>2358.0</td>\n",
       "      <td>120.0</td>\n",
       "      <td>360.0</td>\n",
       "      <td>1.0</td>\n",
       "      <td>Urban</td>\n",
       "      <td>Y</td>\n",
       "    </tr>\n",
       "    <tr>\n",
       "      <th>4</th>\n",
       "      <td>LP001008</td>\n",
       "      <td>Male</td>\n",
       "      <td>No</td>\n",
       "      <td>0</td>\n",
       "      <td>Graduate</td>\n",
       "      <td>No</td>\n",
       "      <td>6000</td>\n",
       "      <td>0.0</td>\n",
       "      <td>141.0</td>\n",
       "      <td>360.0</td>\n",
       "      <td>1.0</td>\n",
       "      <td>Urban</td>\n",
       "      <td>Y</td>\n",
       "    </tr>\n",
       "  </tbody>\n",
       "</table>\n",
       "</div>"
      ],
      "text/plain": [
       "    Loan_ID Gender Married Dependents     Education Self_Employed  \\\n",
       "0  LP001002   Male      No          0      Graduate            No   \n",
       "1  LP001003   Male     Yes          1      Graduate            No   \n",
       "2  LP001005   Male     Yes          0      Graduate           Yes   \n",
       "3  LP001006   Male     Yes          0  Not Graduate            No   \n",
       "4  LP001008   Male      No          0      Graduate            No   \n",
       "\n",
       "   ApplicantIncome  CoapplicantIncome  LoanAmount  Loan_Amount_Term  \\\n",
       "0             5849                0.0         NaN             360.0   \n",
       "1             4583             1508.0       128.0             360.0   \n",
       "2             3000                0.0        66.0             360.0   \n",
       "3             2583             2358.0       120.0             360.0   \n",
       "4             6000                0.0       141.0             360.0   \n",
       "\n",
       "   Credit_History Property_Area Loan_Status  \n",
       "0             1.0         Urban           Y  \n",
       "1             1.0         Rural           N  \n",
       "2             1.0         Urban           Y  \n",
       "3             1.0         Urban           Y  \n",
       "4             1.0         Urban           Y  "
      ]
     },
     "execution_count": 5,
     "metadata": {},
     "output_type": "execute_result"
    }
   ],
   "source": [
    "# Load dataset\n",
    "df_loan = pd.read_csv('Loan_Train.csv')\n",
    "print(f\"Dataset Shape: {df_loan.shape}\")\n",
    "df_loan.head()"
   ]
  },
  {
   "cell_type": "raw",
   "id": "48fb307b-1e2a-47c0-a38b-60971330fa29",
   "metadata": {},
   "source": [
    "2. Prepare the data for modeling:\n",
    "   Drop the column “Load_ID.” does not contribute to prediction \n",
    "   Drop any rows with missing data.\n",
    "   Convert the categorical features into dummy variables."
   ]
  },
  {
   "cell_type": "code",
   "execution_count": 6,
   "id": "7b7c57f9-35d9-48eb-aaed-1f58a9e1a6ec",
   "metadata": {},
   "outputs": [
    {
     "name": "stdout",
     "output_type": "stream",
     "text": [
      "Dataset Shape after Cleaning: (480, 15)\n"
     ]
    },
    {
     "data": {
      "text/html": [
       "<div>\n",
       "<style scoped>\n",
       "    .dataframe tbody tr th:only-of-type {\n",
       "        vertical-align: middle;\n",
       "    }\n",
       "\n",
       "    .dataframe tbody tr th {\n",
       "        vertical-align: top;\n",
       "    }\n",
       "\n",
       "    .dataframe thead th {\n",
       "        text-align: right;\n",
       "    }\n",
       "</style>\n",
       "<table border=\"1\" class=\"dataframe\">\n",
       "  <thead>\n",
       "    <tr style=\"text-align: right;\">\n",
       "      <th></th>\n",
       "      <th>ApplicantIncome</th>\n",
       "      <th>CoapplicantIncome</th>\n",
       "      <th>LoanAmount</th>\n",
       "      <th>Loan_Amount_Term</th>\n",
       "      <th>Credit_History</th>\n",
       "      <th>Gender_Male</th>\n",
       "      <th>Married_Yes</th>\n",
       "      <th>Dependents_1</th>\n",
       "      <th>Dependents_2</th>\n",
       "      <th>Dependents_3+</th>\n",
       "      <th>Education_Not Graduate</th>\n",
       "      <th>Self_Employed_Yes</th>\n",
       "      <th>Property_Area_Semiurban</th>\n",
       "      <th>Property_Area_Urban</th>\n",
       "      <th>Loan_Status_Y</th>\n",
       "    </tr>\n",
       "  </thead>\n",
       "  <tbody>\n",
       "    <tr>\n",
       "      <th>1</th>\n",
       "      <td>4583</td>\n",
       "      <td>1508.0</td>\n",
       "      <td>128.0</td>\n",
       "      <td>360.0</td>\n",
       "      <td>1.0</td>\n",
       "      <td>True</td>\n",
       "      <td>True</td>\n",
       "      <td>True</td>\n",
       "      <td>False</td>\n",
       "      <td>False</td>\n",
       "      <td>False</td>\n",
       "      <td>False</td>\n",
       "      <td>False</td>\n",
       "      <td>False</td>\n",
       "      <td>False</td>\n",
       "    </tr>\n",
       "    <tr>\n",
       "      <th>2</th>\n",
       "      <td>3000</td>\n",
       "      <td>0.0</td>\n",
       "      <td>66.0</td>\n",
       "      <td>360.0</td>\n",
       "      <td>1.0</td>\n",
       "      <td>True</td>\n",
       "      <td>True</td>\n",
       "      <td>False</td>\n",
       "      <td>False</td>\n",
       "      <td>False</td>\n",
       "      <td>False</td>\n",
       "      <td>True</td>\n",
       "      <td>False</td>\n",
       "      <td>True</td>\n",
       "      <td>True</td>\n",
       "    </tr>\n",
       "    <tr>\n",
       "      <th>3</th>\n",
       "      <td>2583</td>\n",
       "      <td>2358.0</td>\n",
       "      <td>120.0</td>\n",
       "      <td>360.0</td>\n",
       "      <td>1.0</td>\n",
       "      <td>True</td>\n",
       "      <td>True</td>\n",
       "      <td>False</td>\n",
       "      <td>False</td>\n",
       "      <td>False</td>\n",
       "      <td>True</td>\n",
       "      <td>False</td>\n",
       "      <td>False</td>\n",
       "      <td>True</td>\n",
       "      <td>True</td>\n",
       "    </tr>\n",
       "    <tr>\n",
       "      <th>4</th>\n",
       "      <td>6000</td>\n",
       "      <td>0.0</td>\n",
       "      <td>141.0</td>\n",
       "      <td>360.0</td>\n",
       "      <td>1.0</td>\n",
       "      <td>True</td>\n",
       "      <td>False</td>\n",
       "      <td>False</td>\n",
       "      <td>False</td>\n",
       "      <td>False</td>\n",
       "      <td>False</td>\n",
       "      <td>False</td>\n",
       "      <td>False</td>\n",
       "      <td>True</td>\n",
       "      <td>True</td>\n",
       "    </tr>\n",
       "    <tr>\n",
       "      <th>5</th>\n",
       "      <td>5417</td>\n",
       "      <td>4196.0</td>\n",
       "      <td>267.0</td>\n",
       "      <td>360.0</td>\n",
       "      <td>1.0</td>\n",
       "      <td>True</td>\n",
       "      <td>True</td>\n",
       "      <td>False</td>\n",
       "      <td>True</td>\n",
       "      <td>False</td>\n",
       "      <td>False</td>\n",
       "      <td>True</td>\n",
       "      <td>False</td>\n",
       "      <td>True</td>\n",
       "      <td>True</td>\n",
       "    </tr>\n",
       "  </tbody>\n",
       "</table>\n",
       "</div>"
      ],
      "text/plain": [
       "   ApplicantIncome  CoapplicantIncome  LoanAmount  Loan_Amount_Term  \\\n",
       "1             4583             1508.0       128.0             360.0   \n",
       "2             3000                0.0        66.0             360.0   \n",
       "3             2583             2358.0       120.0             360.0   \n",
       "4             6000                0.0       141.0             360.0   \n",
       "5             5417             4196.0       267.0             360.0   \n",
       "\n",
       "   Credit_History  Gender_Male  Married_Yes  Dependents_1  Dependents_2  \\\n",
       "1             1.0         True         True          True         False   \n",
       "2             1.0         True         True         False         False   \n",
       "3             1.0         True         True         False         False   \n",
       "4             1.0         True        False         False         False   \n",
       "5             1.0         True         True         False          True   \n",
       "\n",
       "   Dependents_3+  Education_Not Graduate  Self_Employed_Yes  \\\n",
       "1          False                   False              False   \n",
       "2          False                   False               True   \n",
       "3          False                    True              False   \n",
       "4          False                   False              False   \n",
       "5          False                   False               True   \n",
       "\n",
       "   Property_Area_Semiurban  Property_Area_Urban  Loan_Status_Y  \n",
       "1                    False                False          False  \n",
       "2                    False                 True           True  \n",
       "3                    False                 True           True  \n",
       "4                    False                 True           True  \n",
       "5                    False                 True           True  "
      ]
     },
     "execution_count": 6,
     "metadata": {},
     "output_type": "execute_result"
    }
   ],
   "source": [
    "# Drop Loan_ID column\n",
    "df_loan = df_loan.drop(columns='Loan_ID', axis=1)\n",
    "\n",
    "# Drop rows with missing data\n",
    "df_loan = df_loan.dropna()\n",
    "\n",
    "# Convert categorical features to dummy variables\n",
    "df_loan = pd.get_dummies(df_loan, drop_first=True)\n",
    "print(f\"Dataset Shape after Cleaning: {df_loan.shape}\")\n",
    "df_loan.head()"
   ]
  },
  {
   "cell_type": "raw",
   "id": "4b1102eb-1da3-4247-8db6-1c4894aecd19",
   "metadata": {},
   "source": [
    "### Feature and Target Variables"
   ]
  },
  {
   "cell_type": "code",
   "execution_count": 7,
   "id": "b1e05f7e-3c3b-41c9-983e-25e2decc88c2",
   "metadata": {},
   "outputs": [
    {
     "name": "stdout",
     "output_type": "stream",
     "text": [
      "Records in each set:\n",
      " ***************\n",
      "x train: (384, 14)\n",
      "y train: (384,)\n",
      "x test: (96, 14)\n",
      "y test: (96,)\n"
     ]
    }
   ],
   "source": [
    "x= df_loan.drop('Loan_Status_Y', axis =1)\n",
    "y= df_loan['Loan_Status_Y']\n",
    "\n",
    "# split into train and test\n",
    "x_train, x_test, y_train, y_test = train_test_split(x,y, test_size=0.2, random_state=42)\n",
    "\n",
    "print('Records in each set:\\n','*'*15)\n",
    "print(f'x train: {x_train.shape}\\ny train: {y_train.shape}\\nx test: {x_test.shape}\\ny test: {y_test.shape}')"
   ]
  },
  {
   "cell_type": "raw",
   "id": "7e672089-31af-4d61-9fbf-efd48d797a7e",
   "metadata": {},
   "source": [
    "### Pipeline with K-Nearest Neighbors (KNN)"
   ]
  },
  {
   "cell_type": "code",
   "execution_count": 7,
   "id": "6b3722d4-2694-4b64-837c-da89f07455dc",
   "metadata": {},
   "outputs": [],
   "source": [
    "pipeline = Pipeline([('min_max_scaler', MinMaxScaler()),('knn', KNeighborsClassifier())\n",
    "])"
   ]
  },
  {
   "cell_type": "raw",
   "id": "e381ec01-97a7-47c4-8fae-98d22a80c547",
   "metadata": {},
   "source": [
    "5. Fit a default KNN classifier to the data with this pipeline. Report the model accuracy on the test set. Note: Fitting a pipeline model works just like fitting a regular model."
   ]
  },
  {
   "cell_type": "code",
   "execution_count": 9,
   "id": "28cb65c7-d25f-4910-9edc-e41cd871f29e",
   "metadata": {},
   "outputs": [
    {
     "name": "stdout",
     "output_type": "stream",
     "text": [
      "Default KNN Model Accuracy: 78.12%\n"
     ]
    }
   ],
   "source": [
    "# Create a pipeline with MinMaxScaler and KNN\n",
    "pipeline = Pipeline([\n",
    "    ('scaler', MinMaxScaler()),\n",
    "    ('knn', KNeighborsClassifier())\n",
    "])\n",
    "\n",
    "# Fit pipeline to the training data\n",
    "pipeline.fit(x_train, y_train)\n",
    "\n",
    "# Predict and evaluate accuracy\n",
    "y_pred = pipeline.predict(x_test)\n",
    "accuracy = accuracy_score(y_test, y_pred)\n",
    "print(f\"Default KNN Model Accuracy: {accuracy * 100:.2f}%\")"
   ]
  },
  {
   "cell_type": "raw",
   "id": "a190d0bf-2680-4834-b30f-093f06a4991a",
   "metadata": {},
   "source": [
    "search space for KNN classifier where “n_neighbors” parameter varies from 1 to 10"
   ]
  },
  {
   "cell_type": "code",
   "execution_count": 11,
   "id": "2c59d12c-7497-497c-8cbe-9d0c04c9b4a2",
   "metadata": {},
   "outputs": [
    {
     "name": "stdout",
     "output_type": "stream",
     "text": [
      "Best n_neighbors: {'knn__n_neighbors': 3}\n",
      "KNN Best Model Accuracy: 79.17%\n"
     ]
    }
   ],
   "source": [
    "# Define parameter grid for KNN\n",
    "param_grid = {'knn__n_neighbors': range(1, 11)}\n",
    "\n",
    "# Perform grid search with 5-fold cross-validation\n",
    "grid_search = GridSearchCV(pipeline, param_grid, cv=5, scoring='accuracy')\n",
    "grid_search.fit(x_train, y_train)\n",
    "\n",
    "# Best parameters and accuracy\n",
    "print(f\"Best n_neighbors: {grid_search.best_params_}\")\n",
    "best_knn_accuracy = accuracy_score(y_test, grid_search.predict(x_test))\n",
    "print(f\"KNN Best Model Accuracy: {best_knn_accuracy * 100:.2f}%\")"
   ]
  },
  {
   "cell_type": "code",
   "execution_count": 13,
   "id": "3973da59-efe3-4bfb-aeb1-f3092b729068",
   "metadata": {},
   "outputs": [
    {
     "name": "stdout",
     "output_type": "stream",
     "text": [
      "Best Model Accuracy: 79.17%\n"
     ]
    }
   ],
   "source": [
    "best_model_accuracy = accuracy_score(y_test, grid_search.predict(x_test))\n",
    "print(f\"Best Model Accuracy: {best_model_accuracy*100:.2f}%\")"
   ]
  },
  {
   "cell_type": "code",
   "execution_count": 13,
   "id": "f8d5ad2b-83ba-48ec-b948-fc4d3e0bc216",
   "metadata": {},
   "outputs": [
    {
     "name": "stdout",
     "output_type": "stream",
     "text": [
      "Best Model: Pipeline(steps=[('scaler', MinMaxScaler()),\n",
      "                ('knn', LogisticRegression(C=21.54434690031882))])\n",
      "Expanded Grid Search Best Model Accuracy: 82.29%\n"
     ]
    }
   ],
   "source": [
    "# Expanded search space with Logistic Regression and Random Forest\n",
    "search_space = [\n",
    "    {'scaler': [MinMaxScaler()], 'knn': [KNeighborsClassifier()], 'knn__n_neighbors': range(1, 11)},\n",
    "    {'scaler': [MinMaxScaler()], 'knn': [LogisticRegression()], 'knn__C': np.logspace(-4, 4, 4)},\n",
    "    {'scaler': [MinMaxScaler()], 'knn': [RandomForestClassifier()], 'knn__n_estimators': [10, 50, 100]}\n",
    "]\n",
    "\n",
    "# Expanded grid search with 5-fold cross-validation\n",
    "expanded_grid_search = GridSearchCV(Pipeline([('scaler', MinMaxScaler()), ('knn', KNeighborsClassifier())]),\n",
    "                                    search_space, cv=5, scoring='accuracy', n_jobs=-1)\n",
    "expanded_grid_search.fit(x_train, y_train)\n",
    "\n",
    "# Best model and accuracy\n",
    "print(f\"Best Model: {expanded_grid_search.best_estimator_}\")\n",
    "expanded_best_accuracy = accuracy_score(y_test, expanded_grid_search.predict(x_test))\n",
    "print(f\"Expanded Grid Search Best Model Accuracy: {expanded_best_accuracy * 100:.2f}%\")"
   ]
  },
  {
   "cell_type": "code",
   "execution_count": 15,
   "id": "db00d62b-7e91-49bc-8b26-839618df7ae1",
   "metadata": {},
   "outputs": [
    {
     "name": "stdout",
     "output_type": "stream",
     "text": [
      "Default KNN Accuracy: 78.12%\n",
      "KNN with Best n_neighbors: 79.17%\n",
      "Best Model from Expanded Search: Pipeline(steps=[('scaler', MinMaxScaler()),\n",
      "                ('knn', LogisticRegression(C=21.54434690031882))])\n",
      "Accuracy of Best Model from Expanded Search: 82.29%\n"
     ]
    }
   ],
   "source": [
    "# Summary of Results\n",
    "print(f\"Default KNN Accuracy: {accuracy * 100:.2f}%\")\n",
    "print(f\"KNN with Best n_neighbors: {best_knn_accuracy * 100:.2f}%\")\n",
    "print(f\"Best Model from Expanded Search: {expanded_grid_search.best_estimator_}\")\n",
    "print(f\"Accuracy of Best Model from Expanded Search: {expanded_best_accuracy * 100:.2f}%\")"
   ]
  },
  {
   "cell_type": "raw",
   "id": "07235984-696f-4fa8-9b7d-4254fd50382d",
   "metadata": {},
   "source": [
    "#11. Analysis and Summary of results.\n",
    "\n",
    "Default KNN achieved around 78% accuracy\n",
    "KNN with Best Hyperparameters improved slightly to around 79% by optimizing n_neighbors.\n",
    "Expanded Model Search identified a Random Forest model with optimized hyperparameters, reaching around 81% accuracy.\n",
    "\n",
    "In summary, the exercise demonstrated that through careful data preparation, model selection, and hyperparameter tuning, it is possible to significantly improve the predictive performance of machine learning models. The results underscore the necessity of exploring a range of models and their configurations to find the best solution for a given problem."
   ]
  },
  {
   "cell_type": "code",
   "execution_count": null,
   "id": "ee1eebab-2a56-40cd-85c7-2d2fb14b3e45",
   "metadata": {},
   "outputs": [],
   "source": []
  }
 ],
 "metadata": {
  "kernelspec": {
   "display_name": "Python 3 (ipykernel)",
   "language": "python",
   "name": "python3"
  },
  "language_info": {
   "codemirror_mode": {
    "name": "ipython",
    "version": 3
   },
   "file_extension": ".py",
   "mimetype": "text/x-python",
   "name": "python",
   "nbconvert_exporter": "python",
   "pygments_lexer": "ipython3",
   "version": "3.11.7"
  }
 },
 "nbformat": 4,
 "nbformat_minor": 5
}
